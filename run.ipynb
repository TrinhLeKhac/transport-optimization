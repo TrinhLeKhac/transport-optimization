{
 "cells": [
  {
   "cell_type": "code",
   "execution_count": 1,
   "id": "09e8b21c-89e2-452a-b0e1-3bab5a5b17d4",
   "metadata": {
    "execution": {
     "iopub.execute_input": "2023-12-01T00:03:07.360557Z",
     "iopub.status.busy": "2023-12-01T00:03:07.359901Z",
     "iopub.status.idle": "2023-12-01T00:03:07.366813Z",
     "shell.execute_reply": "2023-12-01T00:03:07.365603Z",
     "shell.execute_reply.started": "2023-12-01T00:03:07.360433Z"
    }
   },
   "outputs": [],
   "source": [
    "# %run /home/trinhlk2/libs/utils.py"
   ]
  },
  {
   "cell_type": "code",
   "execution_count": 2,
   "id": "ccc919c9-10ec-4ee6-a2c1-eb628e52c734",
   "metadata": {
    "execution": {
     "iopub.execute_input": "2023-12-01T00:03:07.401484Z",
     "iopub.status.busy": "2023-12-01T00:03:07.401064Z",
     "iopub.status.idle": "2023-12-01T00:03:07.648285Z",
     "shell.execute_reply": "2023-12-01T00:03:07.647004Z",
     "shell.execute_reply.started": "2023-12-01T00:03:07.401428Z"
    }
   },
   "outputs": [],
   "source": [
    "import warnings\n",
    "warnings.filterwarnings(\"ignore\")"
   ]
  },
  {
   "cell_type": "code",
   "execution_count": 3,
   "id": "d4561fd6-9ed6-4c0e-a409-9913e1f69790",
   "metadata": {
    "execution": {
     "iopub.execute_input": "2023-12-01T00:03:07.653967Z",
     "iopub.status.busy": "2023-12-01T00:03:07.653559Z",
     "iopub.status.idle": "2023-12-01T00:03:07.701215Z",
     "shell.execute_reply": "2023-12-01T00:03:07.699968Z",
     "shell.execute_reply.started": "2023-12-01T00:03:07.653910Z"
    }
   },
   "outputs": [],
   "source": [
    "%load_ext autoreload\n",
    "%autoreload 2"
   ]
  },
  {
   "cell_type": "code",
   "execution_count": 4,
   "id": "ecf7f457-425c-4fd1-9c03-c592af94dcc1",
   "metadata": {
    "execution": {
     "iopub.execute_input": "2023-12-01T00:03:09.575496Z",
     "iopub.status.busy": "2023-12-01T00:03:09.574937Z",
     "iopub.status.idle": "2023-12-01T00:03:09.603060Z",
     "shell.execute_reply": "2023-12-01T00:03:09.601809Z",
     "shell.execute_reply.started": "2023-12-01T00:03:09.575432Z"
    }
   },
   "outputs": [],
   "source": [
    "# import os\n",
    "# import sys\n",
    "# ROOT_PATH = '/home/trinhlk2/adhoc/Old/supership'\n",
    "# os.chdir(ROOT_PATH)\n",
    "# sys.path.insert(1, os.path.join(os.getcwd()  , '..'))"
   ]
  },
  {
   "cell_type": "code",
   "execution_count": 5,
   "id": "5cf4ff2c-0be4-4abf-ad3e-43de1dd7fa48",
   "metadata": {
    "execution": {
     "iopub.execute_input": "2023-12-01T00:03:10.205399Z",
     "iopub.status.busy": "2023-12-01T00:03:10.204945Z",
     "iopub.status.idle": "2023-12-01T00:03:10.246515Z",
     "shell.execute_reply": "2023-12-01T00:03:10.245259Z",
     "shell.execute_reply.started": "2023-12-01T00:03:10.205328Z"
    }
   },
   "outputs": [
    {
     "data": {
      "text/plain": [
       "['/home/trinhlk2/adhoc/Old/supership',\n",
       " '/opt/spark/spark-3.0.2-bin-hadoop2.7/python',\n",
       " '/opt/spark/spark-3.0.2-bin-hadoop2.7/python/lib/py4j-0.10.9-src.zip',\n",
       " '/home/trinhlk2/envs/trinhlk2-python37/lib/python37.zip',\n",
       " '/home/trinhlk2/envs/trinhlk2-python37/lib/python3.7',\n",
       " '/home/trinhlk2/envs/trinhlk2-python37/lib/python3.7/lib-dynload',\n",
       " '',\n",
       " '/home/trinhlk2/envs/trinhlk2-python37/lib/python3.7/site-packages',\n",
       " '/home/trinhlk2/envs/trinhlk2-python37/lib/python3.7/site-packages/IPython/extensions',\n",
       " '/home/trinhlk2/.ipython']"
      ]
     },
     "execution_count": 5,
     "metadata": {},
     "output_type": "execute_result"
    }
   ],
   "source": [
    "import sys\n",
    "sys.path"
   ]
  },
  {
   "cell_type": "code",
   "execution_count": 6,
   "id": "b4a050ca-2518-4ea7-b996-c1837e174f93",
   "metadata": {
    "execution": {
     "iopub.execute_input": "2023-12-01T00:03:11.615497Z",
     "iopub.status.busy": "2023-12-01T00:03:11.614949Z",
     "iopub.status.idle": "2023-12-01T00:03:14.272416Z",
     "shell.execute_reply": "2023-12-01T00:03:14.270808Z",
     "shell.execute_reply.started": "2023-12-01T00:03:11.615435Z"
    }
   },
   "outputs": [],
   "source": [
    "from scripts.utilities.helper import *\n",
    "from scripts.utilities.config import *"
   ]
  },
  {
   "cell_type": "code",
   "execution_count": 7,
   "id": "58060af9-65e5-422a-bce2-1ff86c82b2e2",
   "metadata": {
    "execution": {
     "iopub.execute_input": "2023-12-01T00:03:14.275423Z",
     "iopub.status.busy": "2023-12-01T00:03:14.274949Z",
     "iopub.status.idle": "2023-12-01T00:03:14.318134Z",
     "shell.execute_reply": "2023-12-01T00:03:14.316889Z",
     "shell.execute_reply.started": "2023-12-01T00:03:14.275344Z"
    }
   },
   "outputs": [],
   "source": [
    "pd.set_option('display.max_columns', None)"
   ]
  },
  {
   "cell_type": "code",
   "execution_count": 8,
   "id": "4a42bc66-b830-4ee8-9d56-588a6d877464",
   "metadata": {
    "execution": {
     "iopub.execute_input": "2023-12-01T00:03:14.320830Z",
     "iopub.status.busy": "2023-12-01T00:03:14.320395Z",
     "iopub.status.idle": "2023-12-01T00:03:14.358058Z",
     "shell.execute_reply": "2023-12-01T00:03:14.356846Z",
     "shell.execute_reply.started": "2023-12-01T00:03:14.320775Z"
    },
    "scrolled": true
   },
   "outputs": [],
   "source": [
    "# import requests\n",
    "# result = requests.get('http://103.20.102.165:1235/api/v1/output/?batch=29946').json()\n",
    "# result"
   ]
  },
  {
   "cell_type": "markdown",
   "id": "4c6ef4e2-f268-4f0e-ab23-735b7bf1ac72",
   "metadata": {},
   "source": [
    "# Processing"
   ]
  },
  {
   "cell_type": "code",
   "execution_count": 9,
   "id": "6921887a-a81b-445b-a0f7-196e532e4e59",
   "metadata": {
    "execution": {
     "iopub.execute_input": "2023-12-01T00:03:14.360335Z",
     "iopub.status.busy": "2023-12-01T00:03:14.359904Z",
     "iopub.status.idle": "2023-12-01T00:03:14.514868Z",
     "shell.execute_reply": "2023-12-01T00:03:14.513544Z",
     "shell.execute_reply.started": "2023-12-01T00:03:14.360280Z"
    }
   },
   "outputs": [],
   "source": [
    "from scripts.processing.total_processing import total_processing"
   ]
  },
  {
   "cell_type": "code",
   "execution_count": 10,
   "id": "854f94f2-e1c3-4298-9d9a-5de7303accfb",
   "metadata": {
    "execution": {
     "iopub.execute_input": "2023-12-01T00:03:14.524691Z",
     "iopub.status.busy": "2023-12-01T00:03:14.524232Z",
     "iopub.status.idle": "2023-12-01T00:07:45.927955Z",
     "shell.execute_reply": "2023-12-01T00:07:45.926513Z",
     "shell.execute_reply.started": "2023-12-01T00:03:14.524634Z"
    },
    "scrolled": true
   },
   "outputs": [
    {
     "name": "stdout",
     "output_type": "stream",
     "text": [
      "1. Xử lý data bảng giá cước...\n",
      ">>> Done\n",
      "\n",
      "2. Xử lý data chất lượng nội bộ Ninja Van...\n",
      "Normalizing province...\n",
      "Before:  713\n",
      "After:  713\n",
      "Normalizing district...\n",
      "Before:  713\n",
      "After:  713\n",
      ">>> Done\n",
      "\n",
      "3. Xử lý data kho giao nhận...\n",
      "Ninja Van\n",
      "Normalizing province...\n",
      "Before:  536\n",
      "After:  536\n",
      "Normalizing district...\n",
      "Before:  536\n",
      "After:  536\n",
      "----------------------------------------------------------------------------------------------------\n",
      "GHN\n",
      "Normalizing province...\n",
      "Before:  1004\n",
      "After:  1000\n",
      "Normalizing district...\n",
      "Before:  1000\n",
      "After:  997\n",
      "----------------------------------------------------------------------------------------------------\n",
      "BEST Express\n",
      "Normalizing province...\n",
      "Before:  307\n",
      "After:  307\n",
      "Normalizing district...\n",
      "Before:  307\n",
      "After:  306\n",
      "----------------------------------------------------------------------------------------------------\n",
      "GHTK\n",
      "Normalizing province...\n",
      "Before:  330\n",
      "After:  227\n",
      "Normalizing district...\n",
      "Before:  227\n",
      "After:  165\n",
      "----------------------------------------------------------------------------------------------------\n",
      ">>> Done\n",
      "\n",
      "4. Xử lý data đánh giá ZNS...\n",
      "Normalizing province...\n",
      "Before:  4728\n",
      "After:  4728\n",
      "Normalizing district...\n",
      "Before:  4728\n",
      "After:  4728\n",
      ">>> Done\n",
      "\n",
      "5. Xử lý data ngưng giao nhận...\n",
      "Normalizing province...\n",
      "Before:  713\n",
      "After:  713\n",
      "Normalizing district...\n",
      "Before:  713\n",
      "After:  713\n",
      ">>> Done\n",
      "\n",
      "6. Xử lý data phân vùng nhà vận chuyển...\n",
      "Normalizing province...\n",
      "Before:  4278\n",
      "After:  4278\n",
      "Normalizing district...\n",
      "Before:  4278\n",
      "After:  4278\n",
      ">>> Done\n",
      "\n",
      "7. Xử lý data giao dịch...\n",
      "Xử lý giao dịch BEST Express...\n",
      "Xử lý giao dịch Ninja Van...\n",
      "Xử lý giao dịch GHN...\n",
      "Xử lý giao dịch Viettel Post...\n",
      "Xử lý giao dịch SPX Express...\n",
      "Xử lý giao dịch GHTK...\n",
      "Tổng hợp giao dịch...\n",
      "Lưu thông tin...\n",
      ">>> Done\n",
      "\n",
      "8. Xử lý data giao dịch có khối lượng...\n",
      "Lưu thông tin...\n",
      ">>> Done\n",
      "\n",
      "9. Tổng hợp thông tin giao dịch...\n",
      "Đọc thông tin giao dịch và giao dịch có khối lượng...\n",
      "Combine thông tin giao dịch\n",
      "Số giao dịch hợp lệ:  77959\n",
      "Tách địa chỉ tỉnh/thành, quận/huyện lấy hàng từ kho nhận\n",
      "Chuẩn hóa thông tin tỉnh/thành, quận/huyện lấy hàng...\n",
      "Normalizing province...\n",
      "Before:  77959\n",
      "After:  77959\n",
      "Normalizing district...\n",
      "Before:  77959\n",
      "After:  77959\n",
      "Chuẩn hóa thông tin tỉnh/thành, quận/huyện giao hàng...\n",
      "Normalizing province...\n",
      "Before:  77959\n",
      "After:  77959\n",
      "Normalizing district...\n",
      "Before:  77959\n",
      "After:  77959\n",
      "Số giao dịch sau khi chuẩn hóa tỉnh/thành, quận/huyện:  77959\n",
      "Tính toán loại vận chuyển từ địa chỉ giao và nhận...\n",
      "Lưu thông tin...\n",
      ">>> Done\n",
      "\n"
     ]
    }
   ],
   "source": [
    "total_processing()"
   ]
  },
  {
   "cell_type": "markdown",
   "id": "1465dd74-9328-4b1f-b3ee-56668e88daf9",
   "metadata": {},
   "source": [
    "# Transform"
   ]
  },
  {
   "cell_type": "code",
   "execution_count": 11,
   "id": "759f9503-cee3-4eed-9c59-ba266276e78a",
   "metadata": {
    "execution": {
     "iopub.execute_input": "2023-12-01T00:07:45.930920Z",
     "iopub.status.busy": "2023-12-01T00:07:45.930479Z",
     "iopub.status.idle": "2023-12-01T00:07:47.058438Z",
     "shell.execute_reply": "2023-12-01T00:07:47.056874Z",
     "shell.execute_reply.started": "2023-12-01T00:07:45.930860Z"
    }
   },
   "outputs": [],
   "source": [
    "from scripts.transform.total_transform import total_transform"
   ]
  },
  {
   "cell_type": "code",
   "execution_count": 12,
   "id": "283079ef-dc89-4969-a8e9-b72c01832b45",
   "metadata": {
    "execution": {
     "iopub.execute_input": "2023-12-01T00:07:47.061779Z",
     "iopub.status.busy": "2023-12-01T00:07:47.061311Z",
     "iopub.status.idle": "2023-12-01T00:07:49.165907Z",
     "shell.execute_reply": "2023-12-01T00:07:49.164752Z",
     "shell.execute_reply.started": "2023-12-01T00:07:47.061718Z"
    },
    "scrolled": true
   },
   "outputs": [
    {
     "name": "stdout",
     "output_type": "stream",
     "text": [
      "1. Transform data kho giao nhận...\n",
      "Done\n",
      "\n",
      "2. Transform data đánh giá ZNS...\n",
      "Done\n",
      "\n",
      "3. Transform data tỉ lệ giao hàng...\n",
      ">>> Done\n",
      "\n",
      "4. Transform data chất lượng nội bộ...\n",
      ">>> Done\n",
      "\n",
      "5. Transform data thời gian giao hàng toàn trình...\n",
      ">>> Done\n",
      "\n",
      "6. Transform data kho giao nhận...\n",
      ">>> Done\n",
      "\n"
     ]
    }
   ],
   "source": [
    "(\n",
    "    ngung_giao_nhan, danh_gia_zns,\n",
    "    ti_le_giao_hang, chat_luong_noi_bo,\n",
    "    thoi_gian_giao_hang, kho_giao_nhan,\n",
    ") = total_transform(show_logs=True)"
   ]
  },
  {
   "cell_type": "markdown",
   "id": "3d09fa4d-3757-44fe-850e-4babca8a4473",
   "metadata": {},
   "source": [
    "# Data API"
   ]
  },
  {
   "cell_type": "code",
   "execution_count": 13,
   "id": "cd6bb298-8916-4e40-8b09-1338d398abfb",
   "metadata": {
    "execution": {
     "iopub.execute_input": "2023-12-01T00:07:49.167878Z",
     "iopub.status.busy": "2023-12-01T00:07:49.167598Z",
     "iopub.status.idle": "2023-12-01T00:07:49.241200Z",
     "shell.execute_reply": "2023-12-01T00:07:49.240129Z",
     "shell.execute_reply.started": "2023-12-01T00:07:49.167840Z"
    }
   },
   "outputs": [],
   "source": [
    "from scripts.output.out_data_api import out_data_api"
   ]
  },
  {
   "cell_type": "code",
   "execution_count": 14,
   "id": "56cf5336-b376-4e47-8ec2-8b1d7a75c4bd",
   "metadata": {
    "execution": {
     "iopub.execute_input": "2023-12-01T00:07:49.242670Z",
     "iopub.status.busy": "2023-12-01T00:07:49.242397Z",
     "iopub.status.idle": "2023-12-01T00:07:52.455682Z",
     "shell.execute_reply": "2023-12-01T00:07:52.453995Z",
     "shell.execute_reply.started": "2023-12-01T00:07:49.242633Z"
    },
    "scrolled": true
   },
   "outputs": [
    {
     "name": "stdout",
     "output_type": "stream",
     "text": [
      "1. Transform dữ liệu...\n",
      "2. Tính toán quận huyện quá tải\n",
      "3. Xử lý data thời gian giao dịch\n",
      "4. Xủ lý score\n",
      "5. Combine api data\n",
      "6. Gắn thông tin quá tải\n",
      "7. Thông tin nhà vận chuyển nhanh nhất, hiệu quả nhất\n",
      "8. Thông tin customer_best_carrier\n",
      "9. Thông tin số sao đánh giá của khách hàng\n",
      "Shape:  (29946, 16)\n",
      "9. Lưu dữ liệu API\n",
      ">>> Done\n",
      "\n"
     ]
    }
   ],
   "source": [
    "out_data_api(return_full_cols_df=False)"
   ]
  },
  {
   "cell_type": "code",
   "execution_count": 15,
   "id": "eb42a71b-b5b4-45b9-9137-d1f745337898",
   "metadata": {
    "execution": {
     "iopub.execute_input": "2023-12-01T00:07:52.458779Z",
     "iopub.status.busy": "2023-12-01T00:07:52.458278Z",
     "iopub.status.idle": "2023-12-01T00:07:52.543422Z",
     "shell.execute_reply": "2023-12-01T00:07:52.542111Z",
     "shell.execute_reply.started": "2023-12-01T00:07:52.458718Z"
    },
    "scrolled": true
   },
   "outputs": [
    {
     "data": {
      "text/plain": [
       "receiver_province_code     object\n",
       "receiver_district_code     object\n",
       "carrier_id                  int64\n",
       "new_type                   object\n",
       "status                     object\n",
       "description                object\n",
       "time_data                 float64\n",
       "time_display               object\n",
       "speed_ranking               int64\n",
       "score_ranking               int64\n",
       "for_shop                    int64\n",
       "total_order                 int64\n",
       "rate_ranking                int64\n",
       "rate                      float64\n",
       "score                     float64\n",
       "star                      float64\n",
       "dtype: object"
      ]
     },
     "execution_count": 15,
     "metadata": {},
     "output_type": "execute_result"
    }
   ],
   "source": [
    "data_api_df = pd.read_parquet(ROOT_PATH + '/output/data_api.parquet')\n",
    "data_api_df.dtypes"
   ]
  },
  {
   "cell_type": "code",
   "execution_count": 16,
   "id": "cb516b7e-b23a-4780-86eb-1e7ca8351f61",
   "metadata": {
    "execution": {
     "iopub.execute_input": "2023-12-01T00:07:52.545597Z",
     "iopub.status.busy": "2023-12-01T00:07:52.545140Z",
     "iopub.status.idle": "2023-12-01T00:07:55.592112Z",
     "shell.execute_reply": "2023-12-01T00:07:55.590713Z",
     "shell.execute_reply.started": "2023-12-01T00:07:52.545540Z"
    },
    "scrolled": true
   },
   "outputs": [
    {
     "name": "stdout",
     "output_type": "stream",
     "text": [
      "1. Transform dữ liệu...\n",
      "2. Tính toán quận huyện quá tải\n",
      "3. Xử lý data thời gian giao dịch\n",
      "4. Xủ lý score\n",
      "5. Combine api data\n",
      "6. Gắn thông tin quá tải\n",
      "7. Thông tin nhà vận chuyển nhanh nhất, hiệu quả nhất\n",
      "8. Thông tin customer_best_carrier\n",
      "9. Thông tin số sao đánh giá của khách hàng\n"
     ]
    },
    {
     "data": {
      "text/html": [
       "<div>\n",
       "<style scoped>\n",
       "    .dataframe tbody tr th:only-of-type {\n",
       "        vertical-align: middle;\n",
       "    }\n",
       "\n",
       "    .dataframe tbody tr th {\n",
       "        vertical-align: top;\n",
       "    }\n",
       "\n",
       "    .dataframe thead th {\n",
       "        text-align: right;\n",
       "    }\n",
       "</style>\n",
       "<table border=\"1\" class=\"dataframe\">\n",
       "  <thead>\n",
       "    <tr style=\"text-align: right;\">\n",
       "      <th></th>\n",
       "      <th>receiver_province_code</th>\n",
       "      <th>receiver_province</th>\n",
       "      <th>receiver_district_code</th>\n",
       "      <th>receiver_district</th>\n",
       "      <th>carrier_id</th>\n",
       "      <th>carrier</th>\n",
       "      <th>order_type</th>\n",
       "      <th>new_type</th>\n",
       "      <th>status</th>\n",
       "      <th>description</th>\n",
       "      <th>time_data</th>\n",
       "      <th>time_display</th>\n",
       "      <th>for_shop</th>\n",
       "      <th>speed_ranking</th>\n",
       "      <th>score_ranking</th>\n",
       "      <th>total_order</th>\n",
       "      <th>rate_ranking</th>\n",
       "      <th>rate</th>\n",
       "      <th>score</th>\n",
       "      <th>star</th>\n",
       "    </tr>\n",
       "  </thead>\n",
       "  <tbody>\n",
       "    <tr>\n",
       "      <th>0</th>\n",
       "      <td>01</td>\n",
       "      <td>Thành phố Hà Nội</td>\n",
       "      <td>001</td>\n",
       "      <td>Quận Ba Đình</td>\n",
       "      <td>1</td>\n",
       "      <td>GHTK</td>\n",
       "      <td>Nội Miền</td>\n",
       "      <td>5</td>\n",
       "      <td>0</td>\n",
       "      <td>Bình thường</td>\n",
       "      <td>2.00</td>\n",
       "      <td>1.75 - 2.25 ngày</td>\n",
       "      <td>4</td>\n",
       "      <td>3</td>\n",
       "      <td>5</td>\n",
       "      <td>2</td>\n",
       "      <td>2</td>\n",
       "      <td>100.00</td>\n",
       "      <td>0.51</td>\n",
       "      <td>5.0</td>\n",
       "    </tr>\n",
       "    <tr>\n",
       "      <th>1</th>\n",
       "      <td>01</td>\n",
       "      <td>Thành phố Hà Nội</td>\n",
       "      <td>001</td>\n",
       "      <td>Quận Ba Đình</td>\n",
       "      <td>1</td>\n",
       "      <td>GHTK</td>\n",
       "      <td>Cận Miền</td>\n",
       "      <td>6</td>\n",
       "      <td>0</td>\n",
       "      <td>Bình thường</td>\n",
       "      <td>3.00</td>\n",
       "      <td>2.75 - 3.25 ngày</td>\n",
       "      <td>5</td>\n",
       "      <td>4</td>\n",
       "      <td>5</td>\n",
       "      <td>2</td>\n",
       "      <td>2</td>\n",
       "      <td>100.00</td>\n",
       "      <td>0.51</td>\n",
       "      <td>5.0</td>\n",
       "    </tr>\n",
       "    <tr>\n",
       "      <th>2</th>\n",
       "      <td>01</td>\n",
       "      <td>Thành phố Hà Nội</td>\n",
       "      <td>001</td>\n",
       "      <td>Quận Ba Đình</td>\n",
       "      <td>1</td>\n",
       "      <td>GHTK</td>\n",
       "      <td>Cách Miền</td>\n",
       "      <td>7</td>\n",
       "      <td>0</td>\n",
       "      <td>Bình thường</td>\n",
       "      <td>4.00</td>\n",
       "      <td>3.75 - 4.25 ngày</td>\n",
       "      <td>4</td>\n",
       "      <td>4</td>\n",
       "      <td>5</td>\n",
       "      <td>2</td>\n",
       "      <td>2</td>\n",
       "      <td>100.00</td>\n",
       "      <td>0.51</td>\n",
       "      <td>5.0</td>\n",
       "    </tr>\n",
       "    <tr>\n",
       "      <th>3</th>\n",
       "      <td>01</td>\n",
       "      <td>Thành phố Hà Nội</td>\n",
       "      <td>001</td>\n",
       "      <td>Quận Ba Đình</td>\n",
       "      <td>1</td>\n",
       "      <td>GHTK</td>\n",
       "      <td>Nội Thành Tỉnh</td>\n",
       "      <td>1</td>\n",
       "      <td>0</td>\n",
       "      <td>Bình thường</td>\n",
       "      <td>2.00</td>\n",
       "      <td>1.75 - 2.25 ngày</td>\n",
       "      <td>4</td>\n",
       "      <td>1</td>\n",
       "      <td>5</td>\n",
       "      <td>2</td>\n",
       "      <td>2</td>\n",
       "      <td>100.00</td>\n",
       "      <td>0.51</td>\n",
       "      <td>5.0</td>\n",
       "    </tr>\n",
       "    <tr>\n",
       "      <th>4</th>\n",
       "      <td>01</td>\n",
       "      <td>Thành phố Hà Nội</td>\n",
       "      <td>001</td>\n",
       "      <td>Quận Ba Đình</td>\n",
       "      <td>1</td>\n",
       "      <td>GHTK</td>\n",
       "      <td>Ngoại Thành Tỉnh</td>\n",
       "      <td>2</td>\n",
       "      <td>0</td>\n",
       "      <td>Bình thường</td>\n",
       "      <td>2.00</td>\n",
       "      <td>1.75 - 2.25 ngày</td>\n",
       "      <td>4</td>\n",
       "      <td>1</td>\n",
       "      <td>5</td>\n",
       "      <td>2</td>\n",
       "      <td>2</td>\n",
       "      <td>100.00</td>\n",
       "      <td>0.51</td>\n",
       "      <td>5.0</td>\n",
       "    </tr>\n",
       "    <tr>\n",
       "      <th>...</th>\n",
       "      <td>...</td>\n",
       "      <td>...</td>\n",
       "      <td>...</td>\n",
       "      <td>...</td>\n",
       "      <td>...</td>\n",
       "      <td>...</td>\n",
       "      <td>...</td>\n",
       "      <td>...</td>\n",
       "      <td>...</td>\n",
       "      <td>...</td>\n",
       "      <td>...</td>\n",
       "      <td>...</td>\n",
       "      <td>...</td>\n",
       "      <td>...</td>\n",
       "      <td>...</td>\n",
       "      <td>...</td>\n",
       "      <td>...</td>\n",
       "      <td>...</td>\n",
       "      <td>...</td>\n",
       "      <td>...</td>\n",
       "    </tr>\n",
       "    <tr>\n",
       "      <th>29941</th>\n",
       "      <td>96</td>\n",
       "      <td>Tỉnh Cà Mau</td>\n",
       "      <td>973</td>\n",
       "      <td>Huyện Ngọc Hiển</td>\n",
       "      <td>10</td>\n",
       "      <td>SPX Express</td>\n",
       "      <td>Cách Miền</td>\n",
       "      <td>7</td>\n",
       "      <td>0</td>\n",
       "      <td>Bình thường</td>\n",
       "      <td>2.92</td>\n",
       "      <td>2.7 - 3.2 ngày</td>\n",
       "      <td>1</td>\n",
       "      <td>1</td>\n",
       "      <td>1</td>\n",
       "      <td>29</td>\n",
       "      <td>3</td>\n",
       "      <td>96.55</td>\n",
       "      <td>0.80</td>\n",
       "      <td>5.0</td>\n",
       "    </tr>\n",
       "    <tr>\n",
       "      <th>29942</th>\n",
       "      <td>96</td>\n",
       "      <td>Tỉnh Cà Mau</td>\n",
       "      <td>973</td>\n",
       "      <td>Huyện Ngọc Hiển</td>\n",
       "      <td>10</td>\n",
       "      <td>SPX Express</td>\n",
       "      <td>Nội Thành Tỉnh</td>\n",
       "      <td>1</td>\n",
       "      <td>0</td>\n",
       "      <td>Bình thường</td>\n",
       "      <td>2.00</td>\n",
       "      <td>1.75 - 2.25 ngày</td>\n",
       "      <td>2</td>\n",
       "      <td>1</td>\n",
       "      <td>1</td>\n",
       "      <td>29</td>\n",
       "      <td>3</td>\n",
       "      <td>96.55</td>\n",
       "      <td>0.80</td>\n",
       "      <td>5.0</td>\n",
       "    </tr>\n",
       "    <tr>\n",
       "      <th>29943</th>\n",
       "      <td>96</td>\n",
       "      <td>Tỉnh Cà Mau</td>\n",
       "      <td>973</td>\n",
       "      <td>Huyện Ngọc Hiển</td>\n",
       "      <td>10</td>\n",
       "      <td>SPX Express</td>\n",
       "      <td>Ngoại Thành Tỉnh</td>\n",
       "      <td>2</td>\n",
       "      <td>0</td>\n",
       "      <td>Bình thường</td>\n",
       "      <td>2.00</td>\n",
       "      <td>1.75 - 2.25 ngày</td>\n",
       "      <td>2</td>\n",
       "      <td>1</td>\n",
       "      <td>1</td>\n",
       "      <td>29</td>\n",
       "      <td>3</td>\n",
       "      <td>96.55</td>\n",
       "      <td>0.80</td>\n",
       "      <td>5.0</td>\n",
       "    </tr>\n",
       "    <tr>\n",
       "      <th>29944</th>\n",
       "      <td>96</td>\n",
       "      <td>Tỉnh Cà Mau</td>\n",
       "      <td>973</td>\n",
       "      <td>Huyện Ngọc Hiển</td>\n",
       "      <td>10</td>\n",
       "      <td>SPX Express</td>\n",
       "      <td>Nội Thành Tp.HCM - HN</td>\n",
       "      <td>3</td>\n",
       "      <td>0</td>\n",
       "      <td>Bình thường</td>\n",
       "      <td>2.00</td>\n",
       "      <td>1.75 - 2.25 ngày</td>\n",
       "      <td>2</td>\n",
       "      <td>1</td>\n",
       "      <td>1</td>\n",
       "      <td>29</td>\n",
       "      <td>3</td>\n",
       "      <td>96.55</td>\n",
       "      <td>0.80</td>\n",
       "      <td>5.0</td>\n",
       "    </tr>\n",
       "    <tr>\n",
       "      <th>29945</th>\n",
       "      <td>96</td>\n",
       "      <td>Tỉnh Cà Mau</td>\n",
       "      <td>973</td>\n",
       "      <td>Huyện Ngọc Hiển</td>\n",
       "      <td>10</td>\n",
       "      <td>SPX Express</td>\n",
       "      <td>Ngoại Thành Tp.HCM - HN</td>\n",
       "      <td>4</td>\n",
       "      <td>0</td>\n",
       "      <td>Bình thường</td>\n",
       "      <td>2.00</td>\n",
       "      <td>1.75 - 2.25 ngày</td>\n",
       "      <td>2</td>\n",
       "      <td>1</td>\n",
       "      <td>1</td>\n",
       "      <td>29</td>\n",
       "      <td>3</td>\n",
       "      <td>96.55</td>\n",
       "      <td>0.80</td>\n",
       "      <td>5.0</td>\n",
       "    </tr>\n",
       "  </tbody>\n",
       "</table>\n",
       "<p>29946 rows × 20 columns</p>\n",
       "</div>"
      ],
      "text/plain": [
       "      receiver_province_code receiver_province receiver_district_code  \\\n",
       "0                         01  Thành phố Hà Nội                    001   \n",
       "1                         01  Thành phố Hà Nội                    001   \n",
       "2                         01  Thành phố Hà Nội                    001   \n",
       "3                         01  Thành phố Hà Nội                    001   \n",
       "4                         01  Thành phố Hà Nội                    001   \n",
       "...                      ...               ...                    ...   \n",
       "29941                     96       Tỉnh Cà Mau                    973   \n",
       "29942                     96       Tỉnh Cà Mau                    973   \n",
       "29943                     96       Tỉnh Cà Mau                    973   \n",
       "29944                     96       Tỉnh Cà Mau                    973   \n",
       "29945                     96       Tỉnh Cà Mau                    973   \n",
       "\n",
       "      receiver_district  carrier_id      carrier               order_type  \\\n",
       "0          Quận Ba Đình           1         GHTK                 Nội Miền   \n",
       "1          Quận Ba Đình           1         GHTK                 Cận Miền   \n",
       "2          Quận Ba Đình           1         GHTK                Cách Miền   \n",
       "3          Quận Ba Đình           1         GHTK           Nội Thành Tỉnh   \n",
       "4          Quận Ba Đình           1         GHTK         Ngoại Thành Tỉnh   \n",
       "...                 ...         ...          ...                      ...   \n",
       "29941   Huyện Ngọc Hiển          10  SPX Express                Cách Miền   \n",
       "29942   Huyện Ngọc Hiển          10  SPX Express           Nội Thành Tỉnh   \n",
       "29943   Huyện Ngọc Hiển          10  SPX Express         Ngoại Thành Tỉnh   \n",
       "29944   Huyện Ngọc Hiển          10  SPX Express    Nội Thành Tp.HCM - HN   \n",
       "29945   Huyện Ngọc Hiển          10  SPX Express  Ngoại Thành Tp.HCM - HN   \n",
       "\n",
       "      new_type status  description  time_data      time_display  for_shop  \\\n",
       "0            5      0  Bình thường       2.00  1.75 - 2.25 ngày         4   \n",
       "1            6      0  Bình thường       3.00  2.75 - 3.25 ngày         5   \n",
       "2            7      0  Bình thường       4.00  3.75 - 4.25 ngày         4   \n",
       "3            1      0  Bình thường       2.00  1.75 - 2.25 ngày         4   \n",
       "4            2      0  Bình thường       2.00  1.75 - 2.25 ngày         4   \n",
       "...        ...    ...          ...        ...               ...       ...   \n",
       "29941        7      0  Bình thường       2.92    2.7 - 3.2 ngày         1   \n",
       "29942        1      0  Bình thường       2.00  1.75 - 2.25 ngày         2   \n",
       "29943        2      0  Bình thường       2.00  1.75 - 2.25 ngày         2   \n",
       "29944        3      0  Bình thường       2.00  1.75 - 2.25 ngày         2   \n",
       "29945        4      0  Bình thường       2.00  1.75 - 2.25 ngày         2   \n",
       "\n",
       "       speed_ranking  score_ranking  total_order  rate_ranking    rate  score  \\\n",
       "0                  3              5            2             2  100.00   0.51   \n",
       "1                  4              5            2             2  100.00   0.51   \n",
       "2                  4              5            2             2  100.00   0.51   \n",
       "3                  1              5            2             2  100.00   0.51   \n",
       "4                  1              5            2             2  100.00   0.51   \n",
       "...              ...            ...          ...           ...     ...    ...   \n",
       "29941              1              1           29             3   96.55   0.80   \n",
       "29942              1              1           29             3   96.55   0.80   \n",
       "29943              1              1           29             3   96.55   0.80   \n",
       "29944              1              1           29             3   96.55   0.80   \n",
       "29945              1              1           29             3   96.55   0.80   \n",
       "\n",
       "       star  \n",
       "0       5.0  \n",
       "1       5.0  \n",
       "2       5.0  \n",
       "3       5.0  \n",
       "4       5.0  \n",
       "...     ...  \n",
       "29941   5.0  \n",
       "29942   5.0  \n",
       "29943   5.0  \n",
       "29944   5.0  \n",
       "29945   5.0  \n",
       "\n",
       "[29946 rows x 20 columns]"
      ]
     },
     "execution_count": 16,
     "metadata": {},
     "output_type": "execute_result"
    }
   ],
   "source": [
    "data_api_full_df = out_data_api(return_full_cols_df=True)\n",
    "data_api_full_df"
   ]
  },
  {
   "cell_type": "markdown",
   "id": "ca5361fc-bf95-4d04-b6e2-a28c31f118f0",
   "metadata": {},
   "source": [
    "# Trả kết quả API theo đơn đầu vào"
   ]
  },
  {
   "cell_type": "code",
   "execution_count": 17,
   "id": "d682ed0e-be8c-44ea-96fa-dbaeab28c794",
   "metadata": {
    "execution": {
     "iopub.execute_input": "2023-12-01T00:07:55.596303Z",
     "iopub.status.busy": "2023-12-01T00:07:55.595870Z",
     "iopub.status.idle": "2023-12-01T00:07:55.698618Z",
     "shell.execute_reply": "2023-12-01T00:07:55.696934Z",
     "shell.execute_reply.started": "2023-12-01T00:07:55.596245Z"
    }
   },
   "outputs": [],
   "source": [
    "from scripts.output.out_data_final import *"
   ]
  },
  {
   "cell_type": "code",
   "execution_count": 18,
   "id": "f843cb55-4a53-48eb-abf9-d3bb42093568",
   "metadata": {
    "execution": {
     "iopub.execute_input": "2023-12-01T00:07:55.701642Z",
     "iopub.status.busy": "2023-12-01T00:07:55.701169Z",
     "iopub.status.idle": "2023-12-01T00:08:58.573246Z",
     "shell.execute_reply": "2023-12-01T00:08:58.571671Z",
     "shell.execute_reply.started": "2023-12-01T00:07:55.701580Z"
    },
    "scrolled": true
   },
   "outputs": [
    {
     "name": "stdout",
     "output_type": "stream",
     "text": [
      "Số dòng input dữ liệu:  77959\n",
      "i. Tính toán order_type\n",
      "ii. Gắn thông tin tính toán từ API\n",
      "iii. Tính phí dịch vụ\n",
      "iv. Tính ranking nhà vận chuyển theo tiêu chí rẻ nhất\n",
      "v. Tính nhà vận chuyển tốt nhất cho đối tác\n",
      "vi. Lưu data tính toán...\n",
      "Shape:  (467754, 30)\n",
      "----------------------------------------------------------------------------------------------------\n"
     ]
    }
   ],
   "source": [
    "data_check_output = out_data_final()"
   ]
  },
  {
   "cell_type": "markdown",
   "id": "adddf812-253f-407d-904c-dcc1bcedabb7",
   "metadata": {},
   "source": [
    "# Đẩy data toàn bộ vào DB"
   ]
  },
  {
   "cell_type": "code",
   "execution_count": 19,
   "id": "705728ca-fcd0-4f4f-9984-2fecc9416d77",
   "metadata": {
    "execution": {
     "iopub.execute_input": "2023-12-01T00:08:58.576090Z",
     "iopub.status.busy": "2023-12-01T00:08:58.575648Z",
     "iopub.status.idle": "2023-12-01T00:08:59.709244Z",
     "shell.execute_reply": "2023-12-01T00:08:59.707666Z",
     "shell.execute_reply.started": "2023-12-01T00:08:58.576030Z"
    }
   },
   "outputs": [],
   "source": [
    "from scripts.output.out_data_query_db import *"
   ]
  },
  {
   "cell_type": "code",
   "execution_count": 20,
   "id": "c1e074ff-b2d0-4db9-89a6-738f3e7bfe5b",
   "metadata": {
    "execution": {
     "iopub.execute_input": "2023-12-01T00:08:59.711886Z",
     "iopub.status.busy": "2023-12-01T00:08:59.711445Z",
     "iopub.status.idle": "2023-12-01T00:09:13.478613Z",
     "shell.execute_reply": "2023-12-01T00:09:13.476983Z",
     "shell.execute_reply.started": "2023-12-01T00:08:59.711828Z"
    }
   },
   "outputs": [
    {
     "name": "stdout",
     "output_type": "stream",
     "text": [
      "1. Xử lý data phân vùng nhà vận chuyển...\n",
      "2. Mapping 713 * 713 tỉnh thành, quận huyện gửi/nhận...\n",
      "3. Mapping order_type...\n",
      "4. Mapping system_order_type...\n",
      "5. Transform data final...\n",
      "6. Saving data...\n"
     ]
    }
   ],
   "source": [
    "out_data_order_type()"
   ]
  },
  {
   "cell_type": "code",
   "execution_count": 21,
   "id": "01a74647-36ce-4bf6-86fb-fa947954009b",
   "metadata": {
    "execution": {
     "iopub.execute_input": "2023-12-01T00:09:13.481265Z",
     "iopub.status.busy": "2023-12-01T00:09:13.480859Z",
     "iopub.status.idle": "2023-12-01T00:09:13.594605Z",
     "shell.execute_reply": "2023-12-01T00:09:13.593476Z",
     "shell.execute_reply.started": "2023-12-01T00:09:13.481208Z"
    }
   },
   "outputs": [
    {
     "name": "stdout",
     "output_type": "stream",
     "text": [
      "Xử lý data service_fee...\n"
     ]
    }
   ],
   "source": [
    "out_data_service_fee()"
   ]
  },
  {
   "cell_type": "markdown",
   "id": "1057d357-a695-4944-bcb8-86692f2fa6e7",
   "metadata": {},
   "source": [
    "## Đối chiếu câu query"
   ]
  },
  {
   "cell_type": "code",
   "execution_count": 22,
   "id": "f0a2ac8f-48ed-4a8d-ac8e-fb2cbfa41aca",
   "metadata": {
    "execution": {
     "iopub.execute_input": "2023-12-01T00:09:13.596653Z",
     "iopub.status.busy": "2023-12-01T00:09:13.596235Z",
     "iopub.status.idle": "2023-12-01T00:09:14.703873Z",
     "shell.execute_reply": "2023-12-01T00:09:14.702497Z",
     "shell.execute_reply.started": "2023-12-01T00:09:13.596601Z"
    }
   },
   "outputs": [],
   "source": [
    "data_api = pd.read_parquet(ROOT_PATH + '/output/data_api.parquet')\n",
    "data_order_type = pd.read_parquet(ROOT_PATH + '/output/data_order_type.parquet')\n",
    "service_fee = pd.read_parquet(ROOT_PATH + '/output/service_fee.parquet')"
   ]
  },
  {
   "cell_type": "code",
   "execution_count": 23,
   "id": "83b96bd2-2110-4595-9d0e-8593ac3fc77b",
   "metadata": {
    "execution": {
     "iopub.execute_input": "2023-12-01T00:09:14.706501Z",
     "iopub.status.busy": "2023-12-01T00:09:14.705961Z",
     "iopub.status.idle": "2023-12-01T00:09:15.714011Z",
     "shell.execute_reply": "2023-12-01T00:09:15.713307Z",
     "shell.execute_reply.started": "2023-12-01T00:09:14.706439Z"
    }
   },
   "outputs": [
    {
     "data": {
      "text/html": [
       "<div>\n",
       "<style scoped>\n",
       "    .dataframe tbody tr th:only-of-type {\n",
       "        vertical-align: middle;\n",
       "    }\n",
       "\n",
       "    .dataframe tbody tr th {\n",
       "        vertical-align: top;\n",
       "    }\n",
       "\n",
       "    .dataframe thead th {\n",
       "        text-align: right;\n",
       "    }\n",
       "</style>\n",
       "<table border=\"1\" class=\"dataframe\">\n",
       "  <thead>\n",
       "    <tr style=\"text-align: right;\">\n",
       "      <th></th>\n",
       "      <th>id</th>\n",
       "      <th>carrier_id</th>\n",
       "      <th>sender_province_code</th>\n",
       "      <th>sender_district_code</th>\n",
       "      <th>receiver_province_code</th>\n",
       "      <th>receiver_district_code</th>\n",
       "      <th>new_type</th>\n",
       "      <th>route_type</th>\n",
       "    </tr>\n",
       "  </thead>\n",
       "  <tbody>\n",
       "    <tr>\n",
       "      <th>6964</th>\n",
       "      <td>6964</td>\n",
       "      <td>1</td>\n",
       "      <td>01</td>\n",
       "      <td>016</td>\n",
       "      <td>77</td>\n",
       "      <td>747</td>\n",
       "      <td>7</td>\n",
       "      <td>4</td>\n",
       "    </tr>\n",
       "    <tr>\n",
       "      <th>515333</th>\n",
       "      <td>515333</td>\n",
       "      <td>2</td>\n",
       "      <td>01</td>\n",
       "      <td>016</td>\n",
       "      <td>77</td>\n",
       "      <td>747</td>\n",
       "      <td>7</td>\n",
       "      <td>4</td>\n",
       "    </tr>\n",
       "    <tr>\n",
       "      <th>1023702</th>\n",
       "      <td>1023702</td>\n",
       "      <td>4</td>\n",
       "      <td>01</td>\n",
       "      <td>016</td>\n",
       "      <td>77</td>\n",
       "      <td>747</td>\n",
       "      <td>7</td>\n",
       "      <td>4</td>\n",
       "    </tr>\n",
       "    <tr>\n",
       "      <th>1532071</th>\n",
       "      <td>1532071</td>\n",
       "      <td>6</td>\n",
       "      <td>01</td>\n",
       "      <td>016</td>\n",
       "      <td>77</td>\n",
       "      <td>747</td>\n",
       "      <td>7</td>\n",
       "      <td>4</td>\n",
       "    </tr>\n",
       "    <tr>\n",
       "      <th>2040440</th>\n",
       "      <td>2040440</td>\n",
       "      <td>7</td>\n",
       "      <td>01</td>\n",
       "      <td>016</td>\n",
       "      <td>77</td>\n",
       "      <td>747</td>\n",
       "      <td>7</td>\n",
       "      <td>4</td>\n",
       "    </tr>\n",
       "    <tr>\n",
       "      <th>2548809</th>\n",
       "      <td>2548809</td>\n",
       "      <td>10</td>\n",
       "      <td>01</td>\n",
       "      <td>016</td>\n",
       "      <td>77</td>\n",
       "      <td>747</td>\n",
       "      <td>7</td>\n",
       "      <td>4</td>\n",
       "    </tr>\n",
       "  </tbody>\n",
       "</table>\n",
       "</div>"
      ],
      "text/plain": [
       "              id  carrier_id sender_province_code sender_district_code  \\\n",
       "6964        6964           1                   01                  016   \n",
       "515333    515333           2                   01                  016   \n",
       "1023702  1023702           4                   01                  016   \n",
       "1532071  1532071           6                   01                  016   \n",
       "2040440  2040440           7                   01                  016   \n",
       "2548809  2548809          10                   01                  016   \n",
       "\n",
       "        receiver_province_code receiver_district_code new_type route_type  \n",
       "6964                        77                    747        7          4  \n",
       "515333                      77                    747        7          4  \n",
       "1023702                     77                    747        7          4  \n",
       "1532071                     77                    747        7          4  \n",
       "2040440                     77                    747        7          4  \n",
       "2548809                     77                    747        7          4  "
      ]
     },
     "execution_count": 23,
     "metadata": {},
     "output_type": "execute_result"
    }
   ],
   "source": [
    "data_order_type.loc[\n",
    "        (data_order_type['sender_province_code'] == \"01\") &\n",
    "        (data_order_type['sender_district_code'] == \"016\") &\n",
    "        (data_order_type['receiver_province_code'] == \"77\") &\n",
    "        (data_order_type['receiver_district_code'] == \"747\")\n",
    "    ]"
   ]
  },
  {
   "cell_type": "code",
   "execution_count": 31,
   "id": "f066c2bc-e5fa-4f94-b8fa-28e0de1ce5df",
   "metadata": {
    "execution": {
     "iopub.execute_input": "2023-12-01T00:18:09.711421Z",
     "iopub.status.busy": "2023-12-01T00:18:09.710766Z",
     "iopub.status.idle": "2023-12-01T00:18:10.947402Z",
     "shell.execute_reply": "2023-12-01T00:18:10.945988Z",
     "shell.execute_reply.started": "2023-12-01T00:18:09.711337Z"
    }
   },
   "outputs": [
    {
     "data": {
      "text/html": [
       "<div>\n",
       "<style scoped>\n",
       "    .dataframe tbody tr th:only-of-type {\n",
       "        vertical-align: middle;\n",
       "    }\n",
       "\n",
       "    .dataframe tbody tr th {\n",
       "        vertical-align: top;\n",
       "    }\n",
       "\n",
       "    .dataframe thead th {\n",
       "        text-align: right;\n",
       "    }\n",
       "</style>\n",
       "<table border=\"1\" class=\"dataframe\">\n",
       "  <thead>\n",
       "    <tr style=\"text-align: right;\">\n",
       "      <th></th>\n",
       "      <th>carrier_id</th>\n",
       "      <th>receiver_province_code</th>\n",
       "      <th>receiver_district_code</th>\n",
       "      <th>new_type</th>\n",
       "      <th>status</th>\n",
       "      <th>description</th>\n",
       "      <th>time_data</th>\n",
       "      <th>time_display</th>\n",
       "      <th>rate</th>\n",
       "      <th>score</th>\n",
       "      <th>star</th>\n",
       "      <th>for_shop</th>\n",
       "      <th>speed_ranking</th>\n",
       "      <th>score_ranking</th>\n",
       "      <th>rate_ranking</th>\n",
       "    </tr>\n",
       "  </thead>\n",
       "  <tbody>\n",
       "    <tr>\n",
       "      <th>22976</th>\n",
       "      <td>1</td>\n",
       "      <td>77</td>\n",
       "      <td>747</td>\n",
       "      <td>7</td>\n",
       "      <td>0</td>\n",
       "      <td>Bình thường</td>\n",
       "      <td>3.50</td>\n",
       "      <td>3.2 - 3.8 ngày</td>\n",
       "      <td>100.00</td>\n",
       "      <td>0.57</td>\n",
       "      <td>5.0</td>\n",
       "      <td>2</td>\n",
       "      <td>2</td>\n",
       "      <td>5</td>\n",
       "      <td>2</td>\n",
       "    </tr>\n",
       "    <tr>\n",
       "      <th>22983</th>\n",
       "      <td>2</td>\n",
       "      <td>77</td>\n",
       "      <td>747</td>\n",
       "      <td>7</td>\n",
       "      <td>0</td>\n",
       "      <td>Bình thường</td>\n",
       "      <td>3.46</td>\n",
       "      <td>3.2 - 3.7 ngày</td>\n",
       "      <td>100.00</td>\n",
       "      <td>1.00</td>\n",
       "      <td>4.7</td>\n",
       "      <td>1</td>\n",
       "      <td>1</td>\n",
       "      <td>1</td>\n",
       "      <td>1</td>\n",
       "    </tr>\n",
       "    <tr>\n",
       "      <th>22990</th>\n",
       "      <td>4</td>\n",
       "      <td>77</td>\n",
       "      <td>747</td>\n",
       "      <td>7</td>\n",
       "      <td>0</td>\n",
       "      <td>Bình thường</td>\n",
       "      <td>4.11</td>\n",
       "      <td>3.9 - 4.4 ngày</td>\n",
       "      <td>90.57</td>\n",
       "      <td>0.72</td>\n",
       "      <td>4.8</td>\n",
       "      <td>6</td>\n",
       "      <td>6</td>\n",
       "      <td>4</td>\n",
       "      <td>6</td>\n",
       "    </tr>\n",
       "    <tr>\n",
       "      <th>22997</th>\n",
       "      <td>6</td>\n",
       "      <td>77</td>\n",
       "      <td>747</td>\n",
       "      <td>7</td>\n",
       "      <td>0</td>\n",
       "      <td>Bình thường</td>\n",
       "      <td>3.59</td>\n",
       "      <td>3.3 - 3.8 ngày</td>\n",
       "      <td>92.74</td>\n",
       "      <td>0.95</td>\n",
       "      <td>4.7</td>\n",
       "      <td>3</td>\n",
       "      <td>3</td>\n",
       "      <td>2</td>\n",
       "      <td>5</td>\n",
       "    </tr>\n",
       "    <tr>\n",
       "      <th>23004</th>\n",
       "      <td>7</td>\n",
       "      <td>77</td>\n",
       "      <td>747</td>\n",
       "      <td>7</td>\n",
       "      <td>0</td>\n",
       "      <td>Bình thường</td>\n",
       "      <td>3.76</td>\n",
       "      <td>3.5 - 4.0 ngày</td>\n",
       "      <td>94.62</td>\n",
       "      <td>0.84</td>\n",
       "      <td>4.7</td>\n",
       "      <td>4</td>\n",
       "      <td>4</td>\n",
       "      <td>3</td>\n",
       "      <td>4</td>\n",
       "    </tr>\n",
       "    <tr>\n",
       "      <th>23011</th>\n",
       "      <td>10</td>\n",
       "      <td>77</td>\n",
       "      <td>747</td>\n",
       "      <td>7</td>\n",
       "      <td>0</td>\n",
       "      <td>Bình thường</td>\n",
       "      <td>4.00</td>\n",
       "      <td>3.75 - 4.25 ngày</td>\n",
       "      <td>100.00</td>\n",
       "      <td>0.24</td>\n",
       "      <td>5.0</td>\n",
       "      <td>5</td>\n",
       "      <td>5</td>\n",
       "      <td>6</td>\n",
       "      <td>3</td>\n",
       "    </tr>\n",
       "  </tbody>\n",
       "</table>\n",
       "</div>"
      ],
      "text/plain": [
       "       carrier_id receiver_province_code receiver_district_code new_type  \\\n",
       "22976           1                     77                    747        7   \n",
       "22983           2                     77                    747        7   \n",
       "22990           4                     77                    747        7   \n",
       "22997           6                     77                    747        7   \n",
       "23004           7                     77                    747        7   \n",
       "23011          10                     77                    747        7   \n",
       "\n",
       "      status  description  time_data      time_display    rate  score  star  \\\n",
       "22976      0  Bình thường       3.50    3.2 - 3.8 ngày  100.00   0.57   5.0   \n",
       "22983      0  Bình thường       3.46    3.2 - 3.7 ngày  100.00   1.00   4.7   \n",
       "22990      0  Bình thường       4.11    3.9 - 4.4 ngày   90.57   0.72   4.8   \n",
       "22997      0  Bình thường       3.59    3.3 - 3.8 ngày   92.74   0.95   4.7   \n",
       "23004      0  Bình thường       3.76    3.5 - 4.0 ngày   94.62   0.84   4.7   \n",
       "23011      0  Bình thường       4.00  3.75 - 4.25 ngày  100.00   0.24   5.0   \n",
       "\n",
       "       for_shop  speed_ranking  score_ranking  rate_ranking  \n",
       "22976         2              2              5             2  \n",
       "22983         1              1              1             1  \n",
       "22990         6              6              4             6  \n",
       "22997         3              3              2             5  \n",
       "23004         4              4              3             4  \n",
       "23011         5              5              6             3  "
      ]
     },
     "execution_count": 31,
     "metadata": {},
     "output_type": "execute_result"
    }
   ],
   "source": [
    "data_api_local = pd.read_parquet(ROOT_PATH + '/data_api.parquet')\n",
    "(\n",
    "    data_api_local.loc[\n",
    "        (data_api_local['receiver_province_code'] == '77') &\n",
    "        (data_api_local['receiver_district_code'] == '747') &\n",
    "        (data_api_local['new_type'] == '7')\n",
    "    ][[\n",
    "        'carrier_id', 'receiver_province_code', 'receiver_district_code', 'new_type',\n",
    "        'status', 'description', 'time_data', 'time_display', 'rate', 'score', 'star',\n",
    "        'for_shop', 'speed_ranking', 'score_ranking', 'rate_ranking',\n",
    "    ]]\n",
    ")"
   ]
  },
  {
   "cell_type": "code",
   "execution_count": 25,
   "id": "67a8eafb-aa1b-4fd5-a3c9-85bb3d75a3e3",
   "metadata": {
    "execution": {
     "iopub.execute_input": "2023-12-01T00:09:34.044691Z",
     "iopub.status.busy": "2023-12-01T00:09:34.044098Z",
     "iopub.status.idle": "2023-12-01T00:09:34.151799Z",
     "shell.execute_reply": "2023-12-01T00:09:34.150562Z",
     "shell.execute_reply.started": "2023-12-01T00:09:34.044626Z"
    }
   },
   "outputs": [
    {
     "data": {
      "text/html": [
       "<div>\n",
       "<style scoped>\n",
       "    .dataframe tbody tr th:only-of-type {\n",
       "        vertical-align: middle;\n",
       "    }\n",
       "\n",
       "    .dataframe tbody tr th {\n",
       "        vertical-align: top;\n",
       "    }\n",
       "\n",
       "    .dataframe thead th {\n",
       "        text-align: right;\n",
       "    }\n",
       "</style>\n",
       "<table border=\"1\" class=\"dataframe\">\n",
       "  <thead>\n",
       "    <tr style=\"text-align: right;\">\n",
       "      <th></th>\n",
       "      <th>carrier_id</th>\n",
       "      <th>receiver_province_code</th>\n",
       "      <th>receiver_district_code</th>\n",
       "      <th>new_type</th>\n",
       "      <th>status</th>\n",
       "      <th>description</th>\n",
       "      <th>time_data</th>\n",
       "      <th>time_display</th>\n",
       "      <th>rate</th>\n",
       "      <th>score</th>\n",
       "      <th>star</th>\n",
       "      <th>for_shop</th>\n",
       "      <th>speed_ranking</th>\n",
       "      <th>score_ranking</th>\n",
       "      <th>rate_ranking</th>\n",
       "    </tr>\n",
       "  </thead>\n",
       "  <tbody>\n",
       "    <tr>\n",
       "      <th>22976</th>\n",
       "      <td>1</td>\n",
       "      <td>77</td>\n",
       "      <td>747</td>\n",
       "      <td>7</td>\n",
       "      <td>0</td>\n",
       "      <td>Bình thường</td>\n",
       "      <td>3.50</td>\n",
       "      <td>3.2 - 3.8 ngày</td>\n",
       "      <td>100.00</td>\n",
       "      <td>0.56</td>\n",
       "      <td>5.0</td>\n",
       "      <td>2</td>\n",
       "      <td>2</td>\n",
       "      <td>5</td>\n",
       "      <td>2</td>\n",
       "    </tr>\n",
       "    <tr>\n",
       "      <th>22983</th>\n",
       "      <td>2</td>\n",
       "      <td>77</td>\n",
       "      <td>747</td>\n",
       "      <td>7</td>\n",
       "      <td>0</td>\n",
       "      <td>Bình thường</td>\n",
       "      <td>3.46</td>\n",
       "      <td>3.2 - 3.7 ngày</td>\n",
       "      <td>100.00</td>\n",
       "      <td>0.98</td>\n",
       "      <td>4.7</td>\n",
       "      <td>1</td>\n",
       "      <td>1</td>\n",
       "      <td>1</td>\n",
       "      <td>1</td>\n",
       "    </tr>\n",
       "    <tr>\n",
       "      <th>22990</th>\n",
       "      <td>4</td>\n",
       "      <td>77</td>\n",
       "      <td>747</td>\n",
       "      <td>7</td>\n",
       "      <td>0</td>\n",
       "      <td>Bình thường</td>\n",
       "      <td>4.11</td>\n",
       "      <td>3.9 - 4.4 ngày</td>\n",
       "      <td>90.57</td>\n",
       "      <td>0.71</td>\n",
       "      <td>4.8</td>\n",
       "      <td>6</td>\n",
       "      <td>6</td>\n",
       "      <td>4</td>\n",
       "      <td>6</td>\n",
       "    </tr>\n",
       "    <tr>\n",
       "      <th>22997</th>\n",
       "      <td>6</td>\n",
       "      <td>77</td>\n",
       "      <td>747</td>\n",
       "      <td>7</td>\n",
       "      <td>0</td>\n",
       "      <td>Bình thường</td>\n",
       "      <td>3.99</td>\n",
       "      <td>3.7 - 4.2 ngày</td>\n",
       "      <td>92.74</td>\n",
       "      <td>0.90</td>\n",
       "      <td>4.7</td>\n",
       "      <td>4</td>\n",
       "      <td>4</td>\n",
       "      <td>2</td>\n",
       "      <td>5</td>\n",
       "    </tr>\n",
       "    <tr>\n",
       "      <th>23004</th>\n",
       "      <td>7</td>\n",
       "      <td>77</td>\n",
       "      <td>747</td>\n",
       "      <td>7</td>\n",
       "      <td>0</td>\n",
       "      <td>Bình thường</td>\n",
       "      <td>3.76</td>\n",
       "      <td>3.5 - 4.0 ngày</td>\n",
       "      <td>94.62</td>\n",
       "      <td>0.83</td>\n",
       "      <td>4.7</td>\n",
       "      <td>3</td>\n",
       "      <td>3</td>\n",
       "      <td>3</td>\n",
       "      <td>4</td>\n",
       "    </tr>\n",
       "    <tr>\n",
       "      <th>23011</th>\n",
       "      <td>10</td>\n",
       "      <td>77</td>\n",
       "      <td>747</td>\n",
       "      <td>7</td>\n",
       "      <td>0</td>\n",
       "      <td>Bình thường</td>\n",
       "      <td>4.00</td>\n",
       "      <td>3.75 - 4.25 ngày</td>\n",
       "      <td>100.00</td>\n",
       "      <td>0.25</td>\n",
       "      <td>5.0</td>\n",
       "      <td>5</td>\n",
       "      <td>5</td>\n",
       "      <td>6</td>\n",
       "      <td>3</td>\n",
       "    </tr>\n",
       "  </tbody>\n",
       "</table>\n",
       "</div>"
      ],
      "text/plain": [
       "       carrier_id receiver_province_code receiver_district_code new_type  \\\n",
       "22976           1                     77                    747        7   \n",
       "22983           2                     77                    747        7   \n",
       "22990           4                     77                    747        7   \n",
       "22997           6                     77                    747        7   \n",
       "23004           7                     77                    747        7   \n",
       "23011          10                     77                    747        7   \n",
       "\n",
       "      status  description  time_data      time_display    rate  score  star  \\\n",
       "22976      0  Bình thường       3.50    3.2 - 3.8 ngày  100.00   0.56   5.0   \n",
       "22983      0  Bình thường       3.46    3.2 - 3.7 ngày  100.00   0.98   4.7   \n",
       "22990      0  Bình thường       4.11    3.9 - 4.4 ngày   90.57   0.71   4.8   \n",
       "22997      0  Bình thường       3.99    3.7 - 4.2 ngày   92.74   0.90   4.7   \n",
       "23004      0  Bình thường       3.76    3.5 - 4.0 ngày   94.62   0.83   4.7   \n",
       "23011      0  Bình thường       4.00  3.75 - 4.25 ngày  100.00   0.25   5.0   \n",
       "\n",
       "       for_shop  speed_ranking  score_ranking  rate_ranking  \n",
       "22976         2              2              5             2  \n",
       "22983         1              1              1             1  \n",
       "22990         6              6              4             6  \n",
       "22997         4              4              2             5  \n",
       "23004         3              3              3             4  \n",
       "23011         5              5              6             3  "
      ]
     },
     "execution_count": 25,
     "metadata": {},
     "output_type": "execute_result"
    }
   ],
   "source": [
    "(\n",
    "    data_api.loc[\n",
    "        (data_api['receiver_province_code'] == '77') &\n",
    "        (data_api['receiver_district_code'] == '747') &\n",
    "        (data_api['new_type'] == '7')\n",
    "    ][[\n",
    "        'carrier_id', 'receiver_province_code', 'receiver_district_code', 'new_type',\n",
    "        'status', 'description', 'time_data', 'time_display', 'rate', 'score', 'star',\n",
    "        'for_shop', 'speed_ranking', 'score_ranking', 'rate_ranking',\n",
    "    ]]\n",
    ")"
   ]
  },
  {
   "cell_type": "code",
   "execution_count": 27,
   "id": "dbe92aea-27b5-4589-9271-1c6aa06bb550",
   "metadata": {
    "execution": {
     "iopub.execute_input": "2023-12-01T00:09:54.794915Z",
     "iopub.status.busy": "2023-12-01T00:09:54.794471Z",
     "iopub.status.idle": "2023-12-01T00:09:55.872509Z",
     "shell.execute_reply": "2023-12-01T00:09:55.871452Z",
     "shell.execute_reply.started": "2023-12-01T00:09:54.794858Z"
    }
   },
   "outputs": [
    {
     "data": {
      "text/html": [
       "<div>\n",
       "<style scoped>\n",
       "    .dataframe tbody tr th:only-of-type {\n",
       "        vertical-align: middle;\n",
       "    }\n",
       "\n",
       "    .dataframe tbody tr th {\n",
       "        vertical-align: top;\n",
       "    }\n",
       "\n",
       "    .dataframe thead th {\n",
       "        text-align: right;\n",
       "    }\n",
       "</style>\n",
       "<table border=\"1\" class=\"dataframe\">\n",
       "  <thead>\n",
       "    <tr style=\"text-align: right;\">\n",
       "      <th></th>\n",
       "      <th>carrier_id</th>\n",
       "      <th>route_type</th>\n",
       "      <th>price</th>\n",
       "      <th>status</th>\n",
       "      <th>description</th>\n",
       "      <th>time_data</th>\n",
       "      <th>time_display</th>\n",
       "      <th>rate</th>\n",
       "      <th>score</th>\n",
       "      <th>star</th>\n",
       "      <th>for_shop</th>\n",
       "      <th>for_partner</th>\n",
       "      <th>price_ranking</th>\n",
       "      <th>speed_ranking</th>\n",
       "      <th>score_ranking</th>\n",
       "    </tr>\n",
       "  </thead>\n",
       "  <tbody>\n",
       "    <tr>\n",
       "      <th>102</th>\n",
       "      <td>1</td>\n",
       "      <td>4</td>\n",
       "      <td>24000</td>\n",
       "      <td>0</td>\n",
       "      <td>Bình thường</td>\n",
       "      <td>3.50</td>\n",
       "      <td>3.2 - 3.8 ngày</td>\n",
       "      <td>100.00</td>\n",
       "      <td>0.56</td>\n",
       "      <td>5.0</td>\n",
       "      <td>2</td>\n",
       "      <td>5</td>\n",
       "      <td>6</td>\n",
       "      <td>2</td>\n",
       "      <td>5</td>\n",
       "    </tr>\n",
       "    <tr>\n",
       "      <th>302</th>\n",
       "      <td>2</td>\n",
       "      <td>4</td>\n",
       "      <td>19000</td>\n",
       "      <td>0</td>\n",
       "      <td>Bình thường</td>\n",
       "      <td>3.46</td>\n",
       "      <td>3.2 - 3.7 ngày</td>\n",
       "      <td>100.00</td>\n",
       "      <td>0.98</td>\n",
       "      <td>4.7</td>\n",
       "      <td>1</td>\n",
       "      <td>1</td>\n",
       "      <td>4</td>\n",
       "      <td>1</td>\n",
       "      <td>1</td>\n",
       "    </tr>\n",
       "    <tr>\n",
       "      <th>502</th>\n",
       "      <td>4</td>\n",
       "      <td>4</td>\n",
       "      <td>21000</td>\n",
       "      <td>0</td>\n",
       "      <td>Bình thường</td>\n",
       "      <td>4.11</td>\n",
       "      <td>3.9 - 4.4 ngày</td>\n",
       "      <td>90.57</td>\n",
       "      <td>0.71</td>\n",
       "      <td>4.8</td>\n",
       "      <td>6</td>\n",
       "      <td>6</td>\n",
       "      <td>5</td>\n",
       "      <td>6</td>\n",
       "      <td>4</td>\n",
       "    </tr>\n",
       "    <tr>\n",
       "      <th>702</th>\n",
       "      <td>6</td>\n",
       "      <td>4</td>\n",
       "      <td>15000</td>\n",
       "      <td>0</td>\n",
       "      <td>Bình thường</td>\n",
       "      <td>3.99</td>\n",
       "      <td>3.7 - 4.2 ngày</td>\n",
       "      <td>92.74</td>\n",
       "      <td>0.90</td>\n",
       "      <td>4.7</td>\n",
       "      <td>4</td>\n",
       "      <td>2</td>\n",
       "      <td>1</td>\n",
       "      <td>4</td>\n",
       "      <td>2</td>\n",
       "    </tr>\n",
       "    <tr>\n",
       "      <th>902</th>\n",
       "      <td>7</td>\n",
       "      <td>4</td>\n",
       "      <td>15500</td>\n",
       "      <td>0</td>\n",
       "      <td>Bình thường</td>\n",
       "      <td>3.76</td>\n",
       "      <td>3.5 - 4.0 ngày</td>\n",
       "      <td>94.62</td>\n",
       "      <td>0.83</td>\n",
       "      <td>4.7</td>\n",
       "      <td>3</td>\n",
       "      <td>3</td>\n",
       "      <td>2</td>\n",
       "      <td>3</td>\n",
       "      <td>3</td>\n",
       "    </tr>\n",
       "    <tr>\n",
       "      <th>1102</th>\n",
       "      <td>10</td>\n",
       "      <td>4</td>\n",
       "      <td>18000</td>\n",
       "      <td>0</td>\n",
       "      <td>Bình thường</td>\n",
       "      <td>4.00</td>\n",
       "      <td>3.75 - 4.25 ngày</td>\n",
       "      <td>100.00</td>\n",
       "      <td>0.25</td>\n",
       "      <td>5.0</td>\n",
       "      <td>5</td>\n",
       "      <td>4</td>\n",
       "      <td>3</td>\n",
       "      <td>5</td>\n",
       "      <td>6</td>\n",
       "    </tr>\n",
       "  </tbody>\n",
       "</table>\n",
       "</div>"
      ],
      "text/plain": [
       "      carrier_id route_type  price status  description  time_data  \\\n",
       "102            1          4  24000      0  Bình thường       3.50   \n",
       "302            2          4  19000      0  Bình thường       3.46   \n",
       "502            4          4  21000      0  Bình thường       4.11   \n",
       "702            6          4  15000      0  Bình thường       3.99   \n",
       "902            7          4  15500      0  Bình thường       3.76   \n",
       "1102          10          4  18000      0  Bình thường       4.00   \n",
       "\n",
       "          time_display    rate  score  star  for_shop  for_partner  \\\n",
       "102     3.2 - 3.8 ngày  100.00   0.56   5.0         2            5   \n",
       "302     3.2 - 3.7 ngày  100.00   0.98   4.7         1            1   \n",
       "502     3.9 - 4.4 ngày   90.57   0.71   4.8         6            6   \n",
       "702     3.7 - 4.2 ngày   92.74   0.90   4.7         4            2   \n",
       "902     3.5 - 4.0 ngày   94.62   0.83   4.7         3            3   \n",
       "1102  3.75 - 4.25 ngày  100.00   0.25   5.0         5            4   \n",
       "\n",
       "      price_ranking  speed_ranking  score_ranking  \n",
       "102               6              2              5  \n",
       "302               4              1              1  \n",
       "502               5              6              4  \n",
       "702               1              4              2  \n",
       "902               2              3              3  \n",
       "1102              3              5              6  "
      ]
     },
     "execution_count": 27,
     "metadata": {},
     "output_type": "execute_result"
    }
   ],
   "source": [
    "final_df = (\n",
    "    data_order_type.loc[\n",
    "        (data_order_type['sender_province_code'] == \"01\") &\n",
    "        (data_order_type['sender_district_code'] == \"016\") &\n",
    "        (data_order_type['receiver_province_code'] == \"77\") &\n",
    "        (data_order_type['receiver_district_code'] == \"747\")\n",
    "    ][['carrier_id', 'route_type', 'receiver_province_code', 'receiver_district_code', 'new_type']].merge(\n",
    "        data_api[[\n",
    "            'carrier_id', 'receiver_province_code', 'receiver_district_code', 'new_type',\n",
    "            'status', 'description', 'time_data', 'time_display', 'rate', 'score', 'star',\n",
    "            'for_shop', 'speed_ranking', 'score_ranking', 'rate_ranking',\n",
    "        ]], \n",
    "        on=['carrier_id', 'receiver_province_code', 'receiver_district_code', 'new_type'], how='inner'\n",
    "    ).merge(\n",
    "        service_fee, on=['carrier_id', 'new_type'], how='inner'\n",
    "    )\n",
    ")\n",
    "final_df = final_df.loc[(final_df['weight'] == int(1200/500 + 1)*500) & (final_df['pickup'] == '1')]\n",
    "final_df['price_ranking'] = final_df[\"price\"].rank(method=\"dense\", ascending=True).astype(int)\n",
    "final_df['wscore'] = final_df['price_ranking'] * 1.4 + final_df['rate_ranking'] * 1.2 + final_df['score_ranking']\n",
    "final_df[\"for_partner\"] = final_df[\"wscore\"].rank(method=\"dense\", ascending=True).astype(int)\n",
    "\n",
    "final_df = final_df[[\n",
    "    'carrier_id', 'route_type', 'price', 'status', 'description',\n",
    "    'time_data', 'time_display', 'rate', 'score', 'star', 'for_shop',\n",
    "    'for_partner', 'price_ranking', 'speed_ranking', 'score_ranking'\n",
    "]]\n",
    "final_df"
   ]
  },
  {
   "cell_type": "markdown",
   "id": "0158198e-646d-4984-8779-a85a07d4c1f0",
   "metadata": {},
   "source": [
    "## Visualize"
   ]
  },
  {
   "cell_type": "code",
   "execution_count": 68,
   "id": "8a405d11-cff4-41da-8773-a45cc5f4432a",
   "metadata": {
    "execution": {
     "iopub.execute_input": "2023-11-26T06:49:01.566608Z",
     "iopub.status.busy": "2023-11-26T06:49:01.565998Z",
     "iopub.status.idle": "2023-11-26T06:49:01.653163Z",
     "shell.execute_reply": "2023-11-26T06:49:01.651818Z",
     "shell.execute_reply.started": "2023-11-26T06:49:01.566540Z"
    }
   },
   "outputs": [],
   "source": [
    "import matplotlib.pyplot as plt"
   ]
  },
  {
   "cell_type": "code",
   "execution_count": 31,
   "id": "b1c1dd6d-2687-42ea-b5ce-c0dc93df0ad7",
   "metadata": {
    "execution": {
     "iopub.execute_input": "2023-11-26T06:40:03.556365Z",
     "iopub.status.busy": "2023-11-26T06:40:03.555750Z",
     "iopub.status.idle": "2023-11-26T06:40:04.224158Z",
     "shell.execute_reply": "2023-11-26T06:40:04.222706Z",
     "shell.execute_reply.started": "2023-11-26T06:40:03.556297Z"
    }
   },
   "outputs": [],
   "source": [
    "data_check_output = pd.read_parquet(ROOT_PATH + '/output/data_check_output.parquet')"
   ]
  },
  {
   "cell_type": "code",
   "execution_count": 60,
   "id": "511162b5-7acd-4bb1-8e1d-769076a02f39",
   "metadata": {
    "execution": {
     "iopub.execute_input": "2023-11-26T06:46:04.550531Z",
     "iopub.status.busy": "2023-11-26T06:46:04.549932Z",
     "iopub.status.idle": "2023-11-26T06:46:04.603993Z",
     "shell.execute_reply": "2023-11-26T06:46:04.602800Z",
     "shell.execute_reply.started": "2023-11-26T06:46:04.550462Z"
    }
   },
   "outputs": [
    {
     "data": {
      "text/plain": [
       "Index(['order_code', 'sender_province_code', 'sender_province',\n",
       "       'sender_district_code', 'sender_district', 'receiver_province_code',\n",
       "       'receiver_province', 'receiver_district_code', 'receiver_district',\n",
       "       'carrier_id', 'carrier', 'order_type', 'new_type', 'route_type',\n",
       "       'weight', 'price', 'pickup_type', 'status', 'description', 'time_data',\n",
       "       'time_display', 'rate', 'rate_ranking', 'for_shop', 'shop_best_carrier',\n",
       "       'for_partner', 'partner_best_carrier', 'score', 'star', 'price_ranking',\n",
       "       'speed_ranking', 'score_ranking'],\n",
       "      dtype='object')"
      ]
     },
     "execution_count": 60,
     "metadata": {},
     "output_type": "execute_result"
    }
   ],
   "source": [
    "data_check_output.columns"
   ]
  },
  {
   "cell_type": "code",
   "execution_count": 61,
   "id": "12cde9b2-1d6e-4731-9c91-9acac5f881f1",
   "metadata": {
    "execution": {
     "iopub.execute_input": "2023-11-26T06:47:12.849408Z",
     "iopub.status.busy": "2023-11-26T06:47:12.848823Z",
     "iopub.status.idle": "2023-11-26T06:47:13.889359Z",
     "shell.execute_reply": "2023-11-26T06:47:13.887462Z",
     "shell.execute_reply.started": "2023-11-26T06:47:12.849323Z"
    }
   },
   "outputs": [],
   "source": [
    "def get_data_viz(target_df, threshold=0.6):\n",
    "    good_df = target_df.loc[target_df['score'] >= threshold].sort_values(['order_code', 'price']).drop_duplicates('order_code')\n",
    "    bad_df = target_df.loc[target_df['score'] < threshold].sort_values(['order_code', 'price'], ascending=[True, False]).drop_duplicates('order_code')\n",
    "    bad_filter_df = bad_df.loc[~bad_df['order_code'].isin(good_df['order_code'])]\n",
    "    result_df = pd.concat([good_df, bad_filter_df], ignore_index=True)\n",
    "    # result_df = good_df.copy()\n",
    "\n",
    "    monetary = result_df['price'].sum()\n",
    "    total_error = len(result_df.loc[result_df['status'].isin([1, 2])&(result_df['description'] != 'Không có bưu cục trong tỉnh')])\n",
    "    print(\n",
    "        result_df.loc[\n",
    "          result_df['status'].isin([1, 2]) \n",
    "          &(result_df['description'] != 'Không có bưu cục trong tỉnh')\n",
    "      ]['carrier'].value_counts()\n",
    "    )\n",
    "    total_order = len(result_df)\n",
    "    return monetary, total_error, total_order"
   ]
  },
  {
   "cell_type": "code",
   "execution_count": 62,
   "id": "d3bcb6b9-b0e0-4bf8-b92a-44d5a6c4544e",
   "metadata": {
    "execution": {
     "iopub.execute_input": "2023-11-26T06:47:14.632522Z",
     "iopub.status.busy": "2023-11-26T06:47:14.631979Z",
     "iopub.status.idle": "2023-11-26T06:47:14.802075Z",
     "shell.execute_reply": "2023-11-26T06:47:14.800567Z",
     "shell.execute_reply.started": "2023-11-26T06:47:14.632457Z"
    }
   },
   "outputs": [],
   "source": [
    "target_df = data_check_output.copy()"
   ]
  },
  {
   "cell_type": "code",
   "execution_count": 63,
   "id": "95029a25-03d1-4318-bd66-da45391221a3",
   "metadata": {
    "execution": {
     "iopub.execute_input": "2023-11-26T06:47:34.194871Z",
     "iopub.status.busy": "2023-11-26T06:47:34.194267Z",
     "iopub.status.idle": "2023-11-26T06:47:40.600363Z",
     "shell.execute_reply": "2023-11-26T06:47:40.599407Z",
     "shell.execute_reply.started": "2023-11-26T06:47:34.194808Z"
    },
    "scrolled": true
   },
   "outputs": [
    {
     "name": "stdout",
     "output_type": "stream",
     "text": [
      "BEST Express    3249\n",
      "Ninja Van        610\n",
      "SPX Express      144\n",
      "Viettel Post      82\n",
      "GHN               36\n",
      "Name: carrier, dtype: int64\n",
      "Threshold:  0.5 , monetary:  1145858000 , error:  4121 , total_order:  77959\n",
      "----------------------------------------------------------------------------------------------------\n",
      "BEST Express    1780\n",
      "Ninja Van        599\n",
      "SPX Express      144\n",
      "Viettel Post     102\n",
      "GHN               24\n",
      "Name: carrier, dtype: int64\n",
      "Threshold:  0.55 , monetary:  1160515000 , error:  2649 , total_order:  77959\n",
      "----------------------------------------------------------------------------------------------------\n",
      "BEST Express    2144\n",
      "Ninja Van        359\n",
      "SPX Express      161\n",
      "GHTK              85\n",
      "GHN               84\n",
      "Name: carrier, dtype: int64\n",
      "Threshold:  0.6 , monetary:  1210466000 , error:  2833 , total_order:  77959\n",
      "----------------------------------------------------------------------------------------------------\n",
      "BEST Express    2259\n",
      "Ninja Van        339\n",
      "GHTK             220\n",
      "GHN               84\n",
      "SPX Express       47\n",
      "Viettel Post       7\n",
      "Name: carrier, dtype: int64\n",
      "Threshold:  0.65 , monetary:  1283201000 , error:  2956 , total_order:  77959\n",
      "----------------------------------------------------------------------------------------------------\n",
      "BEST Express    2411\n",
      "GHTK             549\n",
      "Ninja Van        195\n",
      "SPX Express       78\n",
      "Viettel Post       8\n",
      "Name: carrier, dtype: int64\n",
      "Threshold:  0.7 , monetary:  1368460000 , error:  3241 , total_order:  77959\n",
      "----------------------------------------------------------------------------------------------------\n",
      "BEST Express    1889\n",
      "GHTK             790\n",
      "Ninja Van        202\n",
      "SPX Express       90\n",
      "Viettel Post      12\n",
      "Name: carrier, dtype: int64\n",
      "Threshold:  0.75 , monetary:  1469249000 , error:  2983 , total_order:  77959\n",
      "----------------------------------------------------------------------------------------------------\n",
      "BEST Express    1249\n",
      "GHTK             938\n",
      "SPX Express      139\n",
      "Ninja Van         55\n",
      "Viettel Post      13\n",
      "Name: carrier, dtype: int64\n",
      "Threshold:  0.8 , monetary:  1599274000 , error:  2394 , total_order:  77959\n",
      "----------------------------------------------------------------------------------------------------\n",
      "GHTK            1801\n",
      "BEST Express    1663\n",
      "SPX Express      142\n",
      "Ninja Van         72\n",
      "Viettel Post      16\n",
      "Name: carrier, dtype: int64\n",
      "Threshold:  0.85 , monetary:  1699210000 , error:  3694 , total_order:  77959\n",
      "----------------------------------------------------------------------------------------------------\n",
      "GHTK            1906\n",
      "BEST Express    1281\n",
      "SPX Express      191\n",
      "Ninja Van         90\n",
      "Viettel Post      18\n",
      "Name: carrier, dtype: int64\n",
      "Threshold:  0.9 , monetary:  1818242500 , error:  3486 , total_order:  77959\n",
      "----------------------------------------------------------------------------------------------------\n"
     ]
    }
   ],
   "source": [
    "threshold_list = []\n",
    "monetary_list = []\n",
    "total_error_list = []\n",
    "for threshold in [0.5, 0.55, 0.6, 0.65, 0.7, 0.75, 0.8, 0.85, 0.9]:\n",
    "    monetary, total_error, total_order = get_data_viz(target_df, threshold)\n",
    "    print('Threshold: ', threshold, ', monetary: ', monetary, ', error: ', total_error, ', total_order: ', total_order)\n",
    "    threshold_list.append(threshold)\n",
    "    monetary_list.append(monetary)\n",
    "    total_error_list.append(total_error)\n",
    "    print('-'*100)"
   ]
  },
  {
   "cell_type": "code",
   "execution_count": 64,
   "id": "4016e010-ec14-4c9c-9878-d50d4c5a0f04",
   "metadata": {
    "execution": {
     "iopub.execute_input": "2023-11-26T06:47:40.602132Z",
     "iopub.status.busy": "2023-11-26T06:47:40.601907Z",
     "iopub.status.idle": "2023-11-26T06:47:40.635727Z",
     "shell.execute_reply": "2023-11-26T06:47:40.634881Z",
     "shell.execute_reply.started": "2023-11-26T06:47:40.602104Z"
    },
    "scrolled": true
   },
   "outputs": [
    {
     "data": {
      "text/html": [
       "<div>\n",
       "<style scoped>\n",
       "    .dataframe tbody tr th:only-of-type {\n",
       "        vertical-align: middle;\n",
       "    }\n",
       "\n",
       "    .dataframe tbody tr th {\n",
       "        vertical-align: top;\n",
       "    }\n",
       "\n",
       "    .dataframe thead th {\n",
       "        text-align: right;\n",
       "    }\n",
       "</style>\n",
       "<table border=\"1\" class=\"dataframe\">\n",
       "  <thead>\n",
       "    <tr style=\"text-align: right;\">\n",
       "      <th></th>\n",
       "      <th>threshold</th>\n",
       "      <th>monetary</th>\n",
       "      <th>total_error</th>\n",
       "    </tr>\n",
       "  </thead>\n",
       "  <tbody>\n",
       "    <tr>\n",
       "      <th>0</th>\n",
       "      <td>0.50</td>\n",
       "      <td>1145858000</td>\n",
       "      <td>4121</td>\n",
       "    </tr>\n",
       "    <tr>\n",
       "      <th>1</th>\n",
       "      <td>0.55</td>\n",
       "      <td>1160515000</td>\n",
       "      <td>2649</td>\n",
       "    </tr>\n",
       "    <tr>\n",
       "      <th>2</th>\n",
       "      <td>0.60</td>\n",
       "      <td>1210466000</td>\n",
       "      <td>2833</td>\n",
       "    </tr>\n",
       "    <tr>\n",
       "      <th>3</th>\n",
       "      <td>0.65</td>\n",
       "      <td>1283201000</td>\n",
       "      <td>2956</td>\n",
       "    </tr>\n",
       "    <tr>\n",
       "      <th>4</th>\n",
       "      <td>0.70</td>\n",
       "      <td>1368460000</td>\n",
       "      <td>3241</td>\n",
       "    </tr>\n",
       "    <tr>\n",
       "      <th>5</th>\n",
       "      <td>0.75</td>\n",
       "      <td>1469249000</td>\n",
       "      <td>2983</td>\n",
       "    </tr>\n",
       "    <tr>\n",
       "      <th>6</th>\n",
       "      <td>0.80</td>\n",
       "      <td>1599274000</td>\n",
       "      <td>2394</td>\n",
       "    </tr>\n",
       "    <tr>\n",
       "      <th>7</th>\n",
       "      <td>0.85</td>\n",
       "      <td>1699210000</td>\n",
       "      <td>3694</td>\n",
       "    </tr>\n",
       "    <tr>\n",
       "      <th>8</th>\n",
       "      <td>0.90</td>\n",
       "      <td>1818242500</td>\n",
       "      <td>3486</td>\n",
       "    </tr>\n",
       "  </tbody>\n",
       "</table>\n",
       "</div>"
      ],
      "text/plain": [
       "   threshold    monetary  total_error\n",
       "0       0.50  1145858000         4121\n",
       "1       0.55  1160515000         2649\n",
       "2       0.60  1210466000         2833\n",
       "3       0.65  1283201000         2956\n",
       "4       0.70  1368460000         3241\n",
       "5       0.75  1469249000         2983\n",
       "6       0.80  1599274000         2394\n",
       "7       0.85  1699210000         3694\n",
       "8       0.90  1818242500         3486"
      ]
     },
     "execution_count": 64,
     "metadata": {},
     "output_type": "execute_result"
    }
   ],
   "source": [
    "viz_df = pd.DataFrame(data={'threshold': threshold_list, 'monetary': monetary_list, 'total_error': total_error_list})\n",
    "viz_df"
   ]
  },
  {
   "cell_type": "code",
   "execution_count": 69,
   "id": "b939daeb-c07e-461e-8e06-0587e175c23d",
   "metadata": {
    "execution": {
     "iopub.execute_input": "2023-11-26T06:49:05.961068Z",
     "iopub.status.busy": "2023-11-26T06:49:05.960489Z",
     "iopub.status.idle": "2023-11-26T06:49:06.438634Z",
     "shell.execute_reply": "2023-11-26T06:49:06.437680Z",
     "shell.execute_reply.started": "2023-11-26T06:49:05.961002Z"
    }
   },
   "outputs": [
    {
     "data": {
      "image/png": "[encoded data removed]",
      "text/plain": [
       "<Figure size 432x288 with 2 Axes>"
      ]
     },
     "metadata": {
      "needs_background": "light"
     },
     "output_type": "display_data"
    }
   ],
   "source": [
    "ax = viz_df.plot(x=\"threshold\", y=\"monetary\", legend=False)\n",
    "ax2 = ax.twinx()\n",
    "viz_df.plot(x=\"threshold\", y=\"total_error\", ax=ax2, legend=False, color=\"r\")\n",
    "ax.figure.legend()\n",
    "plt.show()"
   ]
  },
  {
   "cell_type": "code",
   "execution_count": 66,
   "id": "0226cdbb-0a57-4010-a0f1-429d94d9088c",
   "metadata": {
    "execution": {
     "iopub.execute_input": "2023-11-26T06:48:16.767668Z",
     "iopub.status.busy": "2023-11-26T06:48:16.767057Z",
     "iopub.status.idle": "2023-11-26T06:48:17.889581Z",
     "shell.execute_reply": "2023-11-26T06:48:17.888270Z",
     "shell.execute_reply.started": "2023-11-26T06:48:16.767601Z"
    }
   },
   "outputs": [
    {
     "data": {
      "text/plain": [
       "0    415255\n",
       "2     45029\n",
       "1      7470\n",
       "Name: status, dtype: int64"
      ]
     },
     "execution_count": 66,
     "metadata": {},
     "output_type": "execute_result"
    }
   ],
   "source": [
    "target_df['status'].value_counts()"
   ]
  },
  {
   "cell_type": "code",
   "execution_count": 67,
   "id": "2e9eaff2-d481-4650-987a-3a64390bc278",
   "metadata": {
    "execution": {
     "iopub.execute_input": "2023-11-26T06:48:40.057396Z",
     "iopub.status.busy": "2023-11-26T06:48:40.056796Z",
     "iopub.status.idle": "2023-11-26T06:48:40.301675Z",
     "shell.execute_reply": "2023-11-26T06:48:40.300287Z",
     "shell.execute_reply.started": "2023-11-26T06:48:40.057315Z"
    },
    "scrolled": true
   },
   "outputs": [
    {
     "data": {
      "text/plain": [
       "Không có bưu cục trong tỉnh                                                                        11630\n",
       "Trung bình thời gian giao hàng lớn hơn hoặc bằng 120h (Nội Miền)                                     517\n",
       "Trung bình thời gian giao hàng lớn hơn hoặc bằng 144h (Cận Miền)                                     419\n",
       "Tổng đơn hàng từ 4 đơn trở lên và có tỷ lệ hoàn từ 50% trở lên                                       360\n",
       "Tổng đơn hàng từ 4 đơn trở lên và có tỷ lệ hoàn từ 50% trở lên + Không có bưu cục trong tỉnh         357\n",
       "Trung bình thời gian giao hàng lớn hơn hoặc bằng 168h (Cách Miền) + Không có bưu cục trong tỉnh      215\n",
       "Trung bình thời gian giao hàng lớn hơn hoặc bằng 168h (Cách Miền)                                    154\n",
       "Trung bình thời gian giao hàng lớn hơn hoặc bằng 120h (Nội Miền) + Không có bưu cục trong tỉnh       150\n",
       "Trung bình thời gian giao hàng lớn hơn hoặc bằng 144h (Cận Miền) + Không có bưu cục trong tỉnh        45\n",
       "Name: description, dtype: int64"
      ]
     },
     "execution_count": 67,
     "metadata": {},
     "output_type": "execute_result"
    }
   ],
   "source": [
    "target_df.loc[(target_df['carrier'] == 'GHTK') & target_df['status'].isin([1, 2])]['description'].value_counts()"
   ]
  },
  {
   "cell_type": "markdown",
   "id": "e51c1d74-3991-4f20-80a3-d3b3a62af6ff",
   "metadata": {},
   "source": [
    "## Demo 1000 KH"
   ]
  },
  {
   "cell_type": "code",
   "execution_count": null,
   "id": "56762ba4-7ac5-43d9-bd71-18cdc29d72be",
   "metadata": {
    "execution": {
     "iopub.status.busy": "2023-11-27T14:16:08.455789Z",
     "iopub.status.idle": "2023-11-27T14:16:08.456353Z",
     "shell.execute_reply": "2023-11-27T14:16:08.456078Z"
    },
    "scrolled": true
   },
   "outputs": [],
   "source": [
    "# input_df = generate_sample_input(n_rows=1_000)\n",
    "# input_df"
   ]
  },
  {
   "cell_type": "code",
   "execution_count": 47,
   "id": "5d9af47c-3f80-41f8-a449-d3e7afa89975",
   "metadata": {
    "execution": {
     "iopub.execute_input": "2023-11-26T06:43:21.235548Z",
     "iopub.status.busy": "2023-11-26T06:43:21.235026Z",
     "iopub.status.idle": "2023-11-26T06:43:21.280512Z",
     "shell.execute_reply": "2023-11-26T06:43:21.279275Z",
     "shell.execute_reply.started": "2023-11-26T06:43:21.235486Z"
    },
    "scrolled": true
   },
   "outputs": [],
   "source": [
    "# tmp_df1 = generate_order_type(input_df)\n",
    "# assert len(tmp_df1) == len(input_df) * len(ACTIVE_CARRIER), 'Transform data sai'\n",
    "# tmp_df1"
   ]
  },
  {
   "cell_type": "code",
   "execution_count": 48,
   "id": "b338e0a7-abe8-4f20-b9f2-f1a7b70cae3d",
   "metadata": {
    "execution": {
     "iopub.execute_input": "2023-11-26T06:43:22.841806Z",
     "iopub.status.busy": "2023-11-26T06:43:22.841201Z",
     "iopub.status.idle": "2023-11-26T06:43:22.886734Z",
     "shell.execute_reply": "2023-11-26T06:43:22.885442Z",
     "shell.execute_reply.started": "2023-11-26T06:43:22.841740Z"
    },
    "scrolled": true
   },
   "outputs": [],
   "source": [
    "# tmp_df2 = combine_info_from_api(tmp_df1)\n",
    "# assert len(tmp_df2) == len(tmp_df1), 'Transform data sai'\n",
    "# tmp_df2"
   ]
  },
  {
   "cell_type": "code",
   "execution_count": 49,
   "id": "87935912-f5e2-42f4-b846-64c951fdd5bc",
   "metadata": {
    "execution": {
     "iopub.execute_input": "2023-11-26T06:43:24.410717Z",
     "iopub.status.busy": "2023-11-26T06:43:24.410140Z",
     "iopub.status.idle": "2023-11-26T06:43:24.455957Z",
     "shell.execute_reply": "2023-11-26T06:43:24.454596Z",
     "shell.execute_reply.started": "2023-11-26T06:43:24.410652Z"
    },
    "scrolled": true
   },
   "outputs": [],
   "source": [
    "# tmp_df3 = calculate_service_fee(tmp_df2)\n",
    "# assert len(tmp_df3) == len(tmp_df2), 'Transform data sai'\n",
    "# tmp_df3"
   ]
  },
  {
   "cell_type": "code",
   "execution_count": 50,
   "id": "85ff5bcb-b4a1-45d3-b2f9-916e8d07a098",
   "metadata": {
    "execution": {
     "iopub.execute_input": "2023-11-26T06:43:26.280776Z",
     "iopub.status.busy": "2023-11-26T06:43:26.280245Z",
     "iopub.status.idle": "2023-11-26T06:43:26.324103Z",
     "shell.execute_reply": "2023-11-26T06:43:26.322599Z",
     "shell.execute_reply.started": "2023-11-26T06:43:26.280716Z"
    },
    "scrolled": true
   },
   "outputs": [],
   "source": [
    "# tmp_df4 = calculate_notification_v2(tmp_df3)\n",
    "# assert len(tmp_df4) == len(tmp_df3), 'Transform data sai'\n",
    "# tmp_df4"
   ]
  },
  {
   "cell_type": "code",
   "execution_count": 51,
   "id": "55769499-4204-4ddc-aacd-931a7cf69e2e",
   "metadata": {
    "execution": {
     "iopub.execute_input": "2023-11-26T06:43:28.916562Z",
     "iopub.status.busy": "2023-11-26T06:43:28.915909Z",
     "iopub.status.idle": "2023-11-26T06:43:28.969605Z",
     "shell.execute_reply": "2023-11-26T06:43:28.968144Z",
     "shell.execute_reply.started": "2023-11-26T06:43:28.916495Z"
    },
    "scrolled": true
   },
   "outputs": [],
   "source": [
    "# final_df = partner_best_carrier(tmp_df4)\n",
    "# assert len(final_df) == len(tmp_df4), 'Transform data sai'\n",
    "# # final_df = final_df[FINAL_FULL_COLS] # FINAL_FULL_COLS_RENAMED\n",
    "# final_df = final_df[FINAL_COLS] # FINAL_COLS_RENAMED\n",
    "# final_df"
   ]
  },
  {
   "cell_type": "code",
   "execution_count": 52,
   "id": "57959599-3221-45c9-a455-5f73471bbc1a",
   "metadata": {
    "execution": {
     "iopub.execute_input": "2023-11-26T06:43:31.500432Z",
     "iopub.status.busy": "2023-11-26T06:43:31.499773Z",
     "iopub.status.idle": "2023-11-26T06:43:31.548353Z",
     "shell.execute_reply": "2023-11-26T06:43:31.546904Z",
     "shell.execute_reply.started": "2023-11-26T06:43:31.500347Z"
    }
   },
   "outputs": [],
   "source": [
    "# len(final_df)"
   ]
  },
  {
   "cell_type": "markdown",
   "id": "6aba6576-34f6-4286-9c7b-5c1597adc9b1",
   "metadata": {},
   "source": [
    "## Xuất danh sách gửi Tài"
   ]
  },
  {
   "cell_type": "code",
   "execution_count": 81,
   "id": "4fb6f870-8d41-431b-bced-9dbef741c887",
   "metadata": {
    "execution": {
     "iopub.execute_input": "2023-11-26T06:54:58.731666Z",
     "iopub.status.busy": "2023-11-26T06:54:58.731025Z",
     "iopub.status.idle": "2023-11-26T06:54:59.857402Z",
     "shell.execute_reply": "2023-11-26T06:54:59.855678Z",
     "shell.execute_reply.started": "2023-11-26T06:54:58.731583Z"
    },
    "scrolled": true
   },
   "outputs": [],
   "source": [
    "# api_data_final = out_data_api(return_full_cols_df=True, show_logs=False)\n",
    "# api_data_final"
   ]
  },
  {
   "cell_type": "code",
   "execution_count": 105,
   "id": "6bcb9156-27e6-4283-a429-e6ed16dfefcb",
   "metadata": {
    "execution": {
     "iopub.execute_input": "2023-11-26T07:03:11.470015Z",
     "iopub.status.busy": "2023-11-26T07:03:11.469414Z",
     "iopub.status.idle": "2023-11-26T07:03:11.521424Z",
     "shell.execute_reply": "2023-11-26T07:03:11.519936Z",
     "shell.execute_reply.started": "2023-11-26T07:03:11.469948Z"
    },
    "scrolled": true
   },
   "outputs": [],
   "source": [
    "# data_api = pd.read_parquet(ROOT_PATH + '/output/data_api.parquet')\n",
    "# test_df = data_api[['receiver_province_code', 'receiver_district_code', 'new_type']].drop_duplicates()\n",
    "# test_df[['weight']] = 500\n",
    "# test_df['delivery_type'] = [\n",
    "#     np.random.choice(['Lấy Tận Nơi', 'Gửi Bưu Cục'])\n",
    "#     for i in range(len(test_df))\n",
    "# ]\n",
    "# test_df['order_id'] = [\n",
    "#     ''.join(np.random.choice(list('ABCDEFGHIJKLMNOPQRSTUVWXYZ'), 4)) \\\n",
    "#     + ''.join(np.random.choice(list('123456789'), 6)) \\\n",
    "#     + ''.join(np.random.choice(list('ABCDEFGHIJKLMNOPQRSTUVWXYZ'), 2)) \\\n",
    "#     + '.' \n",
    "#     + ''.join(np.random.choice(list('123456789'), 9)) \\\n",
    "#     for i in range(len(test_df))\n",
    "# ]\n",
    "# tmp_df1 = test_df.merge(pd.DataFrame(data={'carrier': ACTIVE_CARRIER}), how='cross')\n",
    "# tmp_df1['carrier_id'] = tmp_df1['carrier'].map(MAPPING_CARRIER_ID)\n",
    "# tmp_df1['order_type'] = tmp_df1['new_type'].map({\n",
    "#     1: 'Nội Thành Tỉnh',\n",
    "#     2: 'Ngoại Thành Tỉnh',\n",
    "#     3: 'Nội Thành Tp.HCM - HN',\n",
    "#     4: 'Ngoại Thành Tp.HCM - HN',\n",
    "#     5: 'Nội Miền',\n",
    "#     6: 'Cận Miền',\n",
    "#     7: 'Cách Miền',\n",
    "# })\n",
    "# tmp_df1 = (\n",
    "#     tmp_df1.merge(\n",
    "#     PROVINCE_MAPPING_DISTRICT_DF.rename(columns={\n",
    "#         'province_id': 'receiver_province_code',\n",
    "#         'district_id': 'receiver_district_code',\n",
    "#         'province': 'receiver_province',\n",
    "#         'district': 'receiver_district',\n",
    "#     }), on=['receiver_province_code', 'receiver_district_code'], how='left')\n",
    "# )\n",
    "# tmp_df1 = tmp_df1[[\n",
    "#     'order_id',\n",
    "#     'receiver_province_code', 'receiver_province', 'receiver_district_code', 'receiver_district', \n",
    "#     'carrier', 'carrier_id',\n",
    "#     'weight', 'delivery_type',  \n",
    "#     'new_type', 'order_type'\n",
    "# ]]\n",
    "# tmp_df1.columns = [\n",
    "#     'order_id',\n",
    "#     'receiver_province_id', 'receiver_province', 'receiver_district_id', 'receiver_district', \n",
    "#     'carrier', 'carrier_id',\n",
    "#     'weight', 'delivery_type',  \n",
    "#     'order_type_id', 'order_type'\n",
    "# ]\n",
    "# tmp_df1"
   ]
  },
  {
   "cell_type": "code",
   "execution_count": 106,
   "id": "ce3e15c0-751e-4e52-83bc-fb0fc0592996",
   "metadata": {
    "execution": {
     "iopub.execute_input": "2023-11-26T07:03:13.431895Z",
     "iopub.status.busy": "2023-11-26T07:03:13.431337Z",
     "iopub.status.idle": "2023-11-26T07:03:13.484984Z",
     "shell.execute_reply": "2023-11-26T07:03:13.483427Z",
     "shell.execute_reply.started": "2023-11-26T07:03:13.431822Z"
    },
    "scrolled": true
   },
   "outputs": [],
   "source": [
    "# tmp_df2 = combine_info_from_api(tmp_df1)\n",
    "# assert len(tmp_df2) == len(tmp_df1), 'Transform data sai'\n",
    "# tmp_df2"
   ]
  },
  {
   "cell_type": "code",
   "execution_count": 107,
   "id": "f05b9a0e-836e-40b3-af91-499c894673b3",
   "metadata": {
    "execution": {
     "iopub.execute_input": "2023-11-26T07:03:17.967505Z",
     "iopub.status.busy": "2023-11-26T07:03:17.966981Z",
     "iopub.status.idle": "2023-11-26T07:03:19.029069Z",
     "shell.execute_reply": "2023-11-26T07:03:19.027832Z",
     "shell.execute_reply.started": "2023-11-26T07:03:17.967448Z"
    },
    "scrolled": true
   },
   "outputs": [],
   "source": [
    "# tmp_df3 = calculate_service_fee(tmp_df2)\n",
    "# assert len(tmp_df3) == len(tmp_df2), 'Transform data sai'\n",
    "# tmp_df3"
   ]
  },
  {
   "cell_type": "code",
   "execution_count": 108,
   "id": "c162ea1c-7d57-4d8f-a34b-273a0db397cf",
   "metadata": {
    "execution": {
     "iopub.execute_input": "2023-11-26T07:03:21.787682Z",
     "iopub.status.busy": "2023-11-26T07:03:21.787166Z",
     "iopub.status.idle": "2023-11-26T07:03:21.832530Z",
     "shell.execute_reply": "2023-11-26T07:03:21.831363Z",
     "shell.execute_reply.started": "2023-11-26T07:03:21.787625Z"
    },
    "scrolled": true
   },
   "outputs": [],
   "source": [
    "# tmp_df4 = calculate_notification_v2(tmp_df3)\n",
    "# assert len(tmp_df4) == len(tmp_df3), 'Transform data sai'\n",
    "# tmp_df4"
   ]
  },
  {
   "cell_type": "code",
   "execution_count": 109,
   "id": "496febd2-b98c-403c-9b87-76339f181ca9",
   "metadata": {
    "execution": {
     "iopub.execute_input": "2023-11-26T07:03:23.799813Z",
     "iopub.status.busy": "2023-11-26T07:03:23.799320Z",
     "iopub.status.idle": "2023-11-26T07:03:23.844723Z",
     "shell.execute_reply": "2023-11-26T07:03:23.843568Z",
     "shell.execute_reply.started": "2023-11-26T07:03:23.799756Z"
    },
    "scrolled": true
   },
   "outputs": [],
   "source": [
    "# final_df = partner_best_carrier(tmp_df4)\n",
    "# assert len(final_df) == len(tmp_df4), 'Transform data sai'\n",
    "# final_df['sys_order_type_id'] = 1\n",
    "# final_df = final_df[FINAL_COLS + ['receiver_province_id', 'receiver_district_id', 'weight', 'delivery_type']]\n",
    "# final_df"
   ]
  },
  {
   "cell_type": "code",
   "execution_count": 110,
   "id": "0ec4a275-3a12-4981-8f00-2cee8f261cfc",
   "metadata": {
    "execution": {
     "iopub.execute_input": "2023-11-26T07:03:26.928612Z",
     "iopub.status.busy": "2023-11-26T07:03:26.928004Z",
     "iopub.status.idle": "2023-11-26T07:03:26.991020Z",
     "shell.execute_reply": "2023-11-26T07:03:26.989893Z",
     "shell.execute_reply.started": "2023-11-26T07:03:26.928546Z"
    }
   },
   "outputs": [],
   "source": [
    "# final_df.to_excel(ROOT_PATH + '/output/data_29946_api_20231117.xlsx', index=False)"
   ]
  },
  {
   "cell_type": "markdown",
   "id": "0c9af4a1-d1f6-44fc-9cdf-ce4a026a557e",
   "metadata": {},
   "source": [
    "### Xuất data gửi SuperShip check"
   ]
  },
  {
   "cell_type": "code",
   "execution_count": 111,
   "id": "614ec67b-1df6-4a1a-ab5f-e8d5030d5192",
   "metadata": {
    "execution": {
     "iopub.execute_input": "2023-11-26T07:03:27.352370Z",
     "iopub.status.busy": "2023-11-26T07:03:27.351951Z",
     "iopub.status.idle": "2023-11-26T07:03:27.394538Z",
     "shell.execute_reply": "2023-11-26T07:03:27.393444Z",
     "shell.execute_reply.started": "2023-11-26T07:03:27.352315Z"
    },
    "scrolled": true
   },
   "outputs": [],
   "source": [
    "# data_check_output = out_data_final()\n",
    "# data_check_output"
   ]
  },
  {
   "cell_type": "markdown",
   "id": "d0f0b035-1e20-46ab-8a70-1eda6fb01477",
   "metadata": {},
   "source": [
    "## Test đơn"
   ]
  },
  {
   "cell_type": "code",
   "execution_count": 74,
   "id": "0f82ce23-f261-47cc-856b-f521e53e5613",
   "metadata": {
    "execution": {
     "iopub.execute_input": "2023-11-26T06:50:06.092938Z",
     "iopub.status.busy": "2023-11-26T06:50:06.092335Z",
     "iopub.status.idle": "2023-11-26T06:50:06.154681Z",
     "shell.execute_reply": "2023-11-26T06:50:06.153186Z",
     "shell.execute_reply.started": "2023-11-26T06:50:06.092872Z"
    }
   },
   "outputs": [],
   "source": [
    "# cuoc_phi_df = pd.read_parquet(\"/home/trinhlk2/adhoc/Old/supership/processed_data/cuoc_phi.parquet\")\n",
    "# cuoc_phi_df['lt_or_eq'].max()"
   ]
  },
  {
   "cell_type": "code",
   "execution_count": 75,
   "id": "2750f1ca-66cc-4e03-a153-b62f3a658107",
   "metadata": {
    "execution": {
     "iopub.execute_input": "2023-11-26T06:50:08.783503Z",
     "iopub.status.busy": "2023-11-26T06:50:08.782896Z",
     "iopub.status.idle": "2023-11-26T06:50:08.832424Z",
     "shell.execute_reply": "2023-11-26T06:50:08.831188Z",
     "shell.execute_reply.started": "2023-11-26T06:50:08.783438Z"
    }
   },
   "outputs": [],
   "source": [
    "# order_code = 'TIWUUWJONYKD412711618'\n",
    "# weight = 27600\n",
    "# delivery_type = 'Lấy Tận Nơi'\n",
    "# sender_province_code  = '80'\n",
    "# sender_district_code  = '795'\n",
    "# receiver_province_code  = '89'\n",
    "# receiver_district_code  = '893'"
   ]
  },
  {
   "cell_type": "code",
   "execution_count": 76,
   "id": "07b8ba0c-faa8-416a-ae8a-334056057cc8",
   "metadata": {
    "execution": {
     "iopub.execute_input": "2023-11-26T06:50:09.146167Z",
     "iopub.status.busy": "2023-11-26T06:50:09.145725Z",
     "iopub.status.idle": "2023-11-26T06:50:09.190006Z",
     "shell.execute_reply": "2023-11-26T06:50:09.188675Z",
     "shell.execute_reply.started": "2023-11-26T06:50:09.146109Z"
    }
   },
   "outputs": [],
   "source": [
    "# customer_best_carrier : SPX (thời gian nhanh nhất, tỉ lệ thành công 100%, score 0.73 xếp thứ 3)\n",
    "# partner_best_carrier : Best (tỉ lệ giao thành công hơn 90%, score 1, rẻ nhất)"
   ]
  },
  {
   "cell_type": "code",
   "execution_count": 77,
   "id": "0d8336fe-140d-4c5c-870b-ec1049687b4b",
   "metadata": {
    "execution": {
     "iopub.execute_input": "2023-11-26T06:50:09.396790Z",
     "iopub.status.busy": "2023-11-26T06:50:09.396320Z",
     "iopub.status.idle": "2023-11-26T06:50:09.443102Z",
     "shell.execute_reply": "2023-11-26T06:50:09.441874Z",
     "shell.execute_reply.started": "2023-11-26T06:50:09.396731Z"
    }
   },
   "outputs": [],
   "source": [
    "# customer_best_carrier: fastest_carrier_id * 1.4 + delivery_success_rate_id * 1.2 + highest_score_carrier_id\n",
    "# partner_best_carrier: cheapest_carrier_id * 1.4 + delivery_success_rate_id * 1.2 + highest_score_carrier_id"
   ]
  },
  {
   "cell_type": "code",
   "execution_count": 78,
   "id": "3bdb98c4-283e-4039-a3b6-5f0fc739642e",
   "metadata": {
    "execution": {
     "iopub.execute_input": "2023-11-26T06:50:10.033279Z",
     "iopub.status.busy": "2023-11-26T06:50:10.032823Z",
     "iopub.status.idle": "2023-11-26T06:50:10.080896Z",
     "shell.execute_reply": "2023-11-26T06:50:10.079690Z",
     "shell.execute_reply.started": "2023-11-26T06:50:10.033219Z"
    }
   },
   "outputs": [],
   "source": [
    "# Yểu tố quá tải tích hợp trong score\n",
    "# Yếu tố giá tách ra khỏi score (done)"
   ]
  },
  {
   "cell_type": "code",
   "execution_count": 68,
   "id": "6ff6a962-3d83-4d47-9e22-e9b8de110dfc",
   "metadata": {
    "execution": {
     "iopub.execute_input": "2023-11-17T13:32:00.159013Z",
     "iopub.status.busy": "2023-11-17T13:32:00.158386Z",
     "iopub.status.idle": "2023-11-17T13:32:00.261279Z",
     "shell.execute_reply": "2023-11-17T13:32:00.259990Z",
     "shell.execute_reply.started": "2023-11-17T13:32:00.158948Z"
    },
    "scrolled": true
   },
   "outputs": [
    {
     "data": {
      "text/html": [
       "<div>\n",
       "<style scoped>\n",
       "    .dataframe tbody tr th:only-of-type {\n",
       "        vertical-align: middle;\n",
       "    }\n",
       "\n",
       "    .dataframe tbody tr th {\n",
       "        vertical-align: top;\n",
       "    }\n",
       "\n",
       "    .dataframe thead th {\n",
       "        text-align: right;\n",
       "    }\n",
       "</style>\n",
       "<table border=\"1\" class=\"dataframe\">\n",
       "  <thead>\n",
       "    <tr style=\"text-align: right;\">\n",
       "      <th></th>\n",
       "      <th>carrier_id</th>\n",
       "      <th>carrier</th>\n",
       "      <th>service_fee</th>\n",
       "      <th>carrier_status_comment</th>\n",
       "      <th>estimate_delivery_time_details</th>\n",
       "      <th>delivery_success_rate_id</th>\n",
       "      <th>customer_best_carrier</th>\n",
       "      <th>partner_best_carrier</th>\n",
       "      <th>cheapest_carrier_id</th>\n",
       "      <th>fastest_carrier_id</th>\n",
       "      <th>highest_score_carrier_id</th>\n",
       "      <th>score</th>\n",
       "    </tr>\n",
       "  </thead>\n",
       "  <tbody>\n",
       "    <tr>\n",
       "      <th>238784</th>\n",
       "      <td>7</td>\n",
       "      <td>Ninja Van</td>\n",
       "      <td>16500</td>\n",
       "      <td>Tổng đơn hàng từ 4 đơn trở lên và có tỷ lệ hoàn từ 50% trở lên + Trung bình thời gian giao hàng lớn hơn hoặc bằng 120h (Nội Miền)</td>\n",
       "      <td>3.00</td>\n",
       "      <td>5</td>\n",
       "      <td>SPX Express</td>\n",
       "      <td>BEST Express</td>\n",
       "      <td>2</td>\n",
       "      <td>6</td>\n",
       "      <td>6</td>\n",
       "      <td>0.00</td>\n",
       "    </tr>\n",
       "    <tr>\n",
       "      <th>238883</th>\n",
       "      <td>10</td>\n",
       "      <td>SPX Express</td>\n",
       "      <td>18000</td>\n",
       "      <td>Bình thường</td>\n",
       "      <td>2.25</td>\n",
       "      <td>2</td>\n",
       "      <td>SPX Express</td>\n",
       "      <td>BEST Express</td>\n",
       "      <td>3</td>\n",
       "      <td>1</td>\n",
       "      <td>4</td>\n",
       "      <td>0.72</td>\n",
       "    </tr>\n",
       "    <tr>\n",
       "      <th>238925</th>\n",
       "      <td>1</td>\n",
       "      <td>GHTK</td>\n",
       "      <td>24000</td>\n",
       "      <td>Bình thường</td>\n",
       "      <td>2.42</td>\n",
       "      <td>2</td>\n",
       "      <td>SPX Express</td>\n",
       "      <td>BEST Express</td>\n",
       "      <td>6</td>\n",
       "      <td>3</td>\n",
       "      <td>5</td>\n",
       "      <td>0.61</td>\n",
       "    </tr>\n",
       "    <tr>\n",
       "      <th>238959</th>\n",
       "      <td>6</td>\n",
       "      <td>BEST Express</td>\n",
       "      <td>15000</td>\n",
       "      <td>Bình thường</td>\n",
       "      <td>2.81</td>\n",
       "      <td>4</td>\n",
       "      <td>SPX Express</td>\n",
       "      <td>BEST Express</td>\n",
       "      <td>1</td>\n",
       "      <td>5</td>\n",
       "      <td>1</td>\n",
       "      <td>1.00</td>\n",
       "    </tr>\n",
       "    <tr>\n",
       "      <th>239036</th>\n",
       "      <td>2</td>\n",
       "      <td>GHN</td>\n",
       "      <td>19000</td>\n",
       "      <td>1 sao &amp; Nhân viên không nhiệt tình</td>\n",
       "      <td>2.35</td>\n",
       "      <td>3</td>\n",
       "      <td>SPX Express</td>\n",
       "      <td>BEST Express</td>\n",
       "      <td>4</td>\n",
       "      <td>2</td>\n",
       "      <td>2</td>\n",
       "      <td>0.84</td>\n",
       "    </tr>\n",
       "    <tr>\n",
       "      <th>239116</th>\n",
       "      <td>4</td>\n",
       "      <td>Viettel Post</td>\n",
       "      <td>21000</td>\n",
       "      <td>Bình thường</td>\n",
       "      <td>2.60</td>\n",
       "      <td>1</td>\n",
       "      <td>SPX Express</td>\n",
       "      <td>BEST Express</td>\n",
       "      <td>5</td>\n",
       "      <td>4</td>\n",
       "      <td>3</td>\n",
       "      <td>0.74</td>\n",
       "    </tr>\n",
       "  </tbody>\n",
       "</table>\n",
       "</div>"
      ],
      "text/plain": [
       "        carrier_id       carrier  service_fee                                                                                                             carrier_status_comment  estimate_delivery_time_details  delivery_success_rate_id customer_best_carrier partner_best_carrier  cheapest_carrier_id  fastest_carrier_id  highest_score_carrier_id  score\n",
       "238784  7           Ninja Van     16500        Tổng đơn hàng từ 4 đơn trở lên và có tỷ lệ hoàn từ 50% trở lên + Trung bình thời gian giao hàng lớn hơn hoặc bằng 120h (Nội Miền)  3.00                            5                         SPX Express           BEST Express         2                    6                   6                         0.00 \n",
       "238883  10          SPX Express   18000        Bình thường                                                                                                                        2.25                            2                         SPX Express           BEST Express         3                    1                   4                         0.72 \n",
       "238925  1           GHTK          24000        Bình thường                                                                                                                        2.42                            2                         SPX Express           BEST Express         6                    3                   5                         0.61 \n",
       "238959  6           BEST Express  15000        Bình thường                                                                                                                        2.81                            4                         SPX Express           BEST Express         1                    5                   1                         1.00 \n",
       "239036  2           GHN           19000        1 sao & Nhân viên không nhiệt tình                                                                                                 2.35                            3                         SPX Express           BEST Express         4                    2                   2                         0.84 \n",
       "239116  4           Viettel Post  21000        Bình thường                                                                                                                        2.60                            1                         SPX Express           BEST Express         5                    4                   3                         0.74 "
      ]
     },
     "execution_count": 68,
     "metadata": {},
     "output_type": "execute_result"
    }
   ],
   "source": [
    "final_df.loc[final_df['order_id'] == 'BDGS101316LM.811019168'][[\n",
    "    # 'order_id', \n",
    "    # 'receiver_province_id', 'receiver_district_id', 'order_type_id',\n",
    "    'carrier_id', 'carrier', 'service_fee', 'carrier_status_comment', \n",
    "    'estimate_delivery_time_details','delivery_success_rate_id', \n",
    "    'customer_best_carrier', 'partner_best_carrier', \n",
    "    # 'customer_best_carrier_id', 'partner_best_carrier_id', \n",
    "    'cheapest_carrier_id', 'fastest_carrier_id', 'highest_score_carrier_id',\n",
    "    'score'\n",
    "]]"
   ]
  },
  {
   "cell_type": "code",
   "execution_count": 69,
   "id": "01231da1-d564-47eb-bfbe-acc8a9455d3c",
   "metadata": {
    "execution": {
     "iopub.execute_input": "2023-11-17T13:32:29.544464Z",
     "iopub.status.busy": "2023-11-17T13:32:29.543870Z",
     "iopub.status.idle": "2023-11-17T13:32:29.605431Z",
     "shell.execute_reply": "2023-11-17T13:32:29.604143Z",
     "shell.execute_reply.started": "2023-11-17T13:32:29.544398Z"
    }
   },
   "outputs": [
    {
     "data": {
      "text/html": [
       "<div>\n",
       "<style scoped>\n",
       "    .dataframe tbody tr th:only-of-type {\n",
       "        vertical-align: middle;\n",
       "    }\n",
       "\n",
       "    .dataframe tbody tr th {\n",
       "        vertical-align: top;\n",
       "    }\n",
       "\n",
       "    .dataframe thead th {\n",
       "        text-align: right;\n",
       "    }\n",
       "</style>\n",
       "<table border=\"1\" class=\"dataframe\">\n",
       "  <thead>\n",
       "    <tr style=\"text-align: right;\">\n",
       "      <th></th>\n",
       "      <th>carrier_id</th>\n",
       "      <th>delivery_success_rate</th>\n",
       "      <th>total_order</th>\n",
       "    </tr>\n",
       "  </thead>\n",
       "  <tbody>\n",
       "    <tr>\n",
       "      <th>22434</th>\n",
       "      <td>1</td>\n",
       "      <td>100.00</td>\n",
       "      <td>12</td>\n",
       "    </tr>\n",
       "    <tr>\n",
       "      <th>22435</th>\n",
       "      <td>2</td>\n",
       "      <td>98.85</td>\n",
       "      <td>87</td>\n",
       "    </tr>\n",
       "    <tr>\n",
       "      <th>22436</th>\n",
       "      <td>4</td>\n",
       "      <td>100.00</td>\n",
       "      <td>18</td>\n",
       "    </tr>\n",
       "    <tr>\n",
       "      <th>22437</th>\n",
       "      <td>6</td>\n",
       "      <td>90.74</td>\n",
       "      <td>540</td>\n",
       "    </tr>\n",
       "    <tr>\n",
       "      <th>22438</th>\n",
       "      <td>7</td>\n",
       "      <td>41.67</td>\n",
       "      <td>36</td>\n",
       "    </tr>\n",
       "    <tr>\n",
       "      <th>22439</th>\n",
       "      <td>10</td>\n",
       "      <td>100.00</td>\n",
       "      <td>12</td>\n",
       "    </tr>\n",
       "  </tbody>\n",
       "</table>\n",
       "</div>"
      ],
      "text/plain": [
       "       carrier_id  delivery_success_rate  total_order\n",
       "22434  1           100.00                 12         \n",
       "22435  2           98.85                  87         \n",
       "22436  4           100.00                 18         \n",
       "22437  6           90.74                  540        \n",
       "22438  7           41.67                  36         \n",
       "22439  10          100.00                 12         "
      ]
     },
     "execution_count": 69,
     "metadata": {},
     "output_type": "execute_result"
    }
   ],
   "source": [
    "data_api_df = pd.read_parquet(ROOT_PATH + '/output/data_api.parquet')\n",
    "data_api_df.loc[\n",
    "    (data_api_df['receiver_province_id'] == '74')\n",
    "    &(data_api_df['receiver_district_id'] == '725') \n",
    "    &(data_api_df['order_type_id'] == 6)\n",
    "][['carrier_id', 'delivery_success_rate', 'total_order']]"
   ]
  },
  {
   "cell_type": "code",
   "execution_count": 75,
   "id": "7f13121b-17f7-4a53-85c4-0a4d4b2576b3",
   "metadata": {
    "execution": {
     "iopub.execute_input": "2023-11-17T13:44:21.044415Z",
     "iopub.status.busy": "2023-11-17T13:44:21.043854Z",
     "iopub.status.idle": "2023-11-17T13:44:21.053513Z",
     "shell.execute_reply": "2023-11-17T13:44:21.052285Z",
     "shell.execute_reply.started": "2023-11-17T13:44:21.044353Z"
    }
   },
   "outputs": [
    {
     "data": {
      "text/plain": [
       "1"
      ]
     },
     "execution_count": 75,
     "metadata": {},
     "output_type": "execute_result"
    }
   ],
   "source": [
    "data_api_df['carrier_id'].values[0]"
   ]
  },
  {
   "cell_type": "code",
   "execution_count": 70,
   "id": "108cda13-f1c6-43bb-ac1a-a5cbcf2c962e",
   "metadata": {
    "execution": {
     "iopub.execute_input": "2023-11-17T13:32:30.660642Z",
     "iopub.status.busy": "2023-11-17T13:32:30.660031Z",
     "iopub.status.idle": "2023-11-17T13:32:30.666190Z",
     "shell.execute_reply": "2023-11-17T13:32:30.664765Z",
     "shell.execute_reply.started": "2023-11-17T13:32:30.660576Z"
    }
   },
   "outputs": [],
   "source": [
    "# final_df[API_COLS]"
   ]
  },
  {
   "cell_type": "code",
   "execution_count": 71,
   "id": "2c8e5598-98a6-4413-bc3e-054340c0af88",
   "metadata": {
    "execution": {
     "iopub.execute_input": "2023-11-17T13:32:32.093508Z",
     "iopub.status.busy": "2023-11-17T13:32:32.092923Z",
     "iopub.status.idle": "2023-11-17T13:32:32.207955Z",
     "shell.execute_reply": "2023-11-17T13:32:32.206699Z",
     "shell.execute_reply.started": "2023-11-17T13:32:32.093441Z"
    }
   },
   "outputs": [
    {
     "data": {
      "text/html": [
       "<div>\n",
       "<style scoped>\n",
       "    .dataframe tbody tr th:only-of-type {\n",
       "        vertical-align: middle;\n",
       "    }\n",
       "\n",
       "    .dataframe tbody tr th {\n",
       "        vertical-align: top;\n",
       "    }\n",
       "\n",
       "    .dataframe thead th {\n",
       "        text-align: right;\n",
       "    }\n",
       "</style>\n",
       "<table border=\"1\" class=\"dataframe\">\n",
       "  <thead>\n",
       "    <tr style=\"text-align: right;\">\n",
       "      <th></th>\n",
       "      <th>carrier_id</th>\n",
       "      <th>carrier</th>\n",
       "      <th>service_fee</th>\n",
       "      <th>carrier_status_comment</th>\n",
       "      <th>estimate_delivery_time_details</th>\n",
       "      <th>delivery_success_rate_id</th>\n",
       "      <th>customer_best_carrier</th>\n",
       "      <th>partner_best_carrier</th>\n",
       "      <th>cheapest_carrier_id</th>\n",
       "      <th>fastest_carrier_id</th>\n",
       "      <th>highest_score_carrier_id</th>\n",
       "      <th>score</th>\n",
       "    </tr>\n",
       "  </thead>\n",
       "  <tbody>\n",
       "    <tr>\n",
       "      <th>15111</th>\n",
       "      <td>1</td>\n",
       "      <td>GHTK</td>\n",
       "      <td>24000</td>\n",
       "      <td>Bình thường</td>\n",
       "      <td>2.00</td>\n",
       "      <td>2</td>\n",
       "      <td>BEST Express</td>\n",
       "      <td>BEST Express</td>\n",
       "      <td>6</td>\n",
       "      <td>3</td>\n",
       "      <td>5</td>\n",
       "      <td>0.61</td>\n",
       "    </tr>\n",
       "    <tr>\n",
       "      <th>15409</th>\n",
       "      <td>2</td>\n",
       "      <td>GHN</td>\n",
       "      <td>18000</td>\n",
       "      <td>1 sao &amp; Nhân viên không nhiệt tình</td>\n",
       "      <td>2.24</td>\n",
       "      <td>3</td>\n",
       "      <td>BEST Express</td>\n",
       "      <td>BEST Express</td>\n",
       "      <td>4</td>\n",
       "      <td>4</td>\n",
       "      <td>2</td>\n",
       "      <td>0.84</td>\n",
       "    </tr>\n",
       "    <tr>\n",
       "      <th>15703</th>\n",
       "      <td>4</td>\n",
       "      <td>Viettel Post</td>\n",
       "      <td>21000</td>\n",
       "      <td>Bình thường</td>\n",
       "      <td>2.31</td>\n",
       "      <td>1</td>\n",
       "      <td>BEST Express</td>\n",
       "      <td>BEST Express</td>\n",
       "      <td>5</td>\n",
       "      <td>5</td>\n",
       "      <td>3</td>\n",
       "      <td>0.74</td>\n",
       "    </tr>\n",
       "    <tr>\n",
       "      <th>16039</th>\n",
       "      <td>6</td>\n",
       "      <td>BEST Express</td>\n",
       "      <td>15000</td>\n",
       "      <td>Bình thường</td>\n",
       "      <td>1.62</td>\n",
       "      <td>4</td>\n",
       "      <td>BEST Express</td>\n",
       "      <td>BEST Express</td>\n",
       "      <td>2</td>\n",
       "      <td>1</td>\n",
       "      <td>1</td>\n",
       "      <td>1.00</td>\n",
       "    </tr>\n",
       "    <tr>\n",
       "      <th>16329</th>\n",
       "      <td>7</td>\n",
       "      <td>Ninja Van</td>\n",
       "      <td>13000</td>\n",
       "      <td>Tổng đơn hàng từ 4 đơn trở lên và có tỷ lệ hoàn từ 50% trở lên + Trung bình thời gian giao hàng lớn hơn hoặc bằng 120h (Nội Miền)</td>\n",
       "      <td>8.68</td>\n",
       "      <td>5</td>\n",
       "      <td>BEST Express</td>\n",
       "      <td>BEST Express</td>\n",
       "      <td>1</td>\n",
       "      <td>6</td>\n",
       "      <td>6</td>\n",
       "      <td>0.00</td>\n",
       "    </tr>\n",
       "    <tr>\n",
       "      <th>16608</th>\n",
       "      <td>10</td>\n",
       "      <td>SPX Express</td>\n",
       "      <td>16000</td>\n",
       "      <td>Bình thường</td>\n",
       "      <td>1.82</td>\n",
       "      <td>2</td>\n",
       "      <td>BEST Express</td>\n",
       "      <td>BEST Express</td>\n",
       "      <td>3</td>\n",
       "      <td>2</td>\n",
       "      <td>4</td>\n",
       "      <td>0.72</td>\n",
       "    </tr>\n",
       "  </tbody>\n",
       "</table>\n",
       "</div>"
      ],
      "text/plain": [
       "       carrier_id       carrier  service_fee                                                                                                             carrier_status_comment  estimate_delivery_time_details  delivery_success_rate_id customer_best_carrier partner_best_carrier  cheapest_carrier_id  fastest_carrier_id  highest_score_carrier_id  score\n",
       "15111  1           GHTK          24000        Bình thường                                                                                                                        2.00                            2                         BEST Express          BEST Express         6                    3                   5                         0.61 \n",
       "15409  2           GHN           18000        1 sao & Nhân viên không nhiệt tình                                                                                                 2.24                            3                         BEST Express          BEST Express         4                    4                   2                         0.84 \n",
       "15703  4           Viettel Post  21000        Bình thường                                                                                                                        2.31                            1                         BEST Express          BEST Express         5                    5                   3                         0.74 \n",
       "16039  6           BEST Express  15000        Bình thường                                                                                                                        1.62                            4                         BEST Express          BEST Express         2                    1                   1                         1.00 \n",
       "16329  7           Ninja Van     13000        Tổng đơn hàng từ 4 đơn trở lên và có tỷ lệ hoàn từ 50% trở lên + Trung bình thời gian giao hàng lớn hơn hoặc bằng 120h (Nội Miền)  8.68                            5                         BEST Express          BEST Express         1                    6                   6                         0.00 \n",
       "16608  10          SPX Express   16000        Bình thường                                                                                                                        1.82                            2                         BEST Express          BEST Express         3                    2                   4                         0.72 "
      ]
     },
     "execution_count": 71,
     "metadata": {},
     "output_type": "execute_result"
    }
   ],
   "source": [
    "final_df.loc[final_df['order_id'] == 'BDGS102433NM.810895527'][[\n",
    "    # 'order_id', \n",
    "    # 'receiver_province_id', 'receiver_district_id', 'order_type_id',\n",
    "    'carrier_id', 'carrier', 'service_fee', 'carrier_status_comment', \n",
    "    'estimate_delivery_time_details','delivery_success_rate_id', \n",
    "    'customer_best_carrier', 'partner_best_carrier', \n",
    "    # 'customer_best_carrier_id', 'partner_best_carrier_id', \n",
    "    'cheapest_carrier_id', 'fastest_carrier_id', 'highest_score_carrier_id',\n",
    "    'score'\n",
    "]]"
   ]
  },
  {
   "cell_type": "code",
   "execution_count": 72,
   "id": "28bf6027-1d33-48c4-9603-bf3ba1951196",
   "metadata": {
    "execution": {
     "iopub.execute_input": "2023-11-17T13:32:40.158142Z",
     "iopub.status.busy": "2023-11-17T13:32:40.157555Z",
     "iopub.status.idle": "2023-11-17T13:32:40.216351Z",
     "shell.execute_reply": "2023-11-17T13:32:40.215092Z",
     "shell.execute_reply.started": "2023-11-17T13:32:40.158076Z"
    }
   },
   "outputs": [
    {
     "data": {
      "text/html": [
       "<div>\n",
       "<style scoped>\n",
       "    .dataframe tbody tr th:only-of-type {\n",
       "        vertical-align: middle;\n",
       "    }\n",
       "\n",
       "    .dataframe tbody tr th {\n",
       "        vertical-align: top;\n",
       "    }\n",
       "\n",
       "    .dataframe thead th {\n",
       "        text-align: right;\n",
       "    }\n",
       "</style>\n",
       "<table border=\"1\" class=\"dataframe\">\n",
       "  <thead>\n",
       "    <tr style=\"text-align: right;\">\n",
       "      <th></th>\n",
       "      <th>carrier_id</th>\n",
       "      <th>delivery_success_rate</th>\n",
       "      <th>total_order</th>\n",
       "    </tr>\n",
       "  </thead>\n",
       "  <tbody>\n",
       "    <tr>\n",
       "      <th>22428</th>\n",
       "      <td>1</td>\n",
       "      <td>100.00</td>\n",
       "      <td>12</td>\n",
       "    </tr>\n",
       "    <tr>\n",
       "      <th>22429</th>\n",
       "      <td>2</td>\n",
       "      <td>98.85</td>\n",
       "      <td>87</td>\n",
       "    </tr>\n",
       "    <tr>\n",
       "      <th>22430</th>\n",
       "      <td>4</td>\n",
       "      <td>100.00</td>\n",
       "      <td>18</td>\n",
       "    </tr>\n",
       "    <tr>\n",
       "      <th>22431</th>\n",
       "      <td>6</td>\n",
       "      <td>90.74</td>\n",
       "      <td>540</td>\n",
       "    </tr>\n",
       "    <tr>\n",
       "      <th>22432</th>\n",
       "      <td>7</td>\n",
       "      <td>41.67</td>\n",
       "      <td>36</td>\n",
       "    </tr>\n",
       "    <tr>\n",
       "      <th>22433</th>\n",
       "      <td>10</td>\n",
       "      <td>100.00</td>\n",
       "      <td>12</td>\n",
       "    </tr>\n",
       "  </tbody>\n",
       "</table>\n",
       "</div>"
      ],
      "text/plain": [
       "       carrier_id  delivery_success_rate  total_order\n",
       "22428  1           100.00                 12         \n",
       "22429  2           98.85                  87         \n",
       "22430  4           100.00                 18         \n",
       "22431  6           90.74                  540        \n",
       "22432  7           41.67                  36         \n",
       "22433  10          100.00                 12         "
      ]
     },
     "execution_count": 72,
     "metadata": {},
     "output_type": "execute_result"
    }
   ],
   "source": [
    "data_api_df = pd.read_parquet(ROOT_PATH + '/output/data_api.parquet')\n",
    "data_api_df.loc[\n",
    "    (data_api_df['receiver_province_id'] == '74')\n",
    "    &(data_api_df['receiver_district_id'] == '725') \n",
    "    &(data_api_df['order_type_id'] == 5)\n",
    "][['carrier_id', 'delivery_success_rate', 'total_order']]"
   ]
  },
  {
   "cell_type": "markdown",
   "id": "fbfb4866-3ce4-4ace-b389-742a30cf7f9b",
   "metadata": {},
   "source": [
    "## Test"
   ]
  },
  {
   "cell_type": "code",
   "execution_count": 24,
   "id": "24839972-b609-4613-bd29-72ae20b9ae13",
   "metadata": {
    "execution": {
     "iopub.execute_input": "2023-11-05T19:28:27.396061Z",
     "iopub.status.busy": "2023-11-05T19:28:27.395666Z",
     "iopub.status.idle": "2023-11-05T19:28:27.694126Z",
     "shell.execute_reply": "2023-11-05T19:28:27.692653Z",
     "shell.execute_reply.started": "2023-11-05T19:28:27.396010Z"
    }
   },
   "outputs": [
    {
     "name": "stdout",
     "output_type": "stream",
     "text": [
      "Số dòng:  77959\n"
     ]
    }
   ],
   "source": [
    "giao_dich_valid = pd.read_parquet(ROOT_PATH + '/processed_data/giao_dich_combine_valid.parquet')\n",
    "giao_dich_valid = giao_dich_valid[[\n",
    "    'order_id', 'weight', 'delivery_type', 'sender_province', 'sender_district',\n",
    "    'receiver_province', 'receiver_district'\n",
    "]]\n",
    "input_df = (\n",
    "    giao_dich_valid.merge(\n",
    "        PROVINCE_MAPPING_DISTRICT_DF.rename(columns={\n",
    "            'province_id': 'sender_province_id',\n",
    "            'district_id': 'sender_district_id',\n",
    "            'province': 'sender_province',\n",
    "            'district': 'sender_district'\n",
    "        }), on=['sender_province', 'sender_district'], how='left')\n",
    "        .merge(\n",
    "        PROVINCE_MAPPING_DISTRICT_DF.rename(columns={\n",
    "            'province_id': 'receiver_province_id',\n",
    "            'district_id': 'receiver_district_id',\n",
    "            'province': 'receiver_province',\n",
    "            'district': 'receiver_district',\n",
    "        }), on=['receiver_province', 'receiver_district'], how='left')\n",
    ")\n",
    "\n",
    "input_df = input_df[[\n",
    "    'order_id', 'weight', 'delivery_type', 'sender_province_id', 'sender_district_id',\n",
    "    'receiver_province_id', 'receiver_district_id'\n",
    "]]\n",
    "input_df['delivery_type'] = input_df['delivery_type'].fillna('Gửi Bưu Cục')\n",
    "\n",
    "assert len(giao_dich_valid) == len(input_df), 'Transform data sai'\n",
    "print('Số dòng: ', len(input_df))"
   ]
  },
  {
   "cell_type": "code",
   "execution_count": 25,
   "id": "6c3e30e2-2156-41b2-bfe5-8579c2dd53a8",
   "metadata": {
    "execution": {
     "iopub.execute_input": "2023-11-05T19:28:29.040475Z",
     "iopub.status.busy": "2023-11-05T19:28:29.039902Z",
     "iopub.status.idle": "2023-11-05T19:29:46.954824Z",
     "shell.execute_reply": "2023-11-05T19:29:46.952846Z",
     "shell.execute_reply.started": "2023-11-05T19:28:29.040409Z"
    }
   },
   "outputs": [],
   "source": [
    "tmp_df1 = generate_order_type(input_df)\n",
    "assert len(tmp_df1) == len(input_df) * len(ACTIVE_CARRIER), 'Transform data sai'"
   ]
  },
  {
   "cell_type": "code",
   "execution_count": 26,
   "id": "9bd06366-b745-4a9c-862d-d93c5f8c1eac",
   "metadata": {
    "execution": {
     "iopub.execute_input": "2023-11-05T19:29:46.958463Z",
     "iopub.status.busy": "2023-11-05T19:29:46.958027Z",
     "iopub.status.idle": "2023-11-05T19:29:47.696433Z",
     "shell.execute_reply": "2023-11-05T19:29:47.694732Z",
     "shell.execute_reply.started": "2023-11-05T19:29:46.958405Z"
    }
   },
   "outputs": [],
   "source": [
    "tmp_df2 = combine_info_from_api(tmp_df1)\n",
    "assert len(tmp_df2) == len(tmp_df1), 'Transform data sai'"
   ]
  },
  {
   "cell_type": "code",
   "execution_count": 28,
   "id": "b517ec8c-cf93-42a7-a4e1-88a4211e7854",
   "metadata": {
    "execution": {
     "iopub.execute_input": "2023-11-05T19:29:54.046630Z",
     "iopub.status.busy": "2023-11-05T19:29:54.046021Z",
     "iopub.status.idle": "2023-11-05T19:29:54.078101Z",
     "shell.execute_reply": "2023-11-05T19:29:54.076936Z",
     "shell.execute_reply.started": "2023-11-05T19:29:54.046564Z"
    }
   },
   "outputs": [
    {
     "data": {
      "text/plain": [
       "(42, 2)"
      ]
     },
     "execution_count": 28,
     "metadata": {},
     "output_type": "execute_result"
    }
   ],
   "source": [
    "cuoc_phi_df = pd.read_parquet('./processed_data/cuoc_phi.parquet')\n",
    "cuoc_phi_df = cuoc_phi_df[['carrier', 'order_type', 'gt', 'lt_or_eq', 'service_fee']]\n",
    "cuoc_phi_df[['carrier', 'order_type']].drop_duplicates().shape"
   ]
  },
  {
   "cell_type": "code",
   "execution_count": 29,
   "id": "79b60f96-8e8a-442d-9750-013b89f1a27c",
   "metadata": {
    "execution": {
     "iopub.execute_input": "2023-11-05T19:29:58.475421Z",
     "iopub.status.busy": "2023-11-05T19:29:58.474844Z",
     "iopub.status.idle": "2023-11-05T19:30:16.700104Z",
     "shell.execute_reply": "2023-11-05T19:30:16.698601Z",
     "shell.execute_reply.started": "2023-11-05T19:29:58.475355Z"
    }
   },
   "outputs": [
    {
     "data": {
      "text/plain": [
       "46775400"
      ]
     },
     "execution_count": 29,
     "metadata": {},
     "output_type": "execute_result"
    }
   ],
   "source": [
    "result_df = tmp_df2.merge(cuoc_phi_df, on=['carrier', 'order_type'], how='inner')\n",
    "len(result_df)"
   ]
  },
  {
   "cell_type": "code",
   "execution_count": 30,
   "id": "23d4f1cb-79ec-4a8e-8c6a-ae087383320c",
   "metadata": {
    "execution": {
     "iopub.execute_input": "2023-11-05T19:30:16.703225Z",
     "iopub.status.busy": "2023-11-05T19:30:16.702810Z",
     "iopub.status.idle": "2023-11-05T19:30:49.996136Z",
     "shell.execute_reply": "2023-11-05T19:30:49.994711Z",
     "shell.execute_reply.started": "2023-11-05T19:30:16.703169Z"
    }
   },
   "outputs": [
    {
     "data": {
      "text/plain": [
       "467676"
      ]
     },
     "execution_count": 30,
     "metadata": {},
     "output_type": "execute_result"
    }
   ],
   "source": [
    "result_df1 = result_df.loc[\n",
    "    (result_df['weight'] > result_df['gt']) &\n",
    "    (result_df['weight'] <= result_df['lt_or_eq'])\n",
    "]\n",
    "len(result_df1)"
   ]
  },
  {
   "cell_type": "code",
   "execution_count": 31,
   "id": "52dd8226-fc9f-4821-8ffe-115c7211c680",
   "metadata": {
    "execution": {
     "iopub.execute_input": "2023-11-05T19:31:08.889874Z",
     "iopub.status.busy": "2023-11-05T19:31:08.889240Z",
     "iopub.status.idle": "2023-11-05T19:31:08.899828Z",
     "shell.execute_reply": "2023-11-05T19:31:08.898459Z",
     "shell.execute_reply.started": "2023-11-05T19:31:08.889805Z"
    }
   },
   "outputs": [
    {
     "data": {
      "text/plain": [
       "467754"
      ]
     },
     "execution_count": 31,
     "metadata": {},
     "output_type": "execute_result"
    }
   ],
   "source": [
    "77959 * 6"
   ]
  },
  {
   "cell_type": "code",
   "execution_count": 59,
   "id": "750cfb16-9af1-47ca-bd94-9819215aea30",
   "metadata": {
    "execution": {
     "iopub.execute_input": "2023-11-05T19:15:53.335353Z",
     "iopub.status.busy": "2023-11-05T19:15:53.335167Z",
     "iopub.status.idle": "2023-11-05T19:16:39.653242Z",
     "shell.execute_reply": "2023-11-05T19:16:39.652323Z",
     "shell.execute_reply.started": "2023-11-05T19:15:53.335331Z"
    }
   },
   "outputs": [
    {
     "data": {
      "text/plain": [
       "467689"
      ]
     },
     "execution_count": 59,
     "metadata": {},
     "output_type": "execute_result"
    }
   ],
   "source": [
    "tmp_df3 = calculate_service_fee(tmp_df2)\n",
    "len(tmp_df3)"
   ]
  },
  {
   "cell_type": "code",
   "execution_count": 60,
   "id": "3969fa49-daad-4340-9245-8b7477cef548",
   "metadata": {
    "execution": {
     "iopub.execute_input": "2023-11-05T19:16:39.655214Z",
     "iopub.status.busy": "2023-11-05T19:16:39.655030Z",
     "iopub.status.idle": "2023-11-05T19:16:39.934860Z",
     "shell.execute_reply": "2023-11-05T19:16:39.933948Z",
     "shell.execute_reply.started": "2023-11-05T19:16:39.655190Z"
    }
   },
   "outputs": [
    {
     "data": {
      "text/plain": [
       "order_id                          0\n",
       "weight                            0\n",
       "delivery_type                     0\n",
       "sender_province_id                0\n",
       "sender_district_id                0\n",
       "receiver_province_id              0\n",
       "receiver_district_id              0\n",
       "carrier                           0\n",
       "carrier_id                        0\n",
       "sender_province                   0\n",
       "sender_district                   0\n",
       "receiver_province                 0\n",
       "receiver_district                 0\n",
       "order_type                        0\n",
       "order_type_id                     0\n",
       "sys_order_type_id                 0\n",
       "carrier_status                    0\n",
       "estimate_delivery_time_details    0\n",
       "estimate_delivery_time            0\n",
       "customer_best_carrier             0\n",
       "delivery_success_rate             0\n",
       "score                             0\n",
       "stars                             0\n",
       "total_order                       0\n",
       "service_fee                       0\n",
       "dtype: int64"
      ]
     },
     "execution_count": 60,
     "metadata": {},
     "output_type": "execute_result"
    }
   ],
   "source": [
    "tmp_df3.isna().sum()"
   ]
  },
  {
   "cell_type": "code",
   "execution_count": 61,
   "id": "da17a8ca-c7d6-4414-9a3e-21d2693a5c4f",
   "metadata": {
    "execution": {
     "iopub.execute_input": "2023-11-05T19:16:39.936186Z",
     "iopub.status.busy": "2023-11-05T19:16:39.935995Z",
     "iopub.status.idle": "2023-11-05T19:16:47.368506Z",
     "shell.execute_reply": "2023-11-05T19:16:47.367492Z",
     "shell.execute_reply.started": "2023-11-05T19:16:39.936163Z"
    }
   },
   "outputs": [],
   "source": [
    "tmp_df4 = calculate_notification(tmp_df3)\n",
    "assert len(tmp_df4) == len(tmp_df3), 'Transform data sai'"
   ]
  },
  {
   "cell_type": "code",
   "execution_count": 62,
   "id": "a83489ca-460b-4ad4-9a41-c0ea80ec99a6",
   "metadata": {
    "execution": {
     "iopub.execute_input": "2023-11-05T19:16:47.369778Z",
     "iopub.status.busy": "2023-11-05T19:16:47.369558Z",
     "iopub.status.idle": "2023-11-05T19:16:47.687119Z",
     "shell.execute_reply": "2023-11-05T19:16:47.686411Z",
     "shell.execute_reply.started": "2023-11-05T19:16:47.369752Z"
    }
   },
   "outputs": [
    {
     "data": {
      "text/plain": [
       "order_id                          0\n",
       "service_fee                       0\n",
       "notification                      0\n",
       "weight                            0\n",
       "delivery_type                     0\n",
       "sender_province_id                0\n",
       "sender_district_id                0\n",
       "receiver_province_id              0\n",
       "receiver_district_id              0\n",
       "carrier                           0\n",
       "carrier_id                        0\n",
       "sender_province                   0\n",
       "sender_district                   0\n",
       "receiver_province                 0\n",
       "receiver_district                 0\n",
       "order_type                        0\n",
       "order_type_id                     0\n",
       "sys_order_type_id                 0\n",
       "carrier_status                    0\n",
       "estimate_delivery_time_details    0\n",
       "estimate_delivery_time            0\n",
       "customer_best_carrier             0\n",
       "delivery_success_rate             0\n",
       "score                             0\n",
       "stars                             0\n",
       "total_order                       0\n",
       "dtype: int64"
      ]
     },
     "execution_count": 62,
     "metadata": {},
     "output_type": "execute_result"
    }
   ],
   "source": [
    "tmp_df4.isna().sum()"
   ]
  },
  {
   "cell_type": "code",
   "execution_count": 63,
   "id": "42157f83-d658-4a9c-80f0-5b7a5b702751",
   "metadata": {
    "execution": {
     "iopub.execute_input": "2023-11-05T19:16:47.688447Z",
     "iopub.status.busy": "2023-11-05T19:16:47.688210Z",
     "iopub.status.idle": "2023-11-05T19:16:49.676921Z",
     "shell.execute_reply": "2023-11-05T19:16:49.675939Z",
     "shell.execute_reply.started": "2023-11-05T19:16:47.688421Z"
    }
   },
   "outputs": [],
   "source": [
    "partner_best_carrier_df = partner_best_carrier(tmp_df4)\n",
    "\n",
    "final_df = (\n",
    "tmp_df4.merge(\n",
    "    partner_best_carrier_df,\n",
    "    on=['receiver_province', 'receiver_district', 'order_type'],\n",
    "    how='inner'\n",
    ")\n",
    ")\n",
    "assert len(final_df) == len(tmp_df4), 'Transform data sai'\n",
    "\n",
    "final_df = final_df[[\n",
    "'order_id',\n",
    "'sender_province_id', 'sender_province', 'sender_district_id', 'sender_district',\n",
    "'receiver_province_id', 'receiver_province', 'receiver_district_id', 'receiver_district',\n",
    "'carrier_id', 'carrier', 'order_type', 'order_type_id', 'sys_order_type_id',\n",
    "'weight', 'service_fee', 'delivery_type',\n",
    "'carrier_status', 'estimate_delivery_time_details', 'estimate_delivery_time', 'delivery_success_rate',\n",
    "'customer_best_carrier', 'partner_best_carrier', 'score', 'stars', 'notification',\n",
    "]]"
   ]
  },
  {
   "cell_type": "code",
   "execution_count": 64,
   "id": "69a68a09-d3f5-45a4-9f60-011b7fa4334e",
   "metadata": {
    "execution": {
     "iopub.execute_input": "2023-11-05T19:16:49.678164Z",
     "iopub.status.busy": "2023-11-05T19:16:49.677965Z",
     "iopub.status.idle": "2023-11-05T19:16:49.683280Z",
     "shell.execute_reply": "2023-11-05T19:16:49.682554Z",
     "shell.execute_reply.started": "2023-11-05T19:16:49.678140Z"
    }
   },
   "outputs": [
    {
     "data": {
      "text/plain": [
       "467689"
      ]
     },
     "execution_count": 64,
     "metadata": {},
     "output_type": "execute_result"
    }
   ],
   "source": [
    "len(final_df)"
   ]
  },
  {
   "cell_type": "markdown",
   "id": "5d1dd636-1ed2-4335-a350-3e57c2bf5de5",
   "metadata": {},
   "source": [
    "# Check output"
   ]
  },
  {
   "cell_type": "code",
   "execution_count": 13,
   "id": "facaba19-02ab-4cd2-99a5-4c8a5c90b7d4",
   "metadata": {
    "execution": {
     "iopub.execute_input": "2023-11-05T16:37:18.622437Z",
     "iopub.status.busy": "2023-11-05T16:37:18.621971Z",
     "iopub.status.idle": "2023-11-05T16:37:18.663029Z",
     "shell.execute_reply": "2023-11-05T16:37:18.661635Z",
     "shell.execute_reply.started": "2023-11-05T16:37:18.622375Z"
    }
   },
   "outputs": [],
   "source": [
    "data_api_df = pd.read_parquet(ROOT_PATH + '/output/data_api.parquet')\n",
    "# data_full_df = pd.read_parquet(ROOT_PATH + '/output/data_full.parquet')"
   ]
  },
  {
   "cell_type": "code",
   "execution_count": 136,
   "id": "d89e0fb1-b372-47bc-92c8-ec2432aeb375",
   "metadata": {
    "execution": {
     "iopub.execute_input": "2023-11-05T14:32:11.420618Z",
     "iopub.status.busy": "2023-11-05T14:32:11.420022Z",
     "iopub.status.idle": "2023-11-05T14:32:11.434515Z",
     "shell.execute_reply": "2023-11-05T14:32:11.433327Z",
     "shell.execute_reply.started": "2023-11-05T14:32:11.420551Z"
    }
   },
   "outputs": [
    {
     "data": {
      "text/plain": [
       "(4802, 29946)"
      ]
     },
     "execution_count": 136,
     "metadata": {},
     "output_type": "execute_result"
    }
   ],
   "source": [
    "## Vẫn còn nhiều khu vực có total_order == 0, tăng số ngày lấy data\n",
    "data_api_df.loc[data_api_df['total_order'] == 0].shape[0], len(data_api_df)"
   ]
  },
  {
   "cell_type": "code",
   "execution_count": 137,
   "id": "204c6dca-d5dc-45e4-a48f-aeb8fa2a7e47",
   "metadata": {
    "execution": {
     "iopub.execute_input": "2023-11-05T14:32:12.619772Z",
     "iopub.status.busy": "2023-11-05T14:32:12.619176Z",
     "iopub.status.idle": "2023-11-05T14:32:12.629373Z",
     "shell.execute_reply": "2023-11-05T14:32:12.628161Z",
     "shell.execute_reply.started": "2023-11-05T14:32:12.619705Z"
    }
   },
   "outputs": [
    {
     "data": {
      "text/plain": [
       "730"
      ]
     },
     "execution_count": 137,
     "metadata": {},
     "output_type": "execute_result"
    }
   ],
   "source": [
    "data_api_df['total_order'].max()"
   ]
  },
  {
   "cell_type": "code",
   "execution_count": 138,
   "id": "8fb3c977-e2f3-4cf6-9f9a-dd3a8f603a11",
   "metadata": {
    "execution": {
     "iopub.execute_input": "2023-11-05T14:32:13.459892Z",
     "iopub.status.busy": "2023-11-05T14:32:13.459263Z",
     "iopub.status.idle": "2023-11-05T14:32:13.499361Z",
     "shell.execute_reply": "2023-11-05T14:32:13.498144Z",
     "shell.execute_reply.started": "2023-11-05T14:32:13.459824Z"
    },
    "scrolled": true
   },
   "outputs": [
    {
     "data": {
      "text/html": [
       "<div>\n",
       "<style scoped>\n",
       "    .dataframe tbody tr th:only-of-type {\n",
       "        vertical-align: middle;\n",
       "    }\n",
       "\n",
       "    .dataframe tbody tr th {\n",
       "        vertical-align: top;\n",
       "    }\n",
       "\n",
       "    .dataframe thead th {\n",
       "        text-align: right;\n",
       "    }\n",
       "</style>\n",
       "<table border=\"1\" class=\"dataframe\">\n",
       "  <thead>\n",
       "    <tr style=\"text-align: right;\">\n",
       "      <th></th>\n",
       "      <th>receiver_province_id</th>\n",
       "      <th>receiver_province</th>\n",
       "      <th>receiver_district_id</th>\n",
       "      <th>receiver_district</th>\n",
       "      <th>carrier_id</th>\n",
       "      <th>carrier</th>\n",
       "      <th>order_type</th>\n",
       "      <th>order_type_id</th>\n",
       "      <th>carrier_status</th>\n",
       "      <th>estimate_delivery_time_details</th>\n",
       "      <th>total_order</th>\n",
       "      <th>estimate_delivery_time</th>\n",
       "      <th>delivery_success_rate</th>\n",
       "      <th>score</th>\n",
       "      <th>stars</th>\n",
       "    </tr>\n",
       "  </thead>\n",
       "  <tbody>\n",
       "    <tr>\n",
       "      <th>24213</th>\n",
       "      <td>79</td>\n",
       "      <td>Thành phố Hồ Chí Minh</td>\n",
       "      <td>785</td>\n",
       "      <td>Huyện Bình Chánh</td>\n",
       "      <td>6</td>\n",
       "      <td>BEST Express</td>\n",
       "      <td>Nội Miền</td>\n",
       "      <td>5</td>\n",
       "      <td>Bình thường</td>\n",
       "      <td>2.37</td>\n",
       "      <td>730</td>\n",
       "      <td>2.5 - 3.0 ngày</td>\n",
       "      <td>88.08</td>\n",
       "      <td>1.0</td>\n",
       "      <td>5</td>\n",
       "    </tr>\n",
       "    <tr>\n",
       "      <th>24214</th>\n",
       "      <td>79</td>\n",
       "      <td>Thành phố Hồ Chí Minh</td>\n",
       "      <td>785</td>\n",
       "      <td>Huyện Bình Chánh</td>\n",
       "      <td>6</td>\n",
       "      <td>BEST Express</td>\n",
       "      <td>Cận Miền</td>\n",
       "      <td>6</td>\n",
       "      <td>Bình thường</td>\n",
       "      <td>2.94</td>\n",
       "      <td>730</td>\n",
       "      <td>3.0 - 3.5 ngày</td>\n",
       "      <td>88.08</td>\n",
       "      <td>1.0</td>\n",
       "      <td>5</td>\n",
       "    </tr>\n",
       "    <tr>\n",
       "      <th>24215</th>\n",
       "      <td>79</td>\n",
       "      <td>Thành phố Hồ Chí Minh</td>\n",
       "      <td>785</td>\n",
       "      <td>Huyện Bình Chánh</td>\n",
       "      <td>6</td>\n",
       "      <td>BEST Express</td>\n",
       "      <td>Cách Miền</td>\n",
       "      <td>7</td>\n",
       "      <td>Bình thường</td>\n",
       "      <td>3.72</td>\n",
       "      <td>730</td>\n",
       "      <td>4.0 - 4.5 ngày</td>\n",
       "      <td>88.08</td>\n",
       "      <td>1.0</td>\n",
       "      <td>5</td>\n",
       "    </tr>\n",
       "    <tr>\n",
       "      <th>24216</th>\n",
       "      <td>79</td>\n",
       "      <td>Thành phố Hồ Chí Minh</td>\n",
       "      <td>785</td>\n",
       "      <td>Huyện Bình Chánh</td>\n",
       "      <td>6</td>\n",
       "      <td>BEST Express</td>\n",
       "      <td>Nội Thành Tỉnh</td>\n",
       "      <td>1</td>\n",
       "      <td>Bình thường</td>\n",
       "      <td>2.00</td>\n",
       "      <td>730</td>\n",
       "      <td>2.0 - 2.5 ngày</td>\n",
       "      <td>88.08</td>\n",
       "      <td>1.0</td>\n",
       "      <td>5</td>\n",
       "    </tr>\n",
       "    <tr>\n",
       "      <th>24217</th>\n",
       "      <td>79</td>\n",
       "      <td>Thành phố Hồ Chí Minh</td>\n",
       "      <td>785</td>\n",
       "      <td>Huyện Bình Chánh</td>\n",
       "      <td>6</td>\n",
       "      <td>BEST Express</td>\n",
       "      <td>Ngoại Thành Tỉnh</td>\n",
       "      <td>2</td>\n",
       "      <td>Bình thường</td>\n",
       "      <td>2.00</td>\n",
       "      <td>730</td>\n",
       "      <td>2.0 - 2.5 ngày</td>\n",
       "      <td>88.08</td>\n",
       "      <td>1.0</td>\n",
       "      <td>5</td>\n",
       "    </tr>\n",
       "    <tr>\n",
       "      <th>24218</th>\n",
       "      <td>79</td>\n",
       "      <td>Thành phố Hồ Chí Minh</td>\n",
       "      <td>785</td>\n",
       "      <td>Huyện Bình Chánh</td>\n",
       "      <td>6</td>\n",
       "      <td>BEST Express</td>\n",
       "      <td>Nội Thành Tp.HCM - HN</td>\n",
       "      <td>3</td>\n",
       "      <td>Bình thường</td>\n",
       "      <td>2.00</td>\n",
       "      <td>730</td>\n",
       "      <td>2.0 - 2.5 ngày</td>\n",
       "      <td>88.08</td>\n",
       "      <td>1.0</td>\n",
       "      <td>5</td>\n",
       "    </tr>\n",
       "    <tr>\n",
       "      <th>24219</th>\n",
       "      <td>79</td>\n",
       "      <td>Thành phố Hồ Chí Minh</td>\n",
       "      <td>785</td>\n",
       "      <td>Huyện Bình Chánh</td>\n",
       "      <td>6</td>\n",
       "      <td>BEST Express</td>\n",
       "      <td>Ngoại Thành Tp.HCM - HN</td>\n",
       "      <td>4</td>\n",
       "      <td>Bình thường</td>\n",
       "      <td>1.58</td>\n",
       "      <td>730</td>\n",
       "      <td>2.0 - 2.5 ngày</td>\n",
       "      <td>88.08</td>\n",
       "      <td>1.0</td>\n",
       "      <td>5</td>\n",
       "    </tr>\n",
       "  </tbody>\n",
       "</table>\n",
       "</div>"
      ],
      "text/plain": [
       "      receiver_province_id      receiver_province receiver_district_id receiver_district  carrier_id       carrier               order_type  order_type_id carrier_status  estimate_delivery_time_details  total_order estimate_delivery_time  delivery_success_rate  score  stars\n",
       "24213  79                   Thành phố Hồ Chí Minh  785                  Huyện Bình Chánh  6           BEST Express  Nội Miền                 5              Bình thường    2.37                            730          2.5 - 3.0 ngày         88.08                  1.0    5    \n",
       "24214  79                   Thành phố Hồ Chí Minh  785                  Huyện Bình Chánh  6           BEST Express  Cận Miền                 6              Bình thường    2.94                            730          3.0 - 3.5 ngày         88.08                  1.0    5    \n",
       "24215  79                   Thành phố Hồ Chí Minh  785                  Huyện Bình Chánh  6           BEST Express  Cách Miền                7              Bình thường    3.72                            730          4.0 - 4.5 ngày         88.08                  1.0    5    \n",
       "24216  79                   Thành phố Hồ Chí Minh  785                  Huyện Bình Chánh  6           BEST Express  Nội Thành Tỉnh           1              Bình thường    2.00                            730          2.0 - 2.5 ngày         88.08                  1.0    5    \n",
       "24217  79                   Thành phố Hồ Chí Minh  785                  Huyện Bình Chánh  6           BEST Express  Ngoại Thành Tỉnh         2              Bình thường    2.00                            730          2.0 - 2.5 ngày         88.08                  1.0    5    \n",
       "24218  79                   Thành phố Hồ Chí Minh  785                  Huyện Bình Chánh  6           BEST Express  Nội Thành Tp.HCM - HN    3              Bình thường    2.00                            730          2.0 - 2.5 ngày         88.08                  1.0    5    \n",
       "24219  79                   Thành phố Hồ Chí Minh  785                  Huyện Bình Chánh  6           BEST Express  Ngoại Thành Tp.HCM - HN  4              Bình thường    1.58                            730          2.0 - 2.5 ngày         88.08                  1.0    5    "
      ]
     },
     "execution_count": 138,
     "metadata": {},
     "output_type": "execute_result"
    }
   ],
   "source": [
    "# đưa vào tính toán API trong trường hợp này là 730 đơn\n",
    "data_api_df.loc[data_api_df['total_order'] == data_api_df['total_order'].max()]"
   ]
  },
  {
   "cell_type": "code",
   "execution_count": 139,
   "id": "340152b4-74b4-46f9-b33c-42eba36ad674",
   "metadata": {
    "execution": {
     "iopub.execute_input": "2023-11-05T14:33:02.169046Z",
     "iopub.status.busy": "2023-11-05T14:33:02.168454Z",
     "iopub.status.idle": "2023-11-05T14:33:02.355084Z",
     "shell.execute_reply": "2023-11-05T14:33:02.353861Z",
     "shell.execute_reply.started": "2023-11-05T14:33:02.168982Z"
    }
   },
   "outputs": [
    {
     "data": {
      "text/plain": [
       "(730, 16)"
      ]
     },
     "execution_count": 139,
     "metadata": {},
     "output_type": "execute_result"
    }
   ],
   "source": [
    "# tiêu chí lọc lấy 730 đơn trong case này\n",
    "# đơn tính đối với thời gian giao hàng toàn trình lọc thêm 2 tiêu chí \n",
    "# (lấy giao dịch thành công + lấy giao dịch có ngày bắt đầu và kết thúc đơn)\n",
    "giao_dich_valid = pd.read_parquet(ROOT_PATH + '/processed_data/giao_dich_combine_valid.parquet')\n",
    "giao_dich_valid.loc[\n",
    "    (giao_dich_valid['receiver_province'] == 'Thành phố Hồ Chí Minh')\n",
    "    &(giao_dich_valid['receiver_district'] == 'Huyện Bình Chánh')\n",
    "    &(giao_dich_valid['carrier'] == 'BEST Express')\n",
    "    # &(giao_dich_valid['order_type'] == 'Ngoại Thành Tp.HCM - HN')\n",
    "# lấy giao dịch thành công\n",
    "    # &(giao_dich_valid['order_status'].isin([\n",
    "    #     'Giao hàng thành công',\n",
    "    #     'Đã hoàn thành',\n",
    "    #     'Delivered | Giao hàng thành công',\n",
    "    #     'Thành công - Phát thành công',\n",
    "    #     'Đã giao hàng/Chưa đối soát',\n",
    "    #     'Đã đối soát',\n",
    "    # ]))\n",
    "# lấy giao dịch có ngày bắt đầu và kết thúc đơn\n",
    "    # &giao_dich_valid['finished_at'].notna() \n",
    "    # & giao_dich_valid['carrier_created_at'].notna()\n",
    "].shape"
   ]
  },
  {
   "cell_type": "code",
   "execution_count": 141,
   "id": "a206e5cd-6d13-402f-b7c4-7f9983752baf",
   "metadata": {
    "execution": {
     "iopub.execute_input": "2023-11-05T14:33:06.961033Z",
     "iopub.status.busy": "2023-11-05T14:33:06.960596Z",
     "iopub.status.idle": "2023-11-05T14:33:06.966638Z",
     "shell.execute_reply": "2023-11-05T14:33:06.964905Z",
     "shell.execute_reply.started": "2023-11-05T14:33:06.960975Z"
    }
   },
   "outputs": [],
   "source": [
    "# Chọn khu vực có ngưỡng 5 đơn trở lên"
   ]
  },
  {
   "cell_type": "code",
   "execution_count": 142,
   "id": "5804b484-d3c3-4dcb-a450-8daf4e335a4f",
   "metadata": {
    "execution": {
     "iopub.execute_input": "2023-11-05T14:33:19.653739Z",
     "iopub.status.busy": "2023-11-05T14:33:19.653137Z",
     "iopub.status.idle": "2023-11-05T14:33:28.136790Z",
     "shell.execute_reply": "2023-11-05T14:33:28.135801Z",
     "shell.execute_reply.started": "2023-11-05T14:33:19.653672Z"
    },
    "scrolled": true
   },
   "outputs": [
    {
     "name": "stdout",
     "output_type": "stream",
     "text": [
      "1. Transform data kho giao nhận...\n",
      "Done\n",
      "\n",
      "2. Transform data đánh giá ZNS...\n",
      "Done\n",
      "\n",
      "3. Transform data tỉ lệ giao hàng...\n",
      ">>> Done\n",
      "\n",
      "4. Transform data chất lượng nội bộ...\n",
      "1. Loading dữ liệu...\n",
      "2. Mapping status và score...\n",
      "3. Filling giá trị mặc định...\n",
      ">>> Done\n",
      "\n",
      "5. Transform data thời gian giao hàng toàn trình...\n",
      ">>> Done\n",
      "\n",
      "6. Transform data kho giao nhận...\n",
      ">>> Done\n",
      "\n",
      "7. Transform data tiền giao dịch...\n",
      ">>> Done\n",
      "\n"
     ]
    }
   ],
   "source": [
    "(\n",
    "    ngung_giao_nhan, danh_gia_zns,\n",
    "    ti_le_giao_hang, chat_luong_noi_bo,\n",
    "    thoi_gian_giao_hang, kho_giao_nhan,\n",
    "    tien_giao_dich\n",
    ") = total_transform()"
   ]
  },
  {
   "cell_type": "markdown",
   "id": "7bc4921a-6fda-4935-9044-ca83f3f9d117",
   "metadata": {
    "execution": {
     "iopub.execute_input": "2023-11-05T14:33:53.683863Z",
     "iopub.status.busy": "2023-11-05T14:33:53.683266Z",
     "iopub.status.idle": "2023-11-05T14:33:53.689890Z",
     "shell.execute_reply": "2023-11-05T14:33:53.688456Z",
     "shell.execute_reply.started": "2023-11-05T14:33:53.683798Z"
    }
   },
   "source": [
    "## Check matching số liệu"
   ]
  },
  {
   "cell_type": "code",
   "execution_count": 152,
   "id": "e5cf4248-2e20-47dd-8539-ca8c1c7aad06",
   "metadata": {
    "execution": {
     "iopub.execute_input": "2023-11-05T15:00:55.182809Z",
     "iopub.status.busy": "2023-11-05T15:00:55.182227Z",
     "iopub.status.idle": "2023-11-05T15:00:55.234771Z",
     "shell.execute_reply": "2023-11-05T15:00:55.233560Z",
     "shell.execute_reply.started": "2023-11-05T15:00:55.182745Z"
    },
    "scrolled": true
   },
   "outputs": [
    {
     "data": {
      "text/html": [
       "<div>\n",
       "<style scoped>\n",
       "    .dataframe tbody tr th:only-of-type {\n",
       "        vertical-align: middle;\n",
       "    }\n",
       "\n",
       "    .dataframe tbody tr th {\n",
       "        vertical-align: top;\n",
       "    }\n",
       "\n",
       "    .dataframe thead th {\n",
       "        text-align: right;\n",
       "    }\n",
       "</style>\n",
       "<table border=\"1\" class=\"dataframe\">\n",
       "  <thead>\n",
       "    <tr style=\"text-align: right;\">\n",
       "      <th></th>\n",
       "      <th>receiver_province_id</th>\n",
       "      <th>receiver_province</th>\n",
       "      <th>receiver_district_id</th>\n",
       "      <th>receiver_district</th>\n",
       "      <th>carrier_id</th>\n",
       "      <th>carrier</th>\n",
       "      <th>order_type</th>\n",
       "      <th>order_type_id</th>\n",
       "      <th>carrier_status</th>\n",
       "      <th>estimate_delivery_time_details</th>\n",
       "      <th>total_order</th>\n",
       "      <th>estimate_delivery_time</th>\n",
       "      <th>delivery_success_rate</th>\n",
       "      <th>score</th>\n",
       "      <th>stars</th>\n",
       "    </tr>\n",
       "  </thead>\n",
       "  <tbody>\n",
       "    <tr>\n",
       "      <th>0</th>\n",
       "      <td>01</td>\n",
       "      <td>Thành phố Hà Nội</td>\n",
       "      <td>001</td>\n",
       "      <td>Quận Ba Đình</td>\n",
       "      <td>1</td>\n",
       "      <td>GHTK</td>\n",
       "      <td>Nội Miền</td>\n",
       "      <td>5</td>\n",
       "      <td>Bình thường</td>\n",
       "      <td>2.00</td>\n",
       "      <td>2</td>\n",
       "      <td>2.0 - 2.5 ngày</td>\n",
       "      <td>100.00</td>\n",
       "      <td>0.51</td>\n",
       "      <td>4</td>\n",
       "    </tr>\n",
       "    <tr>\n",
       "      <th>7</th>\n",
       "      <td>01</td>\n",
       "      <td>Thành phố Hà Nội</td>\n",
       "      <td>001</td>\n",
       "      <td>Quận Ba Đình</td>\n",
       "      <td>2</td>\n",
       "      <td>GHN</td>\n",
       "      <td>Nội Miền</td>\n",
       "      <td>5</td>\n",
       "      <td>Bình thường</td>\n",
       "      <td>2.00</td>\n",
       "      <td>11</td>\n",
       "      <td>2.0 - 2.5 ngày</td>\n",
       "      <td>90.91</td>\n",
       "      <td>0.66</td>\n",
       "      <td>4</td>\n",
       "    </tr>\n",
       "    <tr>\n",
       "      <th>14</th>\n",
       "      <td>01</td>\n",
       "      <td>Thành phố Hà Nội</td>\n",
       "      <td>001</td>\n",
       "      <td>Quận Ba Đình</td>\n",
       "      <td>4</td>\n",
       "      <td>Viettel Post</td>\n",
       "      <td>Nội Miền</td>\n",
       "      <td>5</td>\n",
       "      <td>Bình thường</td>\n",
       "      <td>2.92</td>\n",
       "      <td>13</td>\n",
       "      <td>3.0 - 3.5 ngày</td>\n",
       "      <td>100.00</td>\n",
       "      <td>0.65</td>\n",
       "      <td>4</td>\n",
       "    </tr>\n",
       "    <tr>\n",
       "      <th>21</th>\n",
       "      <td>01</td>\n",
       "      <td>Thành phố Hà Nội</td>\n",
       "      <td>001</td>\n",
       "      <td>Quận Ba Đình</td>\n",
       "      <td>6</td>\n",
       "      <td>BEST Express</td>\n",
       "      <td>Nội Miền</td>\n",
       "      <td>5</td>\n",
       "      <td>Bình thường</td>\n",
       "      <td>1.58</td>\n",
       "      <td>212</td>\n",
       "      <td>2.0 - 2.5 ngày</td>\n",
       "      <td>88.68</td>\n",
       "      <td>1.00</td>\n",
       "      <td>5</td>\n",
       "    </tr>\n",
       "    <tr>\n",
       "      <th>28</th>\n",
       "      <td>01</td>\n",
       "      <td>Thành phố Hà Nội</td>\n",
       "      <td>001</td>\n",
       "      <td>Quận Ba Đình</td>\n",
       "      <td>7</td>\n",
       "      <td>Ninja Van</td>\n",
       "      <td>Nội Miền</td>\n",
       "      <td>5</td>\n",
       "      <td>Bình thường</td>\n",
       "      <td>2.00</td>\n",
       "      <td>34</td>\n",
       "      <td>2.0 - 2.5 ngày</td>\n",
       "      <td>97.06</td>\n",
       "      <td>0.69</td>\n",
       "      <td>4</td>\n",
       "    </tr>\n",
       "    <tr>\n",
       "      <th>35</th>\n",
       "      <td>01</td>\n",
       "      <td>Thành phố Hà Nội</td>\n",
       "      <td>001</td>\n",
       "      <td>Quận Ba Đình</td>\n",
       "      <td>10</td>\n",
       "      <td>SPX Express</td>\n",
       "      <td>Nội Miền</td>\n",
       "      <td>5</td>\n",
       "      <td>Bình thường</td>\n",
       "      <td>1.99</td>\n",
       "      <td>7</td>\n",
       "      <td>2.0 - 2.5 ngày</td>\n",
       "      <td>71.43</td>\n",
       "      <td>0.47</td>\n",
       "      <td>3</td>\n",
       "    </tr>\n",
       "  </tbody>\n",
       "</table>\n",
       "</div>"
      ],
      "text/plain": [
       "   receiver_province_id receiver_province receiver_district_id receiver_district  carrier_id       carrier order_type  order_type_id carrier_status  estimate_delivery_time_details  total_order estimate_delivery_time  delivery_success_rate  score  stars\n",
       "0   01                   Thành phố Hà Nội  001                  Quận Ba Đình      1           GHTK          Nội Miền   5              Bình thường    2.00                            2            2.0 - 2.5 ngày         100.00                 0.51   4    \n",
       "7   01                   Thành phố Hà Nội  001                  Quận Ba Đình      2           GHN           Nội Miền   5              Bình thường    2.00                            11           2.0 - 2.5 ngày         90.91                  0.66   4    \n",
       "14  01                   Thành phố Hà Nội  001                  Quận Ba Đình      4           Viettel Post  Nội Miền   5              Bình thường    2.92                            13           3.0 - 3.5 ngày         100.00                 0.65   4    \n",
       "21  01                   Thành phố Hà Nội  001                  Quận Ba Đình      6           BEST Express  Nội Miền   5              Bình thường    1.58                            212          2.0 - 2.5 ngày         88.68                  1.00   5    \n",
       "28  01                   Thành phố Hà Nội  001                  Quận Ba Đình      7           Ninja Van     Nội Miền   5              Bình thường    2.00                            34           2.0 - 2.5 ngày         97.06                  0.69   4    \n",
       "35  01                   Thành phố Hà Nội  001                  Quận Ba Đình      10          SPX Express   Nội Miền   5              Bình thường    1.99                            7            2.0 - 2.5 ngày         71.43                  0.47   3    "
      ]
     },
     "execution_count": 152,
     "metadata": {},
     "output_type": "execute_result"
    }
   ],
   "source": [
    "data_api_df.loc[\n",
    "    (data_api_df['receiver_province'] == 'Thành phố Hà Nội')\n",
    "    &(data_api_df['receiver_district'] == 'Quận Ba Đình')\n",
    "    &(data_api_df['order_type'] == 'Nội Miền')\n",
    "]"
   ]
  },
  {
   "cell_type": "code",
   "execution_count": 162,
   "id": "91ffeb04-e314-419d-8f7b-84227edd083c",
   "metadata": {
    "execution": {
     "iopub.execute_input": "2023-11-05T15:10:49.729376Z",
     "iopub.status.busy": "2023-11-05T15:10:49.728810Z",
     "iopub.status.idle": "2023-11-05T15:10:49.821453Z",
     "shell.execute_reply": "2023-11-05T15:10:49.820059Z",
     "shell.execute_reply.started": "2023-11-05T15:10:49.729313Z"
    },
    "scrolled": true
   },
   "outputs": [
    {
     "data": {
      "text/html": [
       "<div>\n",
       "<style scoped>\n",
       "    .dataframe tbody tr th:only-of-type {\n",
       "        vertical-align: middle;\n",
       "    }\n",
       "\n",
       "    .dataframe tbody tr th {\n",
       "        vertical-align: top;\n",
       "    }\n",
       "\n",
       "    .dataframe thead th {\n",
       "        text-align: right;\n",
       "    }\n",
       "</style>\n",
       "<table border=\"1\" class=\"dataframe\">\n",
       "  <thead>\n",
       "    <tr style=\"text-align: right;\">\n",
       "      <th></th>\n",
       "      <th>carrier_created_at</th>\n",
       "      <th>order_id</th>\n",
       "      <th>carrier</th>\n",
       "      <th>weight</th>\n",
       "      <th>sender_province</th>\n",
       "      <th>sender_district</th>\n",
       "      <th>receiver_province</th>\n",
       "      <th>receiver_district</th>\n",
       "      <th>order_status</th>\n",
       "      <th>order_type</th>\n",
       "      <th>order_type_id</th>\n",
       "      <th>sys_order_type_id</th>\n",
       "      <th>n_deliveries</th>\n",
       "      <th>delivery_type</th>\n",
       "      <th>is_returned</th>\n",
       "      <th>finished_at</th>\n",
       "    </tr>\n",
       "  </thead>\n",
       "  <tbody>\n",
       "    <tr>\n",
       "      <th>40342</th>\n",
       "      <td>2023-06-29 18:22:49</td>\n",
       "      <td>HNIS872308NT.810972383</td>\n",
       "      <td>Ninja Van</td>\n",
       "      <td>560</td>\n",
       "      <td>Thành phố Hà Nội</td>\n",
       "      <td>Quận Bắc Từ Liêm</td>\n",
       "      <td>Thành phố Hà Nội</td>\n",
       "      <td>Quận Ba Đình</td>\n",
       "      <td>Đã hoàn thành</td>\n",
       "      <td>Nội Thành Tp.HCM - HN</td>\n",
       "      <td>3</td>\n",
       "      <td>1</td>\n",
       "      <td>1</td>\n",
       "      <td>Gửi Bưu Cục</td>\n",
       "      <td>False</td>\n",
       "      <td>2023-07-01 11:05:26</td>\n",
       "    </tr>\n",
       "    <tr>\n",
       "      <th>41815</th>\n",
       "      <td>2023-06-30 15:57:59</td>\n",
       "      <td>HNIS325792LM.810981170</td>\n",
       "      <td>Ninja Van</td>\n",
       "      <td>1242</td>\n",
       "      <td>Tỉnh Gia Lai</td>\n",
       "      <td>Huyện Đăk Đoa</td>\n",
       "      <td>Thành phố Hà Nội</td>\n",
       "      <td>Quận Ba Đình</td>\n",
       "      <td>Giao hàng thành công</td>\n",
       "      <td>Cận Miền</td>\n",
       "      <td>6</td>\n",
       "      <td>4</td>\n",
       "      <td>1</td>\n",
       "      <td>Gửi Bưu Cục</td>\n",
       "      <td>False</td>\n",
       "      <td>2023-07-03 12:29:49</td>\n",
       "    </tr>\n",
       "    <tr>\n",
       "      <th>41838</th>\n",
       "      <td>2023-06-30 15:02:34</td>\n",
       "      <td>HNIS325792LM.810980267</td>\n",
       "      <td>Ninja Van</td>\n",
       "      <td>1270</td>\n",
       "      <td>Tỉnh Gia Lai</td>\n",
       "      <td>Huyện Đăk Đoa</td>\n",
       "      <td>Thành phố Hà Nội</td>\n",
       "      <td>Quận Ba Đình</td>\n",
       "      <td>Giao hàng thành công</td>\n",
       "      <td>Cận Miền</td>\n",
       "      <td>6</td>\n",
       "      <td>4</td>\n",
       "      <td>1</td>\n",
       "      <td>Gửi Bưu Cục</td>\n",
       "      <td>False</td>\n",
       "      <td>2023-07-03 10:44:49</td>\n",
       "    </tr>\n",
       "    <tr>\n",
       "      <th>42261</th>\n",
       "      <td>2023-06-28 14:46:16</td>\n",
       "      <td>HNIS904491LV.810965009</td>\n",
       "      <td>Ninja Van</td>\n",
       "      <td>760</td>\n",
       "      <td>Thành phố Hồ Chí Minh</td>\n",
       "      <td>Quận Gò Vấp</td>\n",
       "      <td>Thành phố Hà Nội</td>\n",
       "      <td>Quận Ba Đình</td>\n",
       "      <td>Giao hàng thành công</td>\n",
       "      <td>Cách Miền</td>\n",
       "      <td>7</td>\n",
       "      <td>2</td>\n",
       "      <td>1</td>\n",
       "      <td>Gửi Bưu Cục</td>\n",
       "      <td>False</td>\n",
       "      <td>2023-07-03 09:08:01</td>\n",
       "    </tr>\n",
       "    <tr>\n",
       "      <th>42873</th>\n",
       "      <td>2023-06-30 18:40:03</td>\n",
       "      <td>HNIS801177NT.810980169</td>\n",
       "      <td>Ninja Van</td>\n",
       "      <td>590</td>\n",
       "      <td>Thành phố Hà Nội</td>\n",
       "      <td>Huyện Đan Phượng</td>\n",
       "      <td>Thành phố Hà Nội</td>\n",
       "      <td>Quận Ba Đình</td>\n",
       "      <td>Đã hoàn thành</td>\n",
       "      <td>Nội Thành Tp.HCM - HN</td>\n",
       "      <td>3</td>\n",
       "      <td>1</td>\n",
       "      <td>3</td>\n",
       "      <td>Gửi Bưu Cục</td>\n",
       "      <td>False</td>\n",
       "      <td>2023-07-03 17:53:48</td>\n",
       "    </tr>\n",
       "    <tr>\n",
       "      <th>43029</th>\n",
       "      <td>2023-06-30 13:34:57</td>\n",
       "      <td>HNIS973520NT.810978813</td>\n",
       "      <td>Ninja Van</td>\n",
       "      <td>1830</td>\n",
       "      <td>Thành phố Hà Nội</td>\n",
       "      <td>Quận Cầu Giấy</td>\n",
       "      <td>Thành phố Hà Nội</td>\n",
       "      <td>Quận Ba Đình</td>\n",
       "      <td>Đã hoàn thành</td>\n",
       "      <td>Nội Thành Tp.HCM - HN</td>\n",
       "      <td>3</td>\n",
       "      <td>1</td>\n",
       "      <td>2</td>\n",
       "      <td>Gửi Bưu Cục</td>\n",
       "      <td>False</td>\n",
       "      <td>2023-07-03 10:42:17</td>\n",
       "    </tr>\n",
       "    <tr>\n",
       "      <th>43576</th>\n",
       "      <td>2023-07-03 17:13:17</td>\n",
       "      <td>HNIS973520NT.811004477</td>\n",
       "      <td>Ninja Van</td>\n",
       "      <td>500</td>\n",
       "      <td>Thành phố Hà Nội</td>\n",
       "      <td>Quận Cầu Giấy</td>\n",
       "      <td>Thành phố Hà Nội</td>\n",
       "      <td>Quận Ba Đình</td>\n",
       "      <td>Giao hàng thành công</td>\n",
       "      <td>Nội Thành Tp.HCM - HN</td>\n",
       "      <td>3</td>\n",
       "      <td>1</td>\n",
       "      <td>1</td>\n",
       "      <td>Gửi Bưu Cục</td>\n",
       "      <td>False</td>\n",
       "      <td>2023-07-04 10:16:21</td>\n",
       "    </tr>\n",
       "    <tr>\n",
       "      <th>45017</th>\n",
       "      <td>2023-07-04 17:15:28</td>\n",
       "      <td>HNIS973520NT.811012414</td>\n",
       "      <td>Ninja Van</td>\n",
       "      <td>500</td>\n",
       "      <td>Thành phố Hà Nội</td>\n",
       "      <td>Quận Cầu Giấy</td>\n",
       "      <td>Thành phố Hà Nội</td>\n",
       "      <td>Quận Ba Đình</td>\n",
       "      <td>Giao hàng thành công</td>\n",
       "      <td>Nội Thành Tp.HCM - HN</td>\n",
       "      <td>3</td>\n",
       "      <td>1</td>\n",
       "      <td>1</td>\n",
       "      <td>Gửi Bưu Cục</td>\n",
       "      <td>False</td>\n",
       "      <td>2023-07-05 10:03:01</td>\n",
       "    </tr>\n",
       "    <tr>\n",
       "      <th>45019</th>\n",
       "      <td>2023-07-04 17:15:28</td>\n",
       "      <td>HNIS973520NT.811012399</td>\n",
       "      <td>Ninja Van</td>\n",
       "      <td>500</td>\n",
       "      <td>Thành phố Hà Nội</td>\n",
       "      <td>Quận Cầu Giấy</td>\n",
       "      <td>Thành phố Hà Nội</td>\n",
       "      <td>Quận Ba Đình</td>\n",
       "      <td>Giao hàng thành công</td>\n",
       "      <td>Nội Thành Tp.HCM - HN</td>\n",
       "      <td>3</td>\n",
       "      <td>1</td>\n",
       "      <td>1</td>\n",
       "      <td>Gửi Bưu Cục</td>\n",
       "      <td>False</td>\n",
       "      <td>2023-07-05 12:10:21</td>\n",
       "    </tr>\n",
       "    <tr>\n",
       "      <th>45319</th>\n",
       "      <td>2023-07-04 12:34:41</td>\n",
       "      <td>HNIS973520NT.811008993</td>\n",
       "      <td>Ninja Van</td>\n",
       "      <td>500</td>\n",
       "      <td>Thành phố Hà Nội</td>\n",
       "      <td>Quận Cầu Giấy</td>\n",
       "      <td>Thành phố Hà Nội</td>\n",
       "      <td>Quận Ba Đình</td>\n",
       "      <td>Đã hoàn thành</td>\n",
       "      <td>Nội Thành Tp.HCM - HN</td>\n",
       "      <td>3</td>\n",
       "      <td>1</td>\n",
       "      <td>1</td>\n",
       "      <td>Gửi Bưu Cục</td>\n",
       "      <td>False</td>\n",
       "      <td>2023-07-05 11:11:57</td>\n",
       "    </tr>\n",
       "    <tr>\n",
       "      <th>45795</th>\n",
       "      <td>2023-07-03 12:15:14</td>\n",
       "      <td>HNIS973520NT.811000924</td>\n",
       "      <td>Ninja Van</td>\n",
       "      <td>500</td>\n",
       "      <td>Thành phố Hà Nội</td>\n",
       "      <td>Quận Cầu Giấy</td>\n",
       "      <td>Thành phố Hà Nội</td>\n",
       "      <td>Quận Ba Đình</td>\n",
       "      <td>Đã hoàn thành</td>\n",
       "      <td>Nội Thành Tp.HCM - HN</td>\n",
       "      <td>3</td>\n",
       "      <td>1</td>\n",
       "      <td>2</td>\n",
       "      <td>Gửi Bưu Cục</td>\n",
       "      <td>False</td>\n",
       "      <td>2023-07-05 14:38:57</td>\n",
       "    </tr>\n",
       "    <tr>\n",
       "      <th>46343</th>\n",
       "      <td>2023-07-06 17:35:47</td>\n",
       "      <td>HNIS973520NT.811028795</td>\n",
       "      <td>Ninja Van</td>\n",
       "      <td>1450</td>\n",
       "      <td>Thành phố Hà Nội</td>\n",
       "      <td>Quận Cầu Giấy</td>\n",
       "      <td>Thành phố Hà Nội</td>\n",
       "      <td>Quận Ba Đình</td>\n",
       "      <td>Giao hàng thành công</td>\n",
       "      <td>Nội Thành Tp.HCM - HN</td>\n",
       "      <td>3</td>\n",
       "      <td>1</td>\n",
       "      <td>1</td>\n",
       "      <td>Gửi Bưu Cục</td>\n",
       "      <td>False</td>\n",
       "      <td>2023-07-07 09:51:35</td>\n",
       "    </tr>\n",
       "    <tr>\n",
       "      <th>48279</th>\n",
       "      <td>2023-07-08 13:04:59</td>\n",
       "      <td>HNIS973520NT.811041142</td>\n",
       "      <td>Ninja Van</td>\n",
       "      <td>580</td>\n",
       "      <td>Thành phố Hà Nội</td>\n",
       "      <td>Quận Cầu Giấy</td>\n",
       "      <td>Thành phố Hà Nội</td>\n",
       "      <td>Quận Ba Đình</td>\n",
       "      <td>Giao hàng thành công</td>\n",
       "      <td>Nội Thành Tp.HCM - HN</td>\n",
       "      <td>3</td>\n",
       "      <td>1</td>\n",
       "      <td>1</td>\n",
       "      <td>Gửi Bưu Cục</td>\n",
       "      <td>False</td>\n",
       "      <td>2023-07-10 13:20:52</td>\n",
       "    </tr>\n",
       "    <tr>\n",
       "      <th>48956</th>\n",
       "      <td>2023-07-07 10:17:02</td>\n",
       "      <td>HNIS200066LM.811030924</td>\n",
       "      <td>Ninja Van</td>\n",
       "      <td>1840</td>\n",
       "      <td>Tỉnh Gia Lai</td>\n",
       "      <td>Huyện Chư Păh</td>\n",
       "      <td>Thành phố Hà Nội</td>\n",
       "      <td>Quận Ba Đình</td>\n",
       "      <td>Đã hoàn thành</td>\n",
       "      <td>Cận Miền</td>\n",
       "      <td>6</td>\n",
       "      <td>4</td>\n",
       "      <td>1</td>\n",
       "      <td>Gửi Bưu Cục</td>\n",
       "      <td>False</td>\n",
       "      <td>2023-07-10 17:31:35</td>\n",
       "    </tr>\n",
       "    <tr>\n",
       "      <th>49636</th>\n",
       "      <td>2023-07-01 15:22:05</td>\n",
       "      <td>HNIS599387NT.810983385</td>\n",
       "      <td>Ninja Van</td>\n",
       "      <td>870</td>\n",
       "      <td>Thành phố Hà Nội</td>\n",
       "      <td>Quận Nam Từ Liêm</td>\n",
       "      <td>Thành phố Hà Nội</td>\n",
       "      <td>Quận Ba Đình</td>\n",
       "      <td>Đã hoàn thành</td>\n",
       "      <td>Nội Thành Tp.HCM - HN</td>\n",
       "      <td>3</td>\n",
       "      <td>1</td>\n",
       "      <td>6</td>\n",
       "      <td>Gửi Bưu Cục</td>\n",
       "      <td>True</td>\n",
       "      <td>2023-07-10 19:47:25</td>\n",
       "    </tr>\n",
       "    <tr>\n",
       "      <th>50119</th>\n",
       "      <td>2023-07-10 12:53:04</td>\n",
       "      <td>HNIS973520NT.811055263</td>\n",
       "      <td>Ninja Van</td>\n",
       "      <td>500</td>\n",
       "      <td>Thành phố Hà Nội</td>\n",
       "      <td>Quận Cầu Giấy</td>\n",
       "      <td>Thành phố Hà Nội</td>\n",
       "      <td>Quận Ba Đình</td>\n",
       "      <td>Giao hàng thành công</td>\n",
       "      <td>Nội Thành Tp.HCM - HN</td>\n",
       "      <td>3</td>\n",
       "      <td>1</td>\n",
       "      <td>1</td>\n",
       "      <td>Gửi Bưu Cục</td>\n",
       "      <td>False</td>\n",
       "      <td>2023-07-11 12:19:22</td>\n",
       "    </tr>\n",
       "    <tr>\n",
       "      <th>50299</th>\n",
       "      <td>2023-07-08 17:51:21</td>\n",
       "      <td>HNIS973520NT.811044655</td>\n",
       "      <td>Ninja Van</td>\n",
       "      <td>500</td>\n",
       "      <td>Thành phố Hà Nội</td>\n",
       "      <td>Quận Cầu Giấy</td>\n",
       "      <td>Thành phố Hà Nội</td>\n",
       "      <td>Quận Ba Đình</td>\n",
       "      <td>Đã hoàn thành</td>\n",
       "      <td>Nội Thành Tp.HCM - HN</td>\n",
       "      <td>3</td>\n",
       "      <td>1</td>\n",
       "      <td>3</td>\n",
       "      <td>Gửi Bưu Cục</td>\n",
       "      <td>False</td>\n",
       "      <td>2023-07-11 12:03:28</td>\n",
       "    </tr>\n",
       "    <tr>\n",
       "      <th>50436</th>\n",
       "      <td>2023-07-08 16:54:43</td>\n",
       "      <td>HNIS234520LV.811043232</td>\n",
       "      <td>Ninja Van</td>\n",
       "      <td>3000</td>\n",
       "      <td>Thành phố Đà Nẵng</td>\n",
       "      <td>Quận Liên Chiểu</td>\n",
       "      <td>Thành phố Hà Nội</td>\n",
       "      <td>Quận Ba Đình</td>\n",
       "      <td>Giao hàng thành công</td>\n",
       "      <td>Cận Miền</td>\n",
       "      <td>6</td>\n",
       "      <td>2</td>\n",
       "      <td>2</td>\n",
       "      <td>Gửi Bưu Cục</td>\n",
       "      <td>False</td>\n",
       "      <td>2023-07-11 14:54:10</td>\n",
       "    </tr>\n",
       "    <tr>\n",
       "      <th>50829</th>\n",
       "      <td>2023-07-07 15:26:20</td>\n",
       "      <td>HNIS598596LM.811033842</td>\n",
       "      <td>Ninja Van</td>\n",
       "      <td>2000</td>\n",
       "      <td>Tỉnh Đồng Nai</td>\n",
       "      <td>Thành phố Long Khánh</td>\n",
       "      <td>Thành phố Hà Nội</td>\n",
       "      <td>Quận Ba Đình</td>\n",
       "      <td>Giao hàng thành công</td>\n",
       "      <td>Cách Miền</td>\n",
       "      <td>7</td>\n",
       "      <td>4</td>\n",
       "      <td>5</td>\n",
       "      <td>Gửi Bưu Cục</td>\n",
       "      <td>False</td>\n",
       "      <td>2023-07-11 12:49:42</td>\n",
       "    </tr>\n",
       "    <tr>\n",
       "      <th>50868</th>\n",
       "      <td>2023-07-07 12:44:04</td>\n",
       "      <td>HNIS973520NT.811032439</td>\n",
       "      <td>Ninja Van</td>\n",
       "      <td>500</td>\n",
       "      <td>Thành phố Hà Nội</td>\n",
       "      <td>Quận Cầu Giấy</td>\n",
       "      <td>Thành phố Hà Nội</td>\n",
       "      <td>Quận Ba Đình</td>\n",
       "      <td>Giao hàng thành công</td>\n",
       "      <td>Nội Thành Tp.HCM - HN</td>\n",
       "      <td>3</td>\n",
       "      <td>1</td>\n",
       "      <td>4</td>\n",
       "      <td>Gửi Bưu Cục</td>\n",
       "      <td>False</td>\n",
       "      <td>2023-07-11 19:51:25</td>\n",
       "    </tr>\n",
       "    <tr>\n",
       "      <th>51425</th>\n",
       "      <td>2023-07-11 13:27:38</td>\n",
       "      <td>HNIS973520NT.811064965</td>\n",
       "      <td>Ninja Van</td>\n",
       "      <td>1220</td>\n",
       "      <td>Thành phố Hà Nội</td>\n",
       "      <td>Quận Cầu Giấy</td>\n",
       "      <td>Thành phố Hà Nội</td>\n",
       "      <td>Quận Ba Đình</td>\n",
       "      <td>Đã hoàn thành</td>\n",
       "      <td>Nội Thành Tp.HCM - HN</td>\n",
       "      <td>3</td>\n",
       "      <td>1</td>\n",
       "      <td>1</td>\n",
       "      <td>Gửi Bưu Cục</td>\n",
       "      <td>False</td>\n",
       "      <td>2023-07-12 12:06:48</td>\n",
       "    </tr>\n",
       "    <tr>\n",
       "      <th>51450</th>\n",
       "      <td>2023-07-11 13:27:38</td>\n",
       "      <td>HNIS973520NT.811064916</td>\n",
       "      <td>Ninja Van</td>\n",
       "      <td>1040</td>\n",
       "      <td>Thành phố Hà Nội</td>\n",
       "      <td>Quận Cầu Giấy</td>\n",
       "      <td>Thành phố Hà Nội</td>\n",
       "      <td>Quận Ba Đình</td>\n",
       "      <td>Đã hoàn thành</td>\n",
       "      <td>Nội Thành Tp.HCM - HN</td>\n",
       "      <td>3</td>\n",
       "      <td>1</td>\n",
       "      <td>1</td>\n",
       "      <td>Gửi Bưu Cục</td>\n",
       "      <td>False</td>\n",
       "      <td>2023-07-12 11:44:32</td>\n",
       "    </tr>\n",
       "    <tr>\n",
       "      <th>51451</th>\n",
       "      <td>2023-07-11 13:27:38</td>\n",
       "      <td>HNIS973520NT.811064912</td>\n",
       "      <td>Ninja Van</td>\n",
       "      <td>1060</td>\n",
       "      <td>Thành phố Hà Nội</td>\n",
       "      <td>Quận Cầu Giấy</td>\n",
       "      <td>Thành phố Hà Nội</td>\n",
       "      <td>Quận Ba Đình</td>\n",
       "      <td>Đã hoàn thành</td>\n",
       "      <td>Nội Thành Tp.HCM - HN</td>\n",
       "      <td>3</td>\n",
       "      <td>1</td>\n",
       "      <td>1</td>\n",
       "      <td>Gửi Bưu Cục</td>\n",
       "      <td>False</td>\n",
       "      <td>2023-07-12 17:27:02</td>\n",
       "    </tr>\n",
       "    <tr>\n",
       "      <th>51781</th>\n",
       "      <td>2023-07-10 17:35:46</td>\n",
       "      <td>HNIS973520NT.811059346</td>\n",
       "      <td>Ninja Van</td>\n",
       "      <td>1850</td>\n",
       "      <td>Thành phố Hà Nội</td>\n",
       "      <td>Quận Cầu Giấy</td>\n",
       "      <td>Thành phố Hà Nội</td>\n",
       "      <td>Quận Ba Đình</td>\n",
       "      <td>Giao hàng thành công</td>\n",
       "      <td>Nội Thành Tp.HCM - HN</td>\n",
       "      <td>3</td>\n",
       "      <td>1</td>\n",
       "      <td>2</td>\n",
       "      <td>Gửi Bưu Cục</td>\n",
       "      <td>False</td>\n",
       "      <td>2023-07-12 18:34:39</td>\n",
       "    </tr>\n",
       "    <tr>\n",
       "      <th>52677</th>\n",
       "      <td>2023-07-12 17:13:41</td>\n",
       "      <td>HNIS973520NT.811076627</td>\n",
       "      <td>Ninja Van</td>\n",
       "      <td>500</td>\n",
       "      <td>Thành phố Hà Nội</td>\n",
       "      <td>Quận Cầu Giấy</td>\n",
       "      <td>Thành phố Hà Nội</td>\n",
       "      <td>Quận Ba Đình</td>\n",
       "      <td>Đã hoàn thành</td>\n",
       "      <td>Nội Thành Tp.HCM - HN</td>\n",
       "      <td>3</td>\n",
       "      <td>1</td>\n",
       "      <td>1</td>\n",
       "      <td>Gửi Bưu Cục</td>\n",
       "      <td>False</td>\n",
       "      <td>NaT</td>\n",
       "    </tr>\n",
       "    <tr>\n",
       "      <th>52723</th>\n",
       "      <td>2023-07-12 16:49:03</td>\n",
       "      <td>HNIS872308NT.811073894</td>\n",
       "      <td>Ninja Van</td>\n",
       "      <td>690</td>\n",
       "      <td>Thành phố Hà Nội</td>\n",
       "      <td>Quận Bắc Từ Liêm</td>\n",
       "      <td>Thành phố Hà Nội</td>\n",
       "      <td>Quận Ba Đình</td>\n",
       "      <td>Đã hoàn thành</td>\n",
       "      <td>Nội Thành Tp.HCM - HN</td>\n",
       "      <td>3</td>\n",
       "      <td>1</td>\n",
       "      <td>1</td>\n",
       "      <td>Gửi Bưu Cục</td>\n",
       "      <td>False</td>\n",
       "      <td>NaT</td>\n",
       "    </tr>\n",
       "    <tr>\n",
       "      <th>52897</th>\n",
       "      <td>2023-07-12 13:20:47</td>\n",
       "      <td>HNIS973520NT.811073693</td>\n",
       "      <td>Ninja Van</td>\n",
       "      <td>1410</td>\n",
       "      <td>Thành phố Hà Nội</td>\n",
       "      <td>Quận Cầu Giấy</td>\n",
       "      <td>Thành phố Hà Nội</td>\n",
       "      <td>Quận Ba Đình</td>\n",
       "      <td>Đã hoàn thành</td>\n",
       "      <td>Nội Thành Tp.HCM - HN</td>\n",
       "      <td>3</td>\n",
       "      <td>1</td>\n",
       "      <td>1</td>\n",
       "      <td>Gửi Bưu Cục</td>\n",
       "      <td>False</td>\n",
       "      <td>NaT</td>\n",
       "    </tr>\n",
       "    <tr>\n",
       "      <th>53411</th>\n",
       "      <td>2023-07-11 13:26:51</td>\n",
       "      <td>HNIS973520NT.811064835</td>\n",
       "      <td>Ninja Van</td>\n",
       "      <td>500</td>\n",
       "      <td>Thành phố Hà Nội</td>\n",
       "      <td>Quận Cầu Giấy</td>\n",
       "      <td>Thành phố Hà Nội</td>\n",
       "      <td>Quận Ba Đình</td>\n",
       "      <td>Đã hoàn thành</td>\n",
       "      <td>Nội Thành Tp.HCM - HN</td>\n",
       "      <td>3</td>\n",
       "      <td>1</td>\n",
       "      <td>2</td>\n",
       "      <td>Gửi Bưu Cục</td>\n",
       "      <td>False</td>\n",
       "      <td>NaT</td>\n",
       "    </tr>\n",
       "    <tr>\n",
       "      <th>54165</th>\n",
       "      <td>2023-07-01 12:43:49</td>\n",
       "      <td>HNIS973520NT.810986950</td>\n",
       "      <td>Ninja Van</td>\n",
       "      <td>500</td>\n",
       "      <td>Thành phố Hà Nội</td>\n",
       "      <td>Quận Cầu Giấy</td>\n",
       "      <td>Thành phố Hà Nội</td>\n",
       "      <td>Quận Ba Đình</td>\n",
       "      <td>Trả lại cho người gửi</td>\n",
       "      <td>Nội Thành Tp.HCM - HN</td>\n",
       "      <td>3</td>\n",
       "      <td>1</td>\n",
       "      <td>3</td>\n",
       "      <td>Gửi Bưu Cục</td>\n",
       "      <td>False</td>\n",
       "      <td>NaT</td>\n",
       "    </tr>\n",
       "    <tr>\n",
       "      <th>54261</th>\n",
       "      <td>2023-07-13 17:01:36</td>\n",
       "      <td>HNIS973520NT.811085622</td>\n",
       "      <td>Ninja Van</td>\n",
       "      <td>500</td>\n",
       "      <td>Thành phố Hà Nội</td>\n",
       "      <td>Quận Cầu Giấy</td>\n",
       "      <td>Thành phố Hà Nội</td>\n",
       "      <td>Quận Ba Đình</td>\n",
       "      <td>Giao hàng thành công</td>\n",
       "      <td>Nội Thành Tp.HCM - HN</td>\n",
       "      <td>3</td>\n",
       "      <td>1</td>\n",
       "      <td>1</td>\n",
       "      <td>Gửi Bưu Cục</td>\n",
       "      <td>False</td>\n",
       "      <td>NaT</td>\n",
       "    </tr>\n",
       "    <tr>\n",
       "      <th>54522</th>\n",
       "      <td>2023-07-13 13:20:32</td>\n",
       "      <td>HNIS973520NT.811082707</td>\n",
       "      <td>Ninja Van</td>\n",
       "      <td>1770</td>\n",
       "      <td>Thành phố Hà Nội</td>\n",
       "      <td>Quận Cầu Giấy</td>\n",
       "      <td>Thành phố Hà Nội</td>\n",
       "      <td>Quận Ba Đình</td>\n",
       "      <td>Đã hoàn thành</td>\n",
       "      <td>Nội Thành Tp.HCM - HN</td>\n",
       "      <td>3</td>\n",
       "      <td>1</td>\n",
       "      <td>1</td>\n",
       "      <td>Gửi Bưu Cục</td>\n",
       "      <td>False</td>\n",
       "      <td>NaT</td>\n",
       "    </tr>\n",
       "    <tr>\n",
       "      <th>55323</th>\n",
       "      <td>2023-07-11 17:38:59</td>\n",
       "      <td>HNIS973520NT.811067944</td>\n",
       "      <td>Ninja Van</td>\n",
       "      <td>500</td>\n",
       "      <td>Thành phố Hà Nội</td>\n",
       "      <td>Quận Cầu Giấy</td>\n",
       "      <td>Thành phố Hà Nội</td>\n",
       "      <td>Quận Ba Đình</td>\n",
       "      <td>Giao hàng thành công</td>\n",
       "      <td>Nội Thành Tp.HCM - HN</td>\n",
       "      <td>3</td>\n",
       "      <td>1</td>\n",
       "      <td>3</td>\n",
       "      <td>Gửi Bưu Cục</td>\n",
       "      <td>False</td>\n",
       "      <td>NaT</td>\n",
       "    </tr>\n",
       "    <tr>\n",
       "      <th>55629</th>\n",
       "      <td>2023-07-10 16:56:01</td>\n",
       "      <td>HNIS136226NM.811058906</td>\n",
       "      <td>Ninja Van</td>\n",
       "      <td>420</td>\n",
       "      <td>Tỉnh Hải Dương</td>\n",
       "      <td>Thành phố Chí Linh</td>\n",
       "      <td>Thành phố Hà Nội</td>\n",
       "      <td>Quận Ba Đình</td>\n",
       "      <td>Đã hoàn thành</td>\n",
       "      <td>Nội Miền</td>\n",
       "      <td>5</td>\n",
       "      <td>3</td>\n",
       "      <td>2</td>\n",
       "      <td>Lấy Tận Nơi</td>\n",
       "      <td>False</td>\n",
       "      <td>NaT</td>\n",
       "    </tr>\n",
       "    <tr>\n",
       "      <th>57533</th>\n",
       "      <td>2023-07-07 17:11:56</td>\n",
       "      <td>HNIS973520NT.811036475</td>\n",
       "      <td>Ninja Van</td>\n",
       "      <td>500</td>\n",
       "      <td>Thành phố Hà Nội</td>\n",
       "      <td>Quận Cầu Giấy</td>\n",
       "      <td>Thành phố Hà Nội</td>\n",
       "      <td>Quận Ba Đình</td>\n",
       "      <td>Giao hàng thành công</td>\n",
       "      <td>Nội Thành Tp.HCM - HN</td>\n",
       "      <td>3</td>\n",
       "      <td>1</td>\n",
       "      <td>1</td>\n",
       "      <td>Gửi Bưu Cục</td>\n",
       "      <td>False</td>\n",
       "      <td>2023-07-08 18:30:38</td>\n",
       "    </tr>\n",
       "  </tbody>\n",
       "</table>\n",
       "</div>"
      ],
      "text/plain": [
       "       carrier_created_at                order_id    carrier  weight        sender_province       sender_district receiver_province receiver_district           order_status             order_type  order_type_id  sys_order_type_id  n_deliveries delivery_type  is_returned         finished_at\n",
       "40342 2023-06-29 18:22:49  HNIS872308NT.810972383  Ninja Van  560     Thành phố Hà Nội       Quận Bắc Từ Liêm      Thành phố Hà Nội  Quận Ba Đình      Đã hoàn thành          Nội Thành Tp.HCM - HN  3              1                  1             Gửi Bưu Cục   False       2023-07-01 11:05:26\n",
       "41815 2023-06-30 15:57:59  HNIS325792LM.810981170  Ninja Van  1242    Tỉnh Gia Lai           Huyện Đăk Đoa         Thành phố Hà Nội  Quận Ba Đình      Giao hàng thành công   Cận Miền               6              4                  1             Gửi Bưu Cục   False       2023-07-03 12:29:49\n",
       "41838 2023-06-30 15:02:34  HNIS325792LM.810980267  Ninja Van  1270    Tỉnh Gia Lai           Huyện Đăk Đoa         Thành phố Hà Nội  Quận Ba Đình      Giao hàng thành công   Cận Miền               6              4                  1             Gửi Bưu Cục   False       2023-07-03 10:44:49\n",
       "42261 2023-06-28 14:46:16  HNIS904491LV.810965009  Ninja Van  760     Thành phố Hồ Chí Minh  Quận Gò Vấp           Thành phố Hà Nội  Quận Ba Đình      Giao hàng thành công   Cách Miền              7              2                  1             Gửi Bưu Cục   False       2023-07-03 09:08:01\n",
       "42873 2023-06-30 18:40:03  HNIS801177NT.810980169  Ninja Van  590     Thành phố Hà Nội       Huyện Đan Phượng      Thành phố Hà Nội  Quận Ba Đình      Đã hoàn thành          Nội Thành Tp.HCM - HN  3              1                  3             Gửi Bưu Cục   False       2023-07-03 17:53:48\n",
       "43029 2023-06-30 13:34:57  HNIS973520NT.810978813  Ninja Van  1830    Thành phố Hà Nội       Quận Cầu Giấy         Thành phố Hà Nội  Quận Ba Đình      Đã hoàn thành          Nội Thành Tp.HCM - HN  3              1                  2             Gửi Bưu Cục   False       2023-07-03 10:42:17\n",
       "43576 2023-07-03 17:13:17  HNIS973520NT.811004477  Ninja Van  500     Thành phố Hà Nội       Quận Cầu Giấy         Thành phố Hà Nội  Quận Ba Đình      Giao hàng thành công   Nội Thành Tp.HCM - HN  3              1                  1             Gửi Bưu Cục   False       2023-07-04 10:16:21\n",
       "45017 2023-07-04 17:15:28  HNIS973520NT.811012414  Ninja Van  500     Thành phố Hà Nội       Quận Cầu Giấy         Thành phố Hà Nội  Quận Ba Đình      Giao hàng thành công   Nội Thành Tp.HCM - HN  3              1                  1             Gửi Bưu Cục   False       2023-07-05 10:03:01\n",
       "45019 2023-07-04 17:15:28  HNIS973520NT.811012399  Ninja Van  500     Thành phố Hà Nội       Quận Cầu Giấy         Thành phố Hà Nội  Quận Ba Đình      Giao hàng thành công   Nội Thành Tp.HCM - HN  3              1                  1             Gửi Bưu Cục   False       2023-07-05 12:10:21\n",
       "45319 2023-07-04 12:34:41  HNIS973520NT.811008993  Ninja Van  500     Thành phố Hà Nội       Quận Cầu Giấy         Thành phố Hà Nội  Quận Ba Đình      Đã hoàn thành          Nội Thành Tp.HCM - HN  3              1                  1             Gửi Bưu Cục   False       2023-07-05 11:11:57\n",
       "45795 2023-07-03 12:15:14  HNIS973520NT.811000924  Ninja Van  500     Thành phố Hà Nội       Quận Cầu Giấy         Thành phố Hà Nội  Quận Ba Đình      Đã hoàn thành          Nội Thành Tp.HCM - HN  3              1                  2             Gửi Bưu Cục   False       2023-07-05 14:38:57\n",
       "46343 2023-07-06 17:35:47  HNIS973520NT.811028795  Ninja Van  1450    Thành phố Hà Nội       Quận Cầu Giấy         Thành phố Hà Nội  Quận Ba Đình      Giao hàng thành công   Nội Thành Tp.HCM - HN  3              1                  1             Gửi Bưu Cục   False       2023-07-07 09:51:35\n",
       "48279 2023-07-08 13:04:59  HNIS973520NT.811041142  Ninja Van  580     Thành phố Hà Nội       Quận Cầu Giấy         Thành phố Hà Nội  Quận Ba Đình      Giao hàng thành công   Nội Thành Tp.HCM - HN  3              1                  1             Gửi Bưu Cục   False       2023-07-10 13:20:52\n",
       "48956 2023-07-07 10:17:02  HNIS200066LM.811030924  Ninja Van  1840    Tỉnh Gia Lai           Huyện Chư Păh         Thành phố Hà Nội  Quận Ba Đình      Đã hoàn thành          Cận Miền               6              4                  1             Gửi Bưu Cục   False       2023-07-10 17:31:35\n",
       "49636 2023-07-01 15:22:05  HNIS599387NT.810983385  Ninja Van  870     Thành phố Hà Nội       Quận Nam Từ Liêm      Thành phố Hà Nội  Quận Ba Đình      Đã hoàn thành          Nội Thành Tp.HCM - HN  3              1                  6             Gửi Bưu Cục   True        2023-07-10 19:47:25\n",
       "50119 2023-07-10 12:53:04  HNIS973520NT.811055263  Ninja Van  500     Thành phố Hà Nội       Quận Cầu Giấy         Thành phố Hà Nội  Quận Ba Đình      Giao hàng thành công   Nội Thành Tp.HCM - HN  3              1                  1             Gửi Bưu Cục   False       2023-07-11 12:19:22\n",
       "50299 2023-07-08 17:51:21  HNIS973520NT.811044655  Ninja Van  500     Thành phố Hà Nội       Quận Cầu Giấy         Thành phố Hà Nội  Quận Ba Đình      Đã hoàn thành          Nội Thành Tp.HCM - HN  3              1                  3             Gửi Bưu Cục   False       2023-07-11 12:03:28\n",
       "50436 2023-07-08 16:54:43  HNIS234520LV.811043232  Ninja Van  3000    Thành phố Đà Nẵng      Quận Liên Chiểu       Thành phố Hà Nội  Quận Ba Đình      Giao hàng thành công   Cận Miền               6              2                  2             Gửi Bưu Cục   False       2023-07-11 14:54:10\n",
       "50829 2023-07-07 15:26:20  HNIS598596LM.811033842  Ninja Van  2000    Tỉnh Đồng Nai          Thành phố Long Khánh  Thành phố Hà Nội  Quận Ba Đình      Giao hàng thành công   Cách Miền              7              4                  5             Gửi Bưu Cục   False       2023-07-11 12:49:42\n",
       "50868 2023-07-07 12:44:04  HNIS973520NT.811032439  Ninja Van  500     Thành phố Hà Nội       Quận Cầu Giấy         Thành phố Hà Nội  Quận Ba Đình      Giao hàng thành công   Nội Thành Tp.HCM - HN  3              1                  4             Gửi Bưu Cục   False       2023-07-11 19:51:25\n",
       "51425 2023-07-11 13:27:38  HNIS973520NT.811064965  Ninja Van  1220    Thành phố Hà Nội       Quận Cầu Giấy         Thành phố Hà Nội  Quận Ba Đình      Đã hoàn thành          Nội Thành Tp.HCM - HN  3              1                  1             Gửi Bưu Cục   False       2023-07-12 12:06:48\n",
       "51450 2023-07-11 13:27:38  HNIS973520NT.811064916  Ninja Van  1040    Thành phố Hà Nội       Quận Cầu Giấy         Thành phố Hà Nội  Quận Ba Đình      Đã hoàn thành          Nội Thành Tp.HCM - HN  3              1                  1             Gửi Bưu Cục   False       2023-07-12 11:44:32\n",
       "51451 2023-07-11 13:27:38  HNIS973520NT.811064912  Ninja Van  1060    Thành phố Hà Nội       Quận Cầu Giấy         Thành phố Hà Nội  Quận Ba Đình      Đã hoàn thành          Nội Thành Tp.HCM - HN  3              1                  1             Gửi Bưu Cục   False       2023-07-12 17:27:02\n",
       "51781 2023-07-10 17:35:46  HNIS973520NT.811059346  Ninja Van  1850    Thành phố Hà Nội       Quận Cầu Giấy         Thành phố Hà Nội  Quận Ba Đình      Giao hàng thành công   Nội Thành Tp.HCM - HN  3              1                  2             Gửi Bưu Cục   False       2023-07-12 18:34:39\n",
       "52677 2023-07-12 17:13:41  HNIS973520NT.811076627  Ninja Van  500     Thành phố Hà Nội       Quận Cầu Giấy         Thành phố Hà Nội  Quận Ba Đình      Đã hoàn thành          Nội Thành Tp.HCM - HN  3              1                  1             Gửi Bưu Cục   False       NaT                \n",
       "52723 2023-07-12 16:49:03  HNIS872308NT.811073894  Ninja Van  690     Thành phố Hà Nội       Quận Bắc Từ Liêm      Thành phố Hà Nội  Quận Ba Đình      Đã hoàn thành          Nội Thành Tp.HCM - HN  3              1                  1             Gửi Bưu Cục   False       NaT                \n",
       "52897 2023-07-12 13:20:47  HNIS973520NT.811073693  Ninja Van  1410    Thành phố Hà Nội       Quận Cầu Giấy         Thành phố Hà Nội  Quận Ba Đình      Đã hoàn thành          Nội Thành Tp.HCM - HN  3              1                  1             Gửi Bưu Cục   False       NaT                \n",
       "53411 2023-07-11 13:26:51  HNIS973520NT.811064835  Ninja Van  500     Thành phố Hà Nội       Quận Cầu Giấy         Thành phố Hà Nội  Quận Ba Đình      Đã hoàn thành          Nội Thành Tp.HCM - HN  3              1                  2             Gửi Bưu Cục   False       NaT                \n",
       "54165 2023-07-01 12:43:49  HNIS973520NT.810986950  Ninja Van  500     Thành phố Hà Nội       Quận Cầu Giấy         Thành phố Hà Nội  Quận Ba Đình      Trả lại cho người gửi  Nội Thành Tp.HCM - HN  3              1                  3             Gửi Bưu Cục   False       NaT                \n",
       "54261 2023-07-13 17:01:36  HNIS973520NT.811085622  Ninja Van  500     Thành phố Hà Nội       Quận Cầu Giấy         Thành phố Hà Nội  Quận Ba Đình      Giao hàng thành công   Nội Thành Tp.HCM - HN  3              1                  1             Gửi Bưu Cục   False       NaT                \n",
       "54522 2023-07-13 13:20:32  HNIS973520NT.811082707  Ninja Van  1770    Thành phố Hà Nội       Quận Cầu Giấy         Thành phố Hà Nội  Quận Ba Đình      Đã hoàn thành          Nội Thành Tp.HCM - HN  3              1                  1             Gửi Bưu Cục   False       NaT                \n",
       "55323 2023-07-11 17:38:59  HNIS973520NT.811067944  Ninja Van  500     Thành phố Hà Nội       Quận Cầu Giấy         Thành phố Hà Nội  Quận Ba Đình      Giao hàng thành công   Nội Thành Tp.HCM - HN  3              1                  3             Gửi Bưu Cục   False       NaT                \n",
       "55629 2023-07-10 16:56:01  HNIS136226NM.811058906  Ninja Van  420     Tỉnh Hải Dương         Thành phố Chí Linh    Thành phố Hà Nội  Quận Ba Đình      Đã hoàn thành          Nội Miền               5              3                  2             Lấy Tận Nơi   False       NaT                \n",
       "57533 2023-07-07 17:11:56  HNIS973520NT.811036475  Ninja Van  500     Thành phố Hà Nội       Quận Cầu Giấy         Thành phố Hà Nội  Quận Ba Đình      Giao hàng thành công   Nội Thành Tp.HCM - HN  3              1                  1             Gửi Bưu Cục   False       2023-07-08 18:30:38"
      ]
     },
     "execution_count": 162,
     "metadata": {},
     "output_type": "execute_result"
    }
   ],
   "source": [
    "# case ở hình dưới\n",
    "# có 34 đơn, 33/34 giao thành công (97.06%)\n",
    "# estimate_delivery_time_details chỉ tính theo đơn nội miền (vì nó có 4 cấp)\n",
    "# Trong 34 đơn chỉ có duy nhất 1 đơn nội miền, 0 đơn hợp lệ (1 đơn bị loại do không có finished_at)\n",
    "# Lấy các giá trị mặc định cho estimate_delivery_time_details, estimate_delivery_time\n",
    "\n",
    "giao_dich_valid.loc[\n",
    "    (giao_dich_valid['receiver_province'] == 'Thành phố Hà Nội')\n",
    "    &(giao_dich_valid['receiver_district'] == 'Quận Ba Đình')\n",
    "    &(giao_dich_valid['carrier'] == 'Ninja Van')\n",
    "]"
   ]
  },
  {
   "cell_type": "code",
   "execution_count": 154,
   "id": "c8c274e2-9acb-4f2b-b752-249482aa7940",
   "metadata": {
    "execution": {
     "iopub.execute_input": "2023-11-05T15:02:30.334405Z",
     "iopub.status.busy": "2023-11-05T15:02:30.333828Z",
     "iopub.status.idle": "2023-11-05T15:02:30.410166Z",
     "shell.execute_reply": "2023-11-05T15:02:30.408998Z",
     "shell.execute_reply.started": "2023-11-05T15:02:30.334341Z"
    },
    "scrolled": true
   },
   "outputs": [
    {
     "data": {
      "text/html": [
       "<div>\n",
       "<style scoped>\n",
       "    .dataframe tbody tr th:only-of-type {\n",
       "        vertical-align: middle;\n",
       "    }\n",
       "\n",
       "    .dataframe tbody tr th {\n",
       "        vertical-align: top;\n",
       "    }\n",
       "\n",
       "    .dataframe thead th {\n",
       "        text-align: right;\n",
       "    }\n",
       "</style>\n",
       "<table border=\"1\" class=\"dataframe\">\n",
       "  <thead>\n",
       "    <tr style=\"text-align: right;\">\n",
       "      <th></th>\n",
       "      <th>carrier_created_at</th>\n",
       "      <th>order_id</th>\n",
       "      <th>carrier</th>\n",
       "      <th>weight</th>\n",
       "      <th>sender_province</th>\n",
       "      <th>sender_district</th>\n",
       "      <th>receiver_province</th>\n",
       "      <th>receiver_district</th>\n",
       "      <th>order_status</th>\n",
       "      <th>order_type</th>\n",
       "      <th>order_type_id</th>\n",
       "      <th>sys_order_type_id</th>\n",
       "      <th>n_deliveries</th>\n",
       "      <th>delivery_type</th>\n",
       "      <th>is_returned</th>\n",
       "      <th>finished_at</th>\n",
       "    </tr>\n",
       "  </thead>\n",
       "  <tbody>\n",
       "    <tr>\n",
       "      <th>70722</th>\n",
       "      <td>2023-07-02 10:13:03</td>\n",
       "      <td>HNIS298117LV.810992841</td>\n",
       "      <td>SPX Express</td>\n",
       "      <td>10</td>\n",
       "      <td>Thành phố Hồ Chí Minh</td>\n",
       "      <td>Quận Tân Phú</td>\n",
       "      <td>Thành phố Hà Nội</td>\n",
       "      <td>Quận Ba Đình</td>\n",
       "      <td>Delivered | Giao hàng thành công</td>\n",
       "      <td>Cách Miền</td>\n",
       "      <td>7</td>\n",
       "      <td>2</td>\n",
       "      <td>2</td>\n",
       "      <td>Lấy Tận Nơi</td>\n",
       "      <td>False</td>\n",
       "      <td>2023-07-05 13:38:11</td>\n",
       "    </tr>\n",
       "    <tr>\n",
       "      <th>71071</th>\n",
       "      <td>2023-07-01 13:18:26</td>\n",
       "      <td>HNIS551164NM.810987207</td>\n",
       "      <td>SPX Express</td>\n",
       "      <td>500</td>\n",
       "      <td>Tỉnh Thanh Hóa</td>\n",
       "      <td>Huyện Nga Sơn</td>\n",
       "      <td>Thành phố Hà Nội</td>\n",
       "      <td>Quận Ba Đình</td>\n",
       "      <td>Returned | Trả hàng thành công</td>\n",
       "      <td>Nội Miền</td>\n",
       "      <td>5</td>\n",
       "      <td>3</td>\n",
       "      <td>1</td>\n",
       "      <td>Lấy Tận Nơi</td>\n",
       "      <td>False</td>\n",
       "      <td>NaT</td>\n",
       "    </tr>\n",
       "    <tr>\n",
       "      <th>71867</th>\n",
       "      <td>2023-06-27 12:02:12</td>\n",
       "      <td>HNIS551164NM.810955854</td>\n",
       "      <td>SPX Express</td>\n",
       "      <td>500</td>\n",
       "      <td>Tỉnh Thanh Hóa</td>\n",
       "      <td>Huyện Nga Sơn</td>\n",
       "      <td>Thành phố Hà Nội</td>\n",
       "      <td>Quận Ba Đình</td>\n",
       "      <td>Returned | Trả hàng thành công</td>\n",
       "      <td>Nội Miền</td>\n",
       "      <td>5</td>\n",
       "      <td>3</td>\n",
       "      <td>1</td>\n",
       "      <td>Lấy Tận Nơi</td>\n",
       "      <td>False</td>\n",
       "      <td>NaT</td>\n",
       "    </tr>\n",
       "    <tr>\n",
       "      <th>73030</th>\n",
       "      <td>2023-07-05 14:09:23</td>\n",
       "      <td>HNIS551164NM.811018030</td>\n",
       "      <td>SPX Express</td>\n",
       "      <td>500</td>\n",
       "      <td>Tỉnh Thanh Hóa</td>\n",
       "      <td>Huyện Nga Sơn</td>\n",
       "      <td>Thành phố Hà Nội</td>\n",
       "      <td>Quận Ba Đình</td>\n",
       "      <td>Delivered | Giao hàng thành công</td>\n",
       "      <td>Nội Miền</td>\n",
       "      <td>5</td>\n",
       "      <td>3</td>\n",
       "      <td>2</td>\n",
       "      <td>Lấy Tận Nơi</td>\n",
       "      <td>False</td>\n",
       "      <td>2023-07-07 13:55:17</td>\n",
       "    </tr>\n",
       "    <tr>\n",
       "      <th>73188</th>\n",
       "      <td>2023-07-04 17:21:23</td>\n",
       "      <td>HNIS285335NT.811006621</td>\n",
       "      <td>SPX Express</td>\n",
       "      <td>1000</td>\n",
       "      <td>Thành phố Hà Nội</td>\n",
       "      <td>Huyện Thanh Oai</td>\n",
       "      <td>Thành phố Hà Nội</td>\n",
       "      <td>Quận Ba Đình</td>\n",
       "      <td>Delivered | Giao hàng thành công</td>\n",
       "      <td>Nội Thành Tp.HCM - HN</td>\n",
       "      <td>3</td>\n",
       "      <td>1</td>\n",
       "      <td>1</td>\n",
       "      <td>Lấy Tận Nơi</td>\n",
       "      <td>False</td>\n",
       "      <td>2023-07-07 11:22:12</td>\n",
       "    </tr>\n",
       "    <tr>\n",
       "      <th>73565</th>\n",
       "      <td>2023-07-02 16:33:35</td>\n",
       "      <td>HNIS298117LV.810995575</td>\n",
       "      <td>SPX Express</td>\n",
       "      <td>10</td>\n",
       "      <td>Thành phố Hồ Chí Minh</td>\n",
       "      <td>Quận Tân Phú</td>\n",
       "      <td>Thành phố Hà Nội</td>\n",
       "      <td>Quận Ba Đình</td>\n",
       "      <td>Delivered | Giao hàng thành công</td>\n",
       "      <td>Cách Miền</td>\n",
       "      <td>7</td>\n",
       "      <td>2</td>\n",
       "      <td>1</td>\n",
       "      <td>Lấy Tận Nơi</td>\n",
       "      <td>False</td>\n",
       "      <td>2023-07-07 11:32:40</td>\n",
       "    </tr>\n",
       "    <tr>\n",
       "      <th>74756</th>\n",
       "      <td>2023-07-08 17:01:34</td>\n",
       "      <td>HNIS962775LV.811044163</td>\n",
       "      <td>SPX Express</td>\n",
       "      <td>100</td>\n",
       "      <td>Thành phố Hồ Chí Minh</td>\n",
       "      <td>Quận Tân Phú</td>\n",
       "      <td>Thành phố Hà Nội</td>\n",
       "      <td>Quận Ba Đình</td>\n",
       "      <td>Delivered | Giao hàng thành công</td>\n",
       "      <td>Cách Miền</td>\n",
       "      <td>7</td>\n",
       "      <td>2</td>\n",
       "      <td>1</td>\n",
       "      <td>Lấy Tận Nơi</td>\n",
       "      <td>False</td>\n",
       "      <td>2023-07-12 13:15:33</td>\n",
       "    </tr>\n",
       "  </tbody>\n",
       "</table>\n",
       "</div>"
      ],
      "text/plain": [
       "       carrier_created_at                order_id      carrier  weight        sender_province  sender_district receiver_province receiver_district                      order_status             order_type  order_type_id  sys_order_type_id  n_deliveries delivery_type  is_returned         finished_at\n",
       "70722 2023-07-02 10:13:03  HNIS298117LV.810992841  SPX Express  10      Thành phố Hồ Chí Minh  Quận Tân Phú     Thành phố Hà Nội  Quận Ba Đình      Delivered | Giao hàng thành công  Cách Miền              7              2                  2             Lấy Tận Nơi   False       2023-07-05 13:38:11\n",
       "71071 2023-07-01 13:18:26  HNIS551164NM.810987207  SPX Express  500     Tỉnh Thanh Hóa         Huyện Nga Sơn    Thành phố Hà Nội  Quận Ba Đình      Returned | Trả hàng thành công    Nội Miền               5              3                  1             Lấy Tận Nơi   False       NaT                \n",
       "71867 2023-06-27 12:02:12  HNIS551164NM.810955854  SPX Express  500     Tỉnh Thanh Hóa         Huyện Nga Sơn    Thành phố Hà Nội  Quận Ba Đình      Returned | Trả hàng thành công    Nội Miền               5              3                  1             Lấy Tận Nơi   False       NaT                \n",
       "73030 2023-07-05 14:09:23  HNIS551164NM.811018030  SPX Express  500     Tỉnh Thanh Hóa         Huyện Nga Sơn    Thành phố Hà Nội  Quận Ba Đình      Delivered | Giao hàng thành công  Nội Miền               5              3                  2             Lấy Tận Nơi   False       2023-07-07 13:55:17\n",
       "73188 2023-07-04 17:21:23  HNIS285335NT.811006621  SPX Express  1000    Thành phố Hà Nội       Huyện Thanh Oai  Thành phố Hà Nội  Quận Ba Đình      Delivered | Giao hàng thành công  Nội Thành Tp.HCM - HN  3              1                  1             Lấy Tận Nơi   False       2023-07-07 11:22:12\n",
       "73565 2023-07-02 16:33:35  HNIS298117LV.810995575  SPX Express  10      Thành phố Hồ Chí Minh  Quận Tân Phú     Thành phố Hà Nội  Quận Ba Đình      Delivered | Giao hàng thành công  Cách Miền              7              2                  1             Lấy Tận Nơi   False       2023-07-07 11:32:40\n",
       "74756 2023-07-08 17:01:34  HNIS962775LV.811044163  SPX Express  100     Thành phố Hồ Chí Minh  Quận Tân Phú     Thành phố Hà Nội  Quận Ba Đình      Delivered | Giao hàng thành công  Cách Miền              7              2                  1             Lấy Tận Nơi   False       2023-07-12 13:15:33"
      ]
     },
     "execution_count": 154,
     "metadata": {},
     "output_type": "execute_result"
    }
   ],
   "source": [
    "# case ở hình dưới\n",
    "# có 7 đơn, 5/7 giao thành công (71.43%)\n",
    "# estimate_delivery_time_details chỉ tính theo đơn nội miền (vì nó có 4 cấp)\n",
    "# có 3 đơn nội miền, 1 đơn hợp lệ (2 đơn bị loại do không có finished_at)\n",
    "# lấy delta_time ~1.99 ngày\n",
    "\n",
    "giao_dich_valid.loc[\n",
    "    (giao_dich_valid['receiver_province'] == 'Thành phố Hà Nội')\n",
    "    &(giao_dich_valid['receiver_district'] == 'Quận Ba Đình')\n",
    "    &(giao_dich_valid['carrier'] == 'SPX Express')\n",
    "]"
   ]
  },
  {
   "cell_type": "code",
   "execution_count": 156,
   "id": "14eeea5f-2dae-4894-9afd-2ca8e275226c",
   "metadata": {
    "execution": {
     "iopub.execute_input": "2023-11-05T15:03:18.167075Z",
     "iopub.status.busy": "2023-11-05T15:03:18.166489Z",
     "iopub.status.idle": "2023-11-05T15:03:18.172213Z",
     "shell.execute_reply": "2023-11-05T15:03:18.171001Z",
     "shell.execute_reply.started": "2023-11-05T15:03:18.167011Z"
    }
   },
   "outputs": [],
   "source": [
    "# customer_best_carrier: Trả về nhà vận chuyển tốt nhất cho khách hàng\n",
    "## Hiệu quả nhất: tính threshold dựa vào 2 khía cạnh:\n",
    "## Khách hàng: giao nhanh và tỉ lệ giao hàng thành công cao => define công thức tính ra con số threshold"
   ]
  },
  {
   "cell_type": "code",
   "execution_count": 157,
   "id": "225b8a2f-059f-4ba0-a345-e202dfa5b345",
   "metadata": {
    "execution": {
     "iopub.execute_input": "2023-11-05T15:03:20.430336Z",
     "iopub.status.busy": "2023-11-05T15:03:20.429789Z",
     "iopub.status.idle": "2023-11-05T15:03:20.483061Z",
     "shell.execute_reply": "2023-11-05T15:03:20.481858Z",
     "shell.execute_reply.started": "2023-11-05T15:03:20.430272Z"
    }
   },
   "outputs": [
    {
     "data": {
      "text/html": [
       "<div>\n",
       "<style scoped>\n",
       "    .dataframe tbody tr th:only-of-type {\n",
       "        vertical-align: middle;\n",
       "    }\n",
       "\n",
       "    .dataframe tbody tr th {\n",
       "        vertical-align: top;\n",
       "    }\n",
       "\n",
       "    .dataframe thead th {\n",
       "        text-align: right;\n",
       "    }\n",
       "</style>\n",
       "<table border=\"1\" class=\"dataframe\">\n",
       "  <thead>\n",
       "    <tr style=\"text-align: right;\">\n",
       "      <th></th>\n",
       "      <th>receiver_province_id</th>\n",
       "      <th>receiver_province</th>\n",
       "      <th>receiver_district_id</th>\n",
       "      <th>receiver_district</th>\n",
       "      <th>carrier_id</th>\n",
       "      <th>carrier</th>\n",
       "      <th>order_type</th>\n",
       "      <th>order_type_id</th>\n",
       "      <th>carrier_status</th>\n",
       "      <th>estimate_delivery_time_details</th>\n",
       "      <th>total_order</th>\n",
       "      <th>estimate_delivery_time</th>\n",
       "      <th>delivery_success_rate</th>\n",
       "      <th>score</th>\n",
       "      <th>stars</th>\n",
       "    </tr>\n",
       "  </thead>\n",
       "  <tbody>\n",
       "    <tr>\n",
       "      <th>0</th>\n",
       "      <td>01</td>\n",
       "      <td>Thành phố Hà Nội</td>\n",
       "      <td>001</td>\n",
       "      <td>Quận Ba Đình</td>\n",
       "      <td>1</td>\n",
       "      <td>GHTK</td>\n",
       "      <td>Nội Miền</td>\n",
       "      <td>5</td>\n",
       "      <td>Bình thường</td>\n",
       "      <td>2.00</td>\n",
       "      <td>2</td>\n",
       "      <td>2.0 - 2.5 ngày</td>\n",
       "      <td>100.00</td>\n",
       "      <td>0.51</td>\n",
       "      <td>4</td>\n",
       "    </tr>\n",
       "    <tr>\n",
       "      <th>7</th>\n",
       "      <td>01</td>\n",
       "      <td>Thành phố Hà Nội</td>\n",
       "      <td>001</td>\n",
       "      <td>Quận Ba Đình</td>\n",
       "      <td>2</td>\n",
       "      <td>GHN</td>\n",
       "      <td>Nội Miền</td>\n",
       "      <td>5</td>\n",
       "      <td>Bình thường</td>\n",
       "      <td>2.00</td>\n",
       "      <td>11</td>\n",
       "      <td>2.0 - 2.5 ngày</td>\n",
       "      <td>90.91</td>\n",
       "      <td>0.66</td>\n",
       "      <td>4</td>\n",
       "    </tr>\n",
       "    <tr>\n",
       "      <th>14</th>\n",
       "      <td>01</td>\n",
       "      <td>Thành phố Hà Nội</td>\n",
       "      <td>001</td>\n",
       "      <td>Quận Ba Đình</td>\n",
       "      <td>4</td>\n",
       "      <td>Viettel Post</td>\n",
       "      <td>Nội Miền</td>\n",
       "      <td>5</td>\n",
       "      <td>Bình thường</td>\n",
       "      <td>2.92</td>\n",
       "      <td>13</td>\n",
       "      <td>3.0 - 3.5 ngày</td>\n",
       "      <td>100.00</td>\n",
       "      <td>0.65</td>\n",
       "      <td>4</td>\n",
       "    </tr>\n",
       "    <tr>\n",
       "      <th>21</th>\n",
       "      <td>01</td>\n",
       "      <td>Thành phố Hà Nội</td>\n",
       "      <td>001</td>\n",
       "      <td>Quận Ba Đình</td>\n",
       "      <td>6</td>\n",
       "      <td>BEST Express</td>\n",
       "      <td>Nội Miền</td>\n",
       "      <td>5</td>\n",
       "      <td>Bình thường</td>\n",
       "      <td>1.58</td>\n",
       "      <td>212</td>\n",
       "      <td>2.0 - 2.5 ngày</td>\n",
       "      <td>88.68</td>\n",
       "      <td>1.00</td>\n",
       "      <td>5</td>\n",
       "    </tr>\n",
       "    <tr>\n",
       "      <th>28</th>\n",
       "      <td>01</td>\n",
       "      <td>Thành phố Hà Nội</td>\n",
       "      <td>001</td>\n",
       "      <td>Quận Ba Đình</td>\n",
       "      <td>7</td>\n",
       "      <td>Ninja Van</td>\n",
       "      <td>Nội Miền</td>\n",
       "      <td>5</td>\n",
       "      <td>Bình thường</td>\n",
       "      <td>2.00</td>\n",
       "      <td>34</td>\n",
       "      <td>2.0 - 2.5 ngày</td>\n",
       "      <td>97.06</td>\n",
       "      <td>0.69</td>\n",
       "      <td>4</td>\n",
       "    </tr>\n",
       "    <tr>\n",
       "      <th>35</th>\n",
       "      <td>01</td>\n",
       "      <td>Thành phố Hà Nội</td>\n",
       "      <td>001</td>\n",
       "      <td>Quận Ba Đình</td>\n",
       "      <td>10</td>\n",
       "      <td>SPX Express</td>\n",
       "      <td>Nội Miền</td>\n",
       "      <td>5</td>\n",
       "      <td>Bình thường</td>\n",
       "      <td>1.99</td>\n",
       "      <td>7</td>\n",
       "      <td>2.0 - 2.5 ngày</td>\n",
       "      <td>71.43</td>\n",
       "      <td>0.47</td>\n",
       "      <td>3</td>\n",
       "    </tr>\n",
       "  </tbody>\n",
       "</table>\n",
       "</div>"
      ],
      "text/plain": [
       "   receiver_province_id receiver_province receiver_district_id receiver_district  carrier_id       carrier order_type  order_type_id carrier_status  estimate_delivery_time_details  total_order estimate_delivery_time  delivery_success_rate  score  stars\n",
       "0   01                   Thành phố Hà Nội  001                  Quận Ba Đình      1           GHTK          Nội Miền   5              Bình thường    2.00                            2            2.0 - 2.5 ngày         100.00                 0.51   4    \n",
       "7   01                   Thành phố Hà Nội  001                  Quận Ba Đình      2           GHN           Nội Miền   5              Bình thường    2.00                            11           2.0 - 2.5 ngày         90.91                  0.66   4    \n",
       "14  01                   Thành phố Hà Nội  001                  Quận Ba Đình      4           Viettel Post  Nội Miền   5              Bình thường    2.92                            13           3.0 - 3.5 ngày         100.00                 0.65   4    \n",
       "21  01                   Thành phố Hà Nội  001                  Quận Ba Đình      6           BEST Express  Nội Miền   5              Bình thường    1.58                            212          2.0 - 2.5 ngày         88.68                  1.00   5    \n",
       "28  01                   Thành phố Hà Nội  001                  Quận Ba Đình      7           Ninja Van     Nội Miền   5              Bình thường    2.00                            34           2.0 - 2.5 ngày         97.06                  0.69   4    \n",
       "35  01                   Thành phố Hà Nội  001                  Quận Ba Đình      10          SPX Express   Nội Miền   5              Bình thường    1.99                            7            2.0 - 2.5 ngày         71.43                  0.47   3    "
      ]
     },
     "execution_count": 157,
     "metadata": {},
     "output_type": "execute_result"
    }
   ],
   "source": [
    "data_api_df.loc[\n",
    "    (data_api_df['receiver_province'] == 'Thành phố Hà Nội')\n",
    "    &(data_api_df['receiver_district'] == 'Quận Ba Đình')\n",
    "    &(data_api_df['order_type'] == 'Nội Miền')\n",
    "]"
   ]
  },
  {
   "cell_type": "code",
   "execution_count": 219,
   "id": "acc5d64c-371d-4f33-a951-404e8611f591",
   "metadata": {
    "execution": {
     "iopub.execute_input": "2023-11-05T15:57:18.685575Z",
     "iopub.status.busy": "2023-11-05T15:57:18.684974Z",
     "iopub.status.idle": "2023-11-05T15:57:18.709166Z",
     "shell.execute_reply": "2023-11-05T15:57:18.707943Z",
     "shell.execute_reply.started": "2023-11-05T15:57:18.685489Z"
    }
   },
   "outputs": [
    {
     "data": {
      "text/plain": [
       "1-15     16940\n",
       "0        4802 \n",
       "30++     4774 \n",
       "16-30    3430 \n",
       "Name: segment, dtype: int64"
      ]
     },
     "execution_count": 219,
     "metadata": {},
     "output_type": "execute_result"
    }
   ],
   "source": [
    "data_api_df_copy = data_api_df.copy()\n",
    "data_api_df_copy['segment'] = pd.cut(data_api_df_copy['total_order'], \\\n",
    "                                         bins=[-1, 0, 15, 30, np.inf], \\\n",
    "                                        labels=['0', '1-15', '16-30', '30++'])\n",
    "# data_api_df_copy[data_api_df_copy['segment_id'].isna()]\n",
    "# sorted(data_api_df_copy['segment_id'].unique().tolist())\n",
    "data_api_df_copy['segment'].value_counts()\n",
    "# data_api_df_copy.groupby('segment_id').agg(min_f = ('total_order', 'min'), max_f = ('total_order', 'max'))"
   ]
  },
  {
   "cell_type": "code",
   "execution_count": 220,
   "id": "51dee5c3-7455-4b6a-af2e-b923b97ed1bf",
   "metadata": {
    "execution": {
     "iopub.execute_input": "2023-11-05T15:57:29.587783Z",
     "iopub.status.busy": "2023-11-05T15:57:29.587188Z",
     "iopub.status.idle": "2023-11-05T15:57:29.648997Z",
     "shell.execute_reply": "2023-11-05T15:57:29.647714Z",
     "shell.execute_reply.started": "2023-11-05T15:57:29.587718Z"
    }
   },
   "outputs": [
    {
     "data": {
      "text/plain": [
       "BEST Express    2166\n",
       "Ninja Van       1405\n",
       "GHN             535 \n",
       "GHTK            481 \n",
       "SPX Express     220 \n",
       "Viettel Post    184 \n",
       "Name: customer_best_carrier, dtype: int64"
      ]
     },
     "execution_count": 220,
     "metadata": {},
     "output_type": "execute_result"
    }
   ],
   "source": [
    "customer_best_carrier = (\n",
    "    data_api_df_copy.sort_values(['segment', 'delivery_success_rate', 'estimate_delivery_time_details'], ascending=[False, False, False])\n",
    "    .drop_duplicates(['receiver_province', 'receiver_district', 'order_type'], keep='first')\n",
    "    [['receiver_province', 'receiver_district', 'order_type', 'carrier']]\n",
    "    .rename(columns={'carrier': 'customer_best_carrier'})\n",
    ")\n",
    "customer_best_carrier['customer_best_carrier'].value_counts()"
   ]
  },
  {
   "cell_type": "code",
   "execution_count": 250,
   "id": "12951d06-3440-405e-a552-764dd4b000e0",
   "metadata": {
    "execution": {
     "iopub.execute_input": "2023-11-05T16:28:13.075197Z",
     "iopub.status.busy": "2023-11-05T16:28:13.074606Z",
     "iopub.status.idle": "2023-11-05T16:28:13.090043Z",
     "shell.execute_reply": "2023-11-05T16:28:13.088725Z",
     "shell.execute_reply.started": "2023-11-05T16:28:13.075131Z"
    }
   },
   "outputs": [],
   "source": [
    "def customer_best_carrier(data_api_df, threshold=15):\n",
    "    df1 = data_api_df.loc[data_api_df['total_order'] > threshold]\n",
    "    df2 = data_api_df.loc[(data_api_df['total_order'] >= 1) & (data_api_df['total_order'] <= threshold)]\n",
    "    df3 = data_api_df.loc[data_api_df['total_order'] == 0]\n",
    "\n",
    "    group1 = (\n",
    "        df1.sort_values(['delivery_success_rate', 'estimate_delivery_time_details'], ascending=[False, False])\n",
    "        .drop_duplicates(['receiver_province', 'receiver_district', 'order_type'], keep='first')\n",
    "        [['receiver_province', 'receiver_district', 'order_type', 'carrier']]\n",
    "        .rename(columns={'carrier': 'customer_best_carrier'})\n",
    "    )\n",
    "    group2 = (\n",
    "        df2.sort_values(['estimate_delivery_time_details', 'delivery_success_rate'], ascending=[False, False])\n",
    "        .drop_duplicates(['receiver_province', 'receiver_district', 'order_type'], keep='first')\n",
    "        [['receiver_province', 'receiver_district', 'order_type', 'carrier']]\n",
    "        .rename(columns={'carrier': 'customer_best_carrier'})\n",
    "    )\n",
    "    group3 = df3[['receiver_province', 'receiver_district', 'order_type']].drop_duplicates()\n",
    "    group3['customer_best_carrier'] = 'Chưa xác định'\n",
    "    \n",
    "    customer_best_carrier_df = pd.concat([group1, group2, group3]).drop_duplicates(['receiver_province', 'receiver_district', 'order_type'], keep='first')\n",
    "\n",
    "    return customer_best_carrier_df"
   ]
  },
  {
   "cell_type": "code",
   "execution_count": 251,
   "id": "a3632557-cd4d-45c7-8850-4b323d9ca8fb",
   "metadata": {
    "execution": {
     "iopub.execute_input": "2023-11-05T16:28:14.203878Z",
     "iopub.status.busy": "2023-11-05T16:28:14.203290Z",
     "iopub.status.idle": "2023-11-05T16:28:14.300234Z",
     "shell.execute_reply": "2023-11-05T16:28:14.299063Z",
     "shell.execute_reply.started": "2023-11-05T16:28:14.203813Z"
    }
   },
   "outputs": [
    {
     "data": {
      "text/plain": [
       "BEST Express     1641\n",
       "Ninja Van        1486\n",
       "GHN              691 \n",
       "GHTK             493 \n",
       "SPX Express      353 \n",
       "Viettel Post     264 \n",
       "Chưa xác định    63  \n",
       "Name: customer_best_carrier, dtype: int64"
      ]
     },
     "execution_count": 251,
     "metadata": {},
     "output_type": "execute_result"
    }
   ],
   "source": [
    "customer_best_carrier_df = customer_best_carrier(data_api_df)\n",
    "customer_best_carrier_df['customer_best_carrier'].value_counts()"
   ]
  },
  {
   "cell_type": "code",
   "execution_count": 243,
   "id": "47ab6c3c-b574-47e0-ac55-72c97ea6ddf9",
   "metadata": {
    "execution": {
     "iopub.execute_input": "2023-11-05T16:14:43.458089Z",
     "iopub.status.busy": "2023-11-05T16:14:43.457508Z",
     "iopub.status.idle": "2023-11-05T16:14:43.517400Z",
     "shell.execute_reply": "2023-11-05T16:14:43.516226Z",
     "shell.execute_reply.started": "2023-11-05T16:14:43.458026Z"
    }
   },
   "outputs": [
    {
     "data": {
      "text/plain": [
       "(29946, 29946)"
      ]
     },
     "execution_count": 243,
     "metadata": {},
     "output_type": "execute_result"
    }
   ],
   "source": [
    "data_api_df1 = data_api_df.merge(customer_best_carrier_df, on=['receiver_province', 'receiver_district', 'order_type'], how='inner')\n",
    "len(data_api_df1), len(data_api_df)"
   ]
  },
  {
   "cell_type": "code",
   "execution_count": 244,
   "id": "96fa1918-a7b4-45bd-9832-af6680573468",
   "metadata": {
    "execution": {
     "iopub.execute_input": "2023-11-05T16:14:44.871408Z",
     "iopub.status.busy": "2023-11-05T16:14:44.870854Z",
     "iopub.status.idle": "2023-11-05T16:14:44.886243Z",
     "shell.execute_reply": "2023-11-05T16:14:44.885087Z",
     "shell.execute_reply.started": "2023-11-05T16:14:44.871344Z"
    }
   },
   "outputs": [
    {
     "data": {
      "text/plain": [
       "BEST Express     9846\n",
       "Ninja Van        8916\n",
       "GHN              4146\n",
       "GHTK             2958\n",
       "SPX Express      2118\n",
       "Viettel Post     1584\n",
       "Chưa xác định    378 \n",
       "Name: customer_best_carrier, dtype: int64"
      ]
     },
     "execution_count": 244,
     "metadata": {},
     "output_type": "execute_result"
    }
   ],
   "source": [
    "data_api_df1['customer_best_carrier'].value_counts()"
   ]
  },
  {
   "cell_type": "code",
   "execution_count": 245,
   "id": "97d0deec-31bd-4b5c-bef9-2cbc20257d39",
   "metadata": {
    "execution": {
     "iopub.execute_input": "2023-11-05T16:14:46.028271Z",
     "iopub.status.busy": "2023-11-05T16:14:46.027707Z",
     "iopub.status.idle": "2023-11-05T16:14:46.057705Z",
     "shell.execute_reply": "2023-11-05T16:14:46.056457Z",
     "shell.execute_reply.started": "2023-11-05T16:14:46.028207Z"
    }
   },
   "outputs": [
    {
     "data": {
      "text/plain": [
       "BEST Express     1818\n",
       "Ninja Van        1234\n",
       "GHN              563 \n",
       "GHTK             554 \n",
       "Chưa xác định    378 \n",
       "SPX Express      172 \n",
       "Viettel Post     83  \n",
       "Name: customer_best_carrier, dtype: int64"
      ]
     },
     "execution_count": 245,
     "metadata": {},
     "output_type": "execute_result"
    }
   ],
   "source": [
    "data_api_df1.loc[data_api_df1['total_order'] == 0]['customer_best_carrier'].value_counts()"
   ]
  },
  {
   "cell_type": "code",
   "execution_count": 246,
   "id": "10e247e9-cb18-4fd3-9a34-76ea961c2909",
   "metadata": {
    "execution": {
     "iopub.execute_input": "2023-11-05T16:14:50.009219Z",
     "iopub.status.busy": "2023-11-05T16:14:50.008657Z",
     "iopub.status.idle": "2023-11-05T16:14:50.026819Z",
     "shell.execute_reply": "2023-11-05T16:14:50.025566Z",
     "shell.execute_reply.started": "2023-11-05T16:14:50.009154Z"
    }
   },
   "outputs": [
    {
     "data": {
      "text/plain": [
       "0    378\n",
       "Name: total_order, dtype: int64"
      ]
     },
     "execution_count": 246,
     "metadata": {},
     "output_type": "execute_result"
    }
   ],
   "source": [
    "data_api_df1.loc[data_api_df1['customer_best_carrier'] == 'Chưa xác định']['total_order'].value_counts()"
   ]
  },
  {
   "cell_type": "code",
   "execution_count": null,
   "id": "d71da0b9-390b-40f2-bc61-9667c4cfbd88",
   "metadata": {},
   "outputs": [],
   "source": []
  },
  {
   "cell_type": "code",
   "execution_count": null,
   "id": "2735365d-378d-46a8-af78-9ee039066a44",
   "metadata": {},
   "outputs": [],
   "source": []
  },
  {
   "cell_type": "code",
   "execution_count": null,
   "id": "4711382e-6c13-45eb-a343-935773b932e2",
   "metadata": {},
   "outputs": [],
   "source": []
  },
  {
   "cell_type": "code",
   "execution_count": null,
   "id": "6a412605-51ab-465f-90d9-9441e4eef3dd",
   "metadata": {},
   "outputs": [],
   "source": []
  },
  {
   "cell_type": "code",
   "execution_count": null,
   "id": "f32fff4f-a128-42aa-b515-cf42df9a572b",
   "metadata": {},
   "outputs": [],
   "source": []
  }
 ],
 "metadata": {
  "kernelspec": {
   "display_name": "trinhlk2-python37",
   "language": "python",
   "name": "trinhlk2-python37"
  },
  "language_info": {
   "codemirror_mode": {
    "name": "ipython",
    "version": 3
   },
   "file_extension": ".py",
   "mimetype": "text/x-python",
   "name": "python",
   "nbconvert_exporter": "python",
   "pygments_lexer": "ipython3",
   "version": "3.7.10"
  }
 },
 "nbformat": 4,
 "nbformat_minor": 5
}
